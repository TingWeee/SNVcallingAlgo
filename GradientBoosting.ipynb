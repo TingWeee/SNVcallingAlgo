{
 "cells": [
  {
   "cell_type": "code",
   "execution_count": 4,
   "metadata": {},
   "outputs": [],
   "source": [
    "import allel\n",
    "import numpy as np\n",
    "import pandas as pd\n",
    "from functools import reduce\n",
    "import pprint"
   ]
  },
  {
   "cell_type": "code",
   "execution_count": 5,
   "metadata": {
    "collapsed": true
   },
   "outputs": [
    {
     "ename": "KeyboardInterrupt",
     "evalue": "",
     "output_type": "error",
     "traceback": [
      "\u001b[0;31m---------------------------------------------------------------------------\u001b[0m",
      "\u001b[0;31mKeyboardInterrupt\u001b[0m                         Traceback (most recent call last)",
      "Input \u001b[0;32mIn [5]\u001b[0m, in \u001b[0;36m<cell line: 1>\u001b[0;34m()\u001b[0m\n\u001b[0;32m----> 1\u001b[0m merged_df \u001b[38;5;241m=\u001b[39m \u001b[43mpd\u001b[49m\u001b[38;5;241;43m.\u001b[39;49m\u001b[43mread_csv\u001b[49m\u001b[43m(\u001b[49m\u001b[38;5;124;43m\"\u001b[39;49m\u001b[38;5;124;43mreal1_mergered_df.csv\u001b[39;49m\u001b[38;5;124;43m\"\u001b[39;49m\u001b[43m,\u001b[49m\u001b[43mindex_col\u001b[49m\u001b[38;5;241;43m=\u001b[39;49m\u001b[38;5;241;43m0\u001b[39;49m\u001b[43m)\u001b[49m\n",
      "File \u001b[0;32m~/opt/anaconda3/lib/python3.9/site-packages/pandas/util/_decorators.py:311\u001b[0m, in \u001b[0;36mdeprecate_nonkeyword_arguments.<locals>.decorate.<locals>.wrapper\u001b[0;34m(*args, **kwargs)\u001b[0m\n\u001b[1;32m    305\u001b[0m \u001b[38;5;28;01mif\u001b[39;00m \u001b[38;5;28mlen\u001b[39m(args) \u001b[38;5;241m>\u001b[39m num_allow_args:\n\u001b[1;32m    306\u001b[0m     warnings\u001b[38;5;241m.\u001b[39mwarn(\n\u001b[1;32m    307\u001b[0m         msg\u001b[38;5;241m.\u001b[39mformat(arguments\u001b[38;5;241m=\u001b[39marguments),\n\u001b[1;32m    308\u001b[0m         \u001b[38;5;167;01mFutureWarning\u001b[39;00m,\n\u001b[1;32m    309\u001b[0m         stacklevel\u001b[38;5;241m=\u001b[39mstacklevel,\n\u001b[1;32m    310\u001b[0m     )\n\u001b[0;32m--> 311\u001b[0m \u001b[38;5;28;01mreturn\u001b[39;00m \u001b[43mfunc\u001b[49m\u001b[43m(\u001b[49m\u001b[38;5;241;43m*\u001b[39;49m\u001b[43margs\u001b[49m\u001b[43m,\u001b[49m\u001b[43m \u001b[49m\u001b[38;5;241;43m*\u001b[39;49m\u001b[38;5;241;43m*\u001b[39;49m\u001b[43mkwargs\u001b[49m\u001b[43m)\u001b[49m\n",
      "File \u001b[0;32m~/opt/anaconda3/lib/python3.9/site-packages/pandas/io/parsers/readers.py:680\u001b[0m, in \u001b[0;36mread_csv\u001b[0;34m(filepath_or_buffer, sep, delimiter, header, names, index_col, usecols, squeeze, prefix, mangle_dupe_cols, dtype, engine, converters, true_values, false_values, skipinitialspace, skiprows, skipfooter, nrows, na_values, keep_default_na, na_filter, verbose, skip_blank_lines, parse_dates, infer_datetime_format, keep_date_col, date_parser, dayfirst, cache_dates, iterator, chunksize, compression, thousands, decimal, lineterminator, quotechar, quoting, doublequote, escapechar, comment, encoding, encoding_errors, dialect, error_bad_lines, warn_bad_lines, on_bad_lines, delim_whitespace, low_memory, memory_map, float_precision, storage_options)\u001b[0m\n\u001b[1;32m    665\u001b[0m kwds_defaults \u001b[38;5;241m=\u001b[39m _refine_defaults_read(\n\u001b[1;32m    666\u001b[0m     dialect,\n\u001b[1;32m    667\u001b[0m     delimiter,\n\u001b[0;32m   (...)\u001b[0m\n\u001b[1;32m    676\u001b[0m     defaults\u001b[38;5;241m=\u001b[39m{\u001b[38;5;124m\"\u001b[39m\u001b[38;5;124mdelimiter\u001b[39m\u001b[38;5;124m\"\u001b[39m: \u001b[38;5;124m\"\u001b[39m\u001b[38;5;124m,\u001b[39m\u001b[38;5;124m\"\u001b[39m},\n\u001b[1;32m    677\u001b[0m )\n\u001b[1;32m    678\u001b[0m kwds\u001b[38;5;241m.\u001b[39mupdate(kwds_defaults)\n\u001b[0;32m--> 680\u001b[0m \u001b[38;5;28;01mreturn\u001b[39;00m \u001b[43m_read\u001b[49m\u001b[43m(\u001b[49m\u001b[43mfilepath_or_buffer\u001b[49m\u001b[43m,\u001b[49m\u001b[43m \u001b[49m\u001b[43mkwds\u001b[49m\u001b[43m)\u001b[49m\n",
      "File \u001b[0;32m~/opt/anaconda3/lib/python3.9/site-packages/pandas/io/parsers/readers.py:581\u001b[0m, in \u001b[0;36m_read\u001b[0;34m(filepath_or_buffer, kwds)\u001b[0m\n\u001b[1;32m    578\u001b[0m     \u001b[38;5;28;01mreturn\u001b[39;00m parser\n\u001b[1;32m    580\u001b[0m \u001b[38;5;28;01mwith\u001b[39;00m parser:\n\u001b[0;32m--> 581\u001b[0m     \u001b[38;5;28;01mreturn\u001b[39;00m \u001b[43mparser\u001b[49m\u001b[38;5;241;43m.\u001b[39;49m\u001b[43mread\u001b[49m\u001b[43m(\u001b[49m\u001b[43mnrows\u001b[49m\u001b[43m)\u001b[49m\n",
      "File \u001b[0;32m~/opt/anaconda3/lib/python3.9/site-packages/pandas/io/parsers/readers.py:1254\u001b[0m, in \u001b[0;36mTextFileReader.read\u001b[0;34m(self, nrows)\u001b[0m\n\u001b[1;32m   1252\u001b[0m nrows \u001b[38;5;241m=\u001b[39m validate_integer(\u001b[38;5;124m\"\u001b[39m\u001b[38;5;124mnrows\u001b[39m\u001b[38;5;124m\"\u001b[39m, nrows)\n\u001b[1;32m   1253\u001b[0m \u001b[38;5;28;01mtry\u001b[39;00m:\n\u001b[0;32m-> 1254\u001b[0m     index, columns, col_dict \u001b[38;5;241m=\u001b[39m \u001b[38;5;28;43mself\u001b[39;49m\u001b[38;5;241;43m.\u001b[39;49m\u001b[43m_engine\u001b[49m\u001b[38;5;241;43m.\u001b[39;49m\u001b[43mread\u001b[49m\u001b[43m(\u001b[49m\u001b[43mnrows\u001b[49m\u001b[43m)\u001b[49m\n\u001b[1;32m   1255\u001b[0m \u001b[38;5;28;01mexcept\u001b[39;00m \u001b[38;5;167;01mException\u001b[39;00m:\n\u001b[1;32m   1256\u001b[0m     \u001b[38;5;28mself\u001b[39m\u001b[38;5;241m.\u001b[39mclose()\n",
      "File \u001b[0;32m~/opt/anaconda3/lib/python3.9/site-packages/pandas/io/parsers/c_parser_wrapper.py:225\u001b[0m, in \u001b[0;36mCParserWrapper.read\u001b[0;34m(self, nrows)\u001b[0m\n\u001b[1;32m    223\u001b[0m \u001b[38;5;28;01mtry\u001b[39;00m:\n\u001b[1;32m    224\u001b[0m     \u001b[38;5;28;01mif\u001b[39;00m \u001b[38;5;28mself\u001b[39m\u001b[38;5;241m.\u001b[39mlow_memory:\n\u001b[0;32m--> 225\u001b[0m         chunks \u001b[38;5;241m=\u001b[39m \u001b[38;5;28;43mself\u001b[39;49m\u001b[38;5;241;43m.\u001b[39;49m\u001b[43m_reader\u001b[49m\u001b[38;5;241;43m.\u001b[39;49m\u001b[43mread_low_memory\u001b[49m\u001b[43m(\u001b[49m\u001b[43mnrows\u001b[49m\u001b[43m)\u001b[49m\n\u001b[1;32m    226\u001b[0m         \u001b[38;5;66;03m# destructive to chunks\u001b[39;00m\n\u001b[1;32m    227\u001b[0m         data \u001b[38;5;241m=\u001b[39m _concatenate_chunks(chunks)\n",
      "File \u001b[0;32m~/opt/anaconda3/lib/python3.9/site-packages/pandas/_libs/parsers.pyx:805\u001b[0m, in \u001b[0;36mpandas._libs.parsers.TextReader.read_low_memory\u001b[0;34m()\u001b[0m\n",
      "File \u001b[0;32m~/opt/anaconda3/lib/python3.9/site-packages/pandas/_libs/parsers.pyx:883\u001b[0m, in \u001b[0;36mpandas._libs.parsers.TextReader._read_rows\u001b[0;34m()\u001b[0m\n",
      "File \u001b[0;32m~/opt/anaconda3/lib/python3.9/site-packages/pandas/_libs/parsers.pyx:1038\u001b[0m, in \u001b[0;36mpandas._libs.parsers.TextReader._convert_column_data\u001b[0;34m()\u001b[0m\n",
      "File \u001b[0;32m~/opt/anaconda3/lib/python3.9/site-packages/pandas/core/dtypes/common.py:1429\u001b[0m, in \u001b[0;36mis_extension_array_dtype\u001b[0;34m(arr_or_dtype)\u001b[0m\n\u001b[1;32m   1420\u001b[0m     \u001b[38;5;66;03m# Note: if other EA dtypes are ever held in HybridBlock, exclude those\u001b[39;00m\n\u001b[1;32m   1421\u001b[0m     \u001b[38;5;66;03m#  here too.\u001b[39;00m\n\u001b[1;32m   1422\u001b[0m     \u001b[38;5;66;03m# NB: need to check DatetimeTZDtype and not is_datetime64tz_dtype\u001b[39;00m\n\u001b[1;32m   1423\u001b[0m     \u001b[38;5;66;03m#  to exclude ArrowTimestampUSDtype\u001b[39;00m\n\u001b[1;32m   1424\u001b[0m     \u001b[38;5;28;01mreturn\u001b[39;00m \u001b[38;5;28misinstance\u001b[39m(dtype, ExtensionDtype) \u001b[38;5;129;01mand\u001b[39;00m \u001b[38;5;129;01mnot\u001b[39;00m \u001b[38;5;28misinstance\u001b[39m(\n\u001b[1;32m   1425\u001b[0m         dtype, (DatetimeTZDtype, PeriodDtype)\n\u001b[1;32m   1426\u001b[0m     )\n\u001b[0;32m-> 1429\u001b[0m \u001b[38;5;28;01mdef\u001b[39;00m \u001b[38;5;21mis_extension_array_dtype\u001b[39m(arr_or_dtype) \u001b[38;5;241m-\u001b[39m\u001b[38;5;241m>\u001b[39m \u001b[38;5;28mbool\u001b[39m:\n\u001b[1;32m   1430\u001b[0m     \u001b[38;5;124;03m\"\"\"\u001b[39;00m\n\u001b[1;32m   1431\u001b[0m \u001b[38;5;124;03m    Check if an object is a pandas extension array type.\u001b[39;00m\n\u001b[1;32m   1432\u001b[0m \n\u001b[0;32m   (...)\u001b[0m\n\u001b[1;32m   1472\u001b[0m \u001b[38;5;124;03m    False\u001b[39;00m\n\u001b[1;32m   1473\u001b[0m \u001b[38;5;124;03m    \"\"\"\u001b[39;00m\n\u001b[1;32m   1474\u001b[0m     dtype \u001b[38;5;241m=\u001b[39m \u001b[38;5;28mgetattr\u001b[39m(arr_or_dtype, \u001b[38;5;124m\"\u001b[39m\u001b[38;5;124mdtype\u001b[39m\u001b[38;5;124m\"\u001b[39m, arr_or_dtype)\n",
      "\u001b[0;31mKeyboardInterrupt\u001b[0m: "
     ]
    }
   ],
   "source": [
    "merged_df = pd.read_csv(\"real1_mergered_df.csv\",index_col=0)"
   ]
  },
  {
   "cell_type": "code",
   "execution_count": 4,
   "metadata": {},
   "outputs": [
    {
     "data": {
      "text/html": [
       "<div>\n",
       "<style scoped>\n",
       "    .dataframe tbody tr th:only-of-type {\n",
       "        vertical-align: middle;\n",
       "    }\n",
       "\n",
       "    .dataframe tbody tr th {\n",
       "        vertical-align: top;\n",
       "    }\n",
       "\n",
       "    .dataframe thead th {\n",
       "        text-align: right;\n",
       "    }\n",
       "</style>\n",
       "<table border=\"1\" class=\"dataframe\">\n",
       "  <thead>\n",
       "    <tr style=\"text-align: right;\">\n",
       "      <th></th>\n",
       "      <th>CHROM</th>\n",
       "      <th>POS</th>\n",
       "      <th>REF_vs</th>\n",
       "      <th>ALT_1_vs</th>\n",
       "      <th>SSC_vs</th>\n",
       "      <th>SPV_vs</th>\n",
       "      <th>REF_fb</th>\n",
       "      <th>ALT_1_fb</th>\n",
       "      <th>MQMR_fb</th>\n",
       "      <th>MQM_1_fb</th>\n",
       "      <th>...</th>\n",
       "      <th>MQM_3_fb</th>\n",
       "      <th>REF_m2</th>\n",
       "      <th>ALT_1_m2</th>\n",
       "      <th>mQ_m2</th>\n",
       "      <th>MQRankSum_m2</th>\n",
       "      <th>BaseQRankSum_m2</th>\n",
       "      <th>REF_vd</th>\n",
       "      <th>ALT_1_vd</th>\n",
       "      <th>SSF_vd</th>\n",
       "      <th>MSI_vd</th>\n",
       "    </tr>\n",
       "  </thead>\n",
       "  <tbody>\n",
       "    <tr>\n",
       "      <th>0</th>\n",
       "      <td>1</td>\n",
       "      <td>10250</td>\n",
       "      <td>A</td>\n",
       "      <td>NaN</td>\n",
       "      <td>2.0</td>\n",
       "      <td>0.52291</td>\n",
       "      <td>NaN</td>\n",
       "      <td>NaN</td>\n",
       "      <td>NaN</td>\n",
       "      <td>NaN</td>\n",
       "      <td>...</td>\n",
       "      <td>NaN</td>\n",
       "      <td>NaN</td>\n",
       "      <td>NaN</td>\n",
       "      <td>NaN</td>\n",
       "      <td>NaN</td>\n",
       "      <td>NaN</td>\n",
       "      <td>NaN</td>\n",
       "      <td>NaN</td>\n",
       "      <td>NaN</td>\n",
       "      <td>NaN</td>\n",
       "    </tr>\n",
       "    <tr>\n",
       "      <th>1</th>\n",
       "      <td>1</td>\n",
       "      <td>10291</td>\n",
       "      <td>C</td>\n",
       "      <td>NaN</td>\n",
       "      <td>2.0</td>\n",
       "      <td>0.60839</td>\n",
       "      <td>NaN</td>\n",
       "      <td>NaN</td>\n",
       "      <td>NaN</td>\n",
       "      <td>NaN</td>\n",
       "      <td>...</td>\n",
       "      <td>NaN</td>\n",
       "      <td>NaN</td>\n",
       "      <td>NaN</td>\n",
       "      <td>NaN</td>\n",
       "      <td>NaN</td>\n",
       "      <td>NaN</td>\n",
       "      <td>NaN</td>\n",
       "      <td>NaN</td>\n",
       "      <td>NaN</td>\n",
       "      <td>NaN</td>\n",
       "    </tr>\n",
       "    <tr>\n",
       "      <th>2</th>\n",
       "      <td>1</td>\n",
       "      <td>10583</td>\n",
       "      <td>G</td>\n",
       "      <td>NaN</td>\n",
       "      <td>1.0</td>\n",
       "      <td>0.68908</td>\n",
       "      <td>G</td>\n",
       "      <td>NaN</td>\n",
       "      <td>43.0909</td>\n",
       "      <td>41.8400</td>\n",
       "      <td>...</td>\n",
       "      <td>NaN</td>\n",
       "      <td>NaN</td>\n",
       "      <td>NaN</td>\n",
       "      <td>NaN</td>\n",
       "      <td>NaN</td>\n",
       "      <td>NaN</td>\n",
       "      <td>G</td>\n",
       "      <td>NaN</td>\n",
       "      <td>0.47730</td>\n",
       "      <td>1.0</td>\n",
       "    </tr>\n",
       "    <tr>\n",
       "      <th>3</th>\n",
       "      <td>1</td>\n",
       "      <td>12783</td>\n",
       "      <td>G</td>\n",
       "      <td>NaN</td>\n",
       "      <td>1.0</td>\n",
       "      <td>0.75242</td>\n",
       "      <td>G</td>\n",
       "      <td>NaN</td>\n",
       "      <td>26.5256</td>\n",
       "      <td>24.0049</td>\n",
       "      <td>...</td>\n",
       "      <td>NaN</td>\n",
       "      <td>NaN</td>\n",
       "      <td>NaN</td>\n",
       "      <td>NaN</td>\n",
       "      <td>NaN</td>\n",
       "      <td>NaN</td>\n",
       "      <td>G</td>\n",
       "      <td>NaN</td>\n",
       "      <td>0.48250</td>\n",
       "      <td>1.0</td>\n",
       "    </tr>\n",
       "    <tr>\n",
       "      <th>4</th>\n",
       "      <td>1</td>\n",
       "      <td>12817</td>\n",
       "      <td>C</td>\n",
       "      <td>NaN</td>\n",
       "      <td>4.0</td>\n",
       "      <td>0.33043</td>\n",
       "      <td>NaN</td>\n",
       "      <td>NaN</td>\n",
       "      <td>NaN</td>\n",
       "      <td>NaN</td>\n",
       "      <td>...</td>\n",
       "      <td>NaN</td>\n",
       "      <td>NaN</td>\n",
       "      <td>NaN</td>\n",
       "      <td>NaN</td>\n",
       "      <td>NaN</td>\n",
       "      <td>NaN</td>\n",
       "      <td>C</td>\n",
       "      <td>NaN</td>\n",
       "      <td>0.40919</td>\n",
       "      <td>2.0</td>\n",
       "    </tr>\n",
       "    <tr>\n",
       "      <th>...</th>\n",
       "      <td>...</td>\n",
       "      <td>...</td>\n",
       "      <td>...</td>\n",
       "      <td>...</td>\n",
       "      <td>...</td>\n",
       "      <td>...</td>\n",
       "      <td>...</td>\n",
       "      <td>...</td>\n",
       "      <td>...</td>\n",
       "      <td>...</td>\n",
       "      <td>...</td>\n",
       "      <td>...</td>\n",
       "      <td>...</td>\n",
       "      <td>...</td>\n",
       "      <td>...</td>\n",
       "      <td>...</td>\n",
       "      <td>...</td>\n",
       "      <td>...</td>\n",
       "      <td>...</td>\n",
       "      <td>...</td>\n",
       "      <td>...</td>\n",
       "    </tr>\n",
       "    <tr>\n",
       "      <th>4656014</th>\n",
       "      <td>GL000192.1</td>\n",
       "      <td>542751</td>\n",
       "      <td>NaN</td>\n",
       "      <td>NaN</td>\n",
       "      <td>NaN</td>\n",
       "      <td>NaN</td>\n",
       "      <td>NaN</td>\n",
       "      <td>NaN</td>\n",
       "      <td>NaN</td>\n",
       "      <td>NaN</td>\n",
       "      <td>...</td>\n",
       "      <td>NaN</td>\n",
       "      <td>NaN</td>\n",
       "      <td>NaN</td>\n",
       "      <td>NaN</td>\n",
       "      <td>NaN</td>\n",
       "      <td>NaN</td>\n",
       "      <td>G</td>\n",
       "      <td>NaN</td>\n",
       "      <td>1.00000</td>\n",
       "      <td>2.0</td>\n",
       "    </tr>\n",
       "    <tr>\n",
       "      <th>4656015</th>\n",
       "      <td>GL000192.1</td>\n",
       "      <td>543455</td>\n",
       "      <td>NaN</td>\n",
       "      <td>NaN</td>\n",
       "      <td>NaN</td>\n",
       "      <td>NaN</td>\n",
       "      <td>NaN</td>\n",
       "      <td>NaN</td>\n",
       "      <td>NaN</td>\n",
       "      <td>NaN</td>\n",
       "      <td>...</td>\n",
       "      <td>NaN</td>\n",
       "      <td>NaN</td>\n",
       "      <td>NaN</td>\n",
       "      <td>NaN</td>\n",
       "      <td>NaN</td>\n",
       "      <td>NaN</td>\n",
       "      <td>T</td>\n",
       "      <td>NaN</td>\n",
       "      <td>0.49260</td>\n",
       "      <td>1.0</td>\n",
       "    </tr>\n",
       "    <tr>\n",
       "      <th>4656016</th>\n",
       "      <td>GL000192.1</td>\n",
       "      <td>544811</td>\n",
       "      <td>NaN</td>\n",
       "      <td>NaN</td>\n",
       "      <td>NaN</td>\n",
       "      <td>NaN</td>\n",
       "      <td>NaN</td>\n",
       "      <td>NaN</td>\n",
       "      <td>NaN</td>\n",
       "      <td>NaN</td>\n",
       "      <td>...</td>\n",
       "      <td>NaN</td>\n",
       "      <td>NaN</td>\n",
       "      <td>NaN</td>\n",
       "      <td>NaN</td>\n",
       "      <td>NaN</td>\n",
       "      <td>NaN</td>\n",
       "      <td>C</td>\n",
       "      <td>NaN</td>\n",
       "      <td>0.03416</td>\n",
       "      <td>3.0</td>\n",
       "    </tr>\n",
       "    <tr>\n",
       "      <th>4656017</th>\n",
       "      <td>GL000192.1</td>\n",
       "      <td>544883</td>\n",
       "      <td>NaN</td>\n",
       "      <td>NaN</td>\n",
       "      <td>NaN</td>\n",
       "      <td>NaN</td>\n",
       "      <td>NaN</td>\n",
       "      <td>NaN</td>\n",
       "      <td>NaN</td>\n",
       "      <td>NaN</td>\n",
       "      <td>...</td>\n",
       "      <td>NaN</td>\n",
       "      <td>NaN</td>\n",
       "      <td>NaN</td>\n",
       "      <td>NaN</td>\n",
       "      <td>NaN</td>\n",
       "      <td>NaN</td>\n",
       "      <td>C</td>\n",
       "      <td>NaN</td>\n",
       "      <td>0.37634</td>\n",
       "      <td>1.0</td>\n",
       "    </tr>\n",
       "    <tr>\n",
       "      <th>4656018</th>\n",
       "      <td>GL000192.1</td>\n",
       "      <td>545381</td>\n",
       "      <td>NaN</td>\n",
       "      <td>NaN</td>\n",
       "      <td>NaN</td>\n",
       "      <td>NaN</td>\n",
       "      <td>NaN</td>\n",
       "      <td>NaN</td>\n",
       "      <td>NaN</td>\n",
       "      <td>NaN</td>\n",
       "      <td>...</td>\n",
       "      <td>NaN</td>\n",
       "      <td>NaN</td>\n",
       "      <td>NaN</td>\n",
       "      <td>NaN</td>\n",
       "      <td>NaN</td>\n",
       "      <td>NaN</td>\n",
       "      <td>C</td>\n",
       "      <td>NaN</td>\n",
       "      <td>0.44370</td>\n",
       "      <td>1.0</td>\n",
       "    </tr>\n",
       "  </tbody>\n",
       "</table>\n",
       "<p>4656019 rows × 21 columns</p>\n",
       "</div>"
      ],
      "text/plain": [
       "              CHROM     POS REF_vs  ALT_1_vs  SSC_vs   SPV_vs REF_fb  \\\n",
       "0                 1   10250      A       NaN     2.0  0.52291    NaN   \n",
       "1                 1   10291      C       NaN     2.0  0.60839    NaN   \n",
       "2                 1   10583      G       NaN     1.0  0.68908      G   \n",
       "3                 1   12783      G       NaN     1.0  0.75242      G   \n",
       "4                 1   12817      C       NaN     4.0  0.33043    NaN   \n",
       "...             ...     ...    ...       ...     ...      ...    ...   \n",
       "4656014  GL000192.1  542751    NaN       NaN     NaN      NaN    NaN   \n",
       "4656015  GL000192.1  543455    NaN       NaN     NaN      NaN    NaN   \n",
       "4656016  GL000192.1  544811    NaN       NaN     NaN      NaN    NaN   \n",
       "4656017  GL000192.1  544883    NaN       NaN     NaN      NaN    NaN   \n",
       "4656018  GL000192.1  545381    NaN       NaN     NaN      NaN    NaN   \n",
       "\n",
       "         ALT_1_fb  MQMR_fb  MQM_1_fb  ...  MQM_3_fb  REF_m2 ALT_1_m2  mQ_m2  \\\n",
       "0             NaN      NaN       NaN  ...       NaN     NaN      NaN    NaN   \n",
       "1             NaN      NaN       NaN  ...       NaN     NaN      NaN    NaN   \n",
       "2             NaN  43.0909   41.8400  ...       NaN     NaN      NaN    NaN   \n",
       "3             NaN  26.5256   24.0049  ...       NaN     NaN      NaN    NaN   \n",
       "4             NaN      NaN       NaN  ...       NaN     NaN      NaN    NaN   \n",
       "...           ...      ...       ...  ...       ...     ...      ...    ...   \n",
       "4656014       NaN      NaN       NaN  ...       NaN     NaN      NaN    NaN   \n",
       "4656015       NaN      NaN       NaN  ...       NaN     NaN      NaN    NaN   \n",
       "4656016       NaN      NaN       NaN  ...       NaN     NaN      NaN    NaN   \n",
       "4656017       NaN      NaN       NaN  ...       NaN     NaN      NaN    NaN   \n",
       "4656018       NaN      NaN       NaN  ...       NaN     NaN      NaN    NaN   \n",
       "\n",
       "         MQRankSum_m2  BaseQRankSum_m2  REF_vd ALT_1_vd   SSF_vd  MSI_vd  \n",
       "0                 NaN              NaN     NaN      NaN      NaN     NaN  \n",
       "1                 NaN              NaN     NaN      NaN      NaN     NaN  \n",
       "2                 NaN              NaN       G      NaN  0.47730     1.0  \n",
       "3                 NaN              NaN       G      NaN  0.48250     1.0  \n",
       "4                 NaN              NaN       C      NaN  0.40919     2.0  \n",
       "...               ...              ...     ...      ...      ...     ...  \n",
       "4656014           NaN              NaN       G      NaN  1.00000     2.0  \n",
       "4656015           NaN              NaN       T      NaN  0.49260     1.0  \n",
       "4656016           NaN              NaN       C      NaN  0.03416     3.0  \n",
       "4656017           NaN              NaN       C      NaN  0.37634     1.0  \n",
       "4656018           NaN              NaN       C      NaN  0.44370     1.0  \n",
       "\n",
       "[4656019 rows x 21 columns]"
      ]
     },
     "execution_count": 4,
     "metadata": {},
     "output_type": "execute_result"
    }
   ],
   "source": [
    "merged_df"
   ]
  },
  {
   "cell_type": "code",
   "execution_count": 6,
   "metadata": {
    "collapsed": true
   },
   "outputs": [
    {
     "name": "stderr",
     "output_type": "stream",
     "text": [
      "/Users/ting/opt/anaconda3/lib/python3.9/site-packages/allel/io/vcf_read.py:1240: UserWarning: 'ALT_1' INFO header not found\n",
      "  warnings.warn('%r INFO header not found' % name)\n",
      "/Users/ting/opt/anaconda3/lib/python3.9/site-packages/allel/io/vcf_read.py:1454: UserWarning: no type for field 'variants/ALT_1', assuming object\n",
      "  warnings.warn('no type for field %r, assuming %s' % (f, normed_types[f]))\n",
      "/Users/ting/opt/anaconda3/lib/python3.9/site-packages/allel/io/vcf_read.py:1564: UserWarning: no number for field 'variants/ALT_1', assuming 1\n",
      "  warnings.warn('no number for field %r, assuming 1' % f)\n"
     ]
    },
    {
     "ename": "KeyboardInterrupt",
     "evalue": "",
     "output_type": "error",
     "traceback": [
      "\u001b[0;31m---------------------------------------------------------------------------\u001b[0m",
      "\u001b[0;31mKeyboardInterrupt\u001b[0m                         Traceback (most recent call last)",
      "Input \u001b[0;32mIn [6]\u001b[0m, in \u001b[0;36m<cell line: 4>\u001b[0;34m()\u001b[0m\n\u001b[1;32m      1\u001b[0m \u001b[38;5;66;03m# parse_to_df function takes too long to run so I parse individually \u001b[39;00m\n\u001b[1;32m      2\u001b[0m \u001b[38;5;66;03m# try with rand subset of features \u001b[39;00m\n\u001b[1;32m      3\u001b[0m varscan_features \u001b[38;5;241m=\u001b[39m [\u001b[38;5;124m'\u001b[39m\u001b[38;5;124mCHROM\u001b[39m\u001b[38;5;124m'\u001b[39m,\u001b[38;5;124m'\u001b[39m\u001b[38;5;124mPOS\u001b[39m\u001b[38;5;124m'\u001b[39m,\u001b[38;5;124m'\u001b[39m\u001b[38;5;124mREF\u001b[39m\u001b[38;5;124m'\u001b[39m,\u001b[38;5;124m'\u001b[39m\u001b[38;5;124mALT_1\u001b[39m\u001b[38;5;124m'\u001b[39m, \u001b[38;5;124m'\u001b[39m\u001b[38;5;124mSSC\u001b[39m\u001b[38;5;124m'\u001b[39m,\u001b[38;5;124m'\u001b[39m\u001b[38;5;124mSPV\u001b[39m\u001b[38;5;124m'\u001b[39m,\u001b[38;5;124m'\u001b[39m\u001b[38;5;124mis_snp\u001b[39m\u001b[38;5;124m'\u001b[39m]\n\u001b[0;32m----> 4\u001b[0m real1_varscan_sub \u001b[38;5;241m=\u001b[39m \u001b[43mallel\u001b[49m\u001b[38;5;241;43m.\u001b[39;49m\u001b[43mvcf_to_dataframe\u001b[49m\u001b[43m(\u001b[49m\u001b[38;5;124;43m\"\u001b[39;49m\u001b[38;5;124;43mreal1/real1-varscan.vcf.gz\u001b[39;49m\u001b[38;5;124;43m\"\u001b[39;49m\u001b[43m,\u001b[49m\u001b[43m \u001b[49m\u001b[43mfields\u001b[49m\u001b[43m \u001b[49m\u001b[38;5;241;43m=\u001b[39;49m\u001b[43m \u001b[49m\u001b[43mvarscan_features\u001b[49m\u001b[43m)\u001b[49m\n\u001b[1;32m      6\u001b[0m freebayes_features \u001b[38;5;241m=\u001b[39m [\u001b[38;5;124m'\u001b[39m\u001b[38;5;124mCHROM\u001b[39m\u001b[38;5;124m'\u001b[39m,\u001b[38;5;124m'\u001b[39m\u001b[38;5;124mPOS\u001b[39m\u001b[38;5;124m'\u001b[39m,\u001b[38;5;124m'\u001b[39m\u001b[38;5;124mREF\u001b[39m\u001b[38;5;124m'\u001b[39m,\u001b[38;5;124m'\u001b[39m\u001b[38;5;124mALT_1\u001b[39m\u001b[38;5;124m'\u001b[39m, \u001b[38;5;124m'\u001b[39m\u001b[38;5;124mMQMR\u001b[39m\u001b[38;5;124m'\u001b[39m,\u001b[38;5;124m'\u001b[39m\u001b[38;5;124mMQM\u001b[39m\u001b[38;5;124m'\u001b[39m,\u001b[38;5;124m'\u001b[39m\u001b[38;5;124mis_snp\u001b[39m\u001b[38;5;124m'\u001b[39m]\n\u001b[1;32m      7\u001b[0m real1_freebayes_sub \u001b[38;5;241m=\u001b[39m allel\u001b[38;5;241m.\u001b[39mvcf_to_dataframe(\u001b[38;5;124m\"\u001b[39m\u001b[38;5;124mreal1/real1-freebayes.vcf.gz\u001b[39m\u001b[38;5;124m\"\u001b[39m, fields \u001b[38;5;241m=\u001b[39m freebayes_features)\n",
      "File \u001b[0;32m~/opt/anaconda3/lib/python3.9/site-packages/allel/io/vcf_read.py:1861\u001b[0m, in \u001b[0;36mvcf_to_dataframe\u001b[0;34m(input, fields, exclude_fields, types, numbers, alt_number, fills, region, tabix, transformers, buffer_size, chunk_length, log)\u001b[0m\n\u001b[1;32m   1858\u001b[0m     it \u001b[38;5;241m=\u001b[39m _chunk_iter_progress(it, log, prefix\u001b[38;5;241m=\u001b[39m\u001b[38;5;124m'\u001b[39m\u001b[38;5;124m[vcf_to_dataframe]\u001b[39m\u001b[38;5;124m'\u001b[39m)\n\u001b[1;32m   1860\u001b[0m \u001b[38;5;66;03m# read all chunks into a list\u001b[39;00m\n\u001b[0;32m-> 1861\u001b[0m chunks \u001b[38;5;241m=\u001b[39m [d[\u001b[38;5;241m0\u001b[39m] \u001b[38;5;28;01mfor\u001b[39;00m d \u001b[38;5;129;01min\u001b[39;00m it]\n\u001b[1;32m   1863\u001b[0m \u001b[38;5;66;03m# setup output\u001b[39;00m\n\u001b[1;32m   1864\u001b[0m output \u001b[38;5;241m=\u001b[39m \u001b[38;5;28;01mNone\u001b[39;00m\n",
      "File \u001b[0;32m~/opt/anaconda3/lib/python3.9/site-packages/allel/io/vcf_read.py:1861\u001b[0m, in \u001b[0;36m<listcomp>\u001b[0;34m(.0)\u001b[0m\n\u001b[1;32m   1858\u001b[0m     it \u001b[38;5;241m=\u001b[39m _chunk_iter_progress(it, log, prefix\u001b[38;5;241m=\u001b[39m\u001b[38;5;124m'\u001b[39m\u001b[38;5;124m[vcf_to_dataframe]\u001b[39m\u001b[38;5;124m'\u001b[39m)\n\u001b[1;32m   1860\u001b[0m \u001b[38;5;66;03m# read all chunks into a list\u001b[39;00m\n\u001b[0;32m-> 1861\u001b[0m chunks \u001b[38;5;241m=\u001b[39m [d[\u001b[38;5;241m0\u001b[39m] \u001b[38;5;28;01mfor\u001b[39;00m d \u001b[38;5;129;01min\u001b[39;00m it]\n\u001b[1;32m   1863\u001b[0m \u001b[38;5;66;03m# setup output\u001b[39;00m\n\u001b[1;32m   1864\u001b[0m output \u001b[38;5;241m=\u001b[39m \u001b[38;5;28;01mNone\u001b[39;00m\n",
      "File \u001b[0;32mallel/opt/io_vcf_read.pyx:479\u001b[0m, in \u001b[0;36mallel.opt.io_vcf_read.VCFChunkIterator.__next__\u001b[0;34m()\u001b[0m\n",
      "File \u001b[0;32mallel/opt/io_vcf_read.pyx:781\u001b[0m, in \u001b[0;36mallel.opt.io_vcf_read.VCFParser.parse\u001b[0;34m()\u001b[0m\n",
      "File \u001b[0;32mallel/opt/io_vcf_read.pyx:1512\u001b[0m, in \u001b[0;36mallel.opt.io_vcf_read.VCFAltObjectParser.parse\u001b[0;34m()\u001b[0m\n",
      "File \u001b[0;32mallel/opt/io_vcf_read.pyx:253\u001b[0m, in \u001b[0;36mallel.opt.io_vcf_read.FileInputStream.advance\u001b[0;34m()\u001b[0m\n",
      "File \u001b[0;32mallel/opt/io_vcf_read.pyx:243\u001b[0m, in \u001b[0;36mallel.opt.io_vcf_read.FileInputStream._bufferup\u001b[0;34m()\u001b[0m\n",
      "File \u001b[0;32m~/opt/anaconda3/lib/python3.9/gzip.py:300\u001b[0m, in \u001b[0;36mGzipFile.read\u001b[0;34m(self, size)\u001b[0m\n\u001b[1;32m    298\u001b[0m     \u001b[38;5;28;01mimport\u001b[39;00m \u001b[38;5;21;01merrno\u001b[39;00m\n\u001b[1;32m    299\u001b[0m     \u001b[38;5;28;01mraise\u001b[39;00m \u001b[38;5;167;01mOSError\u001b[39;00m(errno\u001b[38;5;241m.\u001b[39mEBADF, \u001b[38;5;124m\"\u001b[39m\u001b[38;5;124mread() on write-only GzipFile object\u001b[39m\u001b[38;5;124m\"\u001b[39m)\n\u001b[0;32m--> 300\u001b[0m \u001b[38;5;28;01mreturn\u001b[39;00m \u001b[38;5;28;43mself\u001b[39;49m\u001b[38;5;241;43m.\u001b[39;49m\u001b[43m_buffer\u001b[49m\u001b[38;5;241;43m.\u001b[39;49m\u001b[43mread\u001b[49m\u001b[43m(\u001b[49m\u001b[43msize\u001b[49m\u001b[43m)\u001b[49m\n",
      "File \u001b[0;32m~/opt/anaconda3/lib/python3.9/_compression.py:68\u001b[0m, in \u001b[0;36mDecompressReader.readinto\u001b[0;34m(self, b)\u001b[0m\n\u001b[1;32m     66\u001b[0m \u001b[38;5;28;01mdef\u001b[39;00m \u001b[38;5;21mreadinto\u001b[39m(\u001b[38;5;28mself\u001b[39m, b):\n\u001b[1;32m     67\u001b[0m     \u001b[38;5;28;01mwith\u001b[39;00m \u001b[38;5;28mmemoryview\u001b[39m(b) \u001b[38;5;28;01mas\u001b[39;00m view, view\u001b[38;5;241m.\u001b[39mcast(\u001b[38;5;124m\"\u001b[39m\u001b[38;5;124mB\u001b[39m\u001b[38;5;124m\"\u001b[39m) \u001b[38;5;28;01mas\u001b[39;00m byte_view:\n\u001b[0;32m---> 68\u001b[0m         data \u001b[38;5;241m=\u001b[39m \u001b[38;5;28;43mself\u001b[39;49m\u001b[38;5;241;43m.\u001b[39;49m\u001b[43mread\u001b[49m\u001b[43m(\u001b[49m\u001b[38;5;28;43mlen\u001b[39;49m\u001b[43m(\u001b[49m\u001b[43mbyte_view\u001b[49m\u001b[43m)\u001b[49m\u001b[43m)\u001b[49m\n\u001b[1;32m     69\u001b[0m         byte_view[:\u001b[38;5;28mlen\u001b[39m(data)] \u001b[38;5;241m=\u001b[39m data\n\u001b[1;32m     70\u001b[0m     \u001b[38;5;28;01mreturn\u001b[39;00m \u001b[38;5;28mlen\u001b[39m(data)\n",
      "File \u001b[0;32m~/opt/anaconda3/lib/python3.9/gzip.py:493\u001b[0m, in \u001b[0;36m_GzipReader.read\u001b[0;34m(self, size)\u001b[0m\n\u001b[1;32m    490\u001b[0m     \u001b[38;5;28mself\u001b[39m\u001b[38;5;241m.\u001b[39m_new_member \u001b[38;5;241m=\u001b[39m \u001b[38;5;28;01mFalse\u001b[39;00m\n\u001b[1;32m    492\u001b[0m \u001b[38;5;66;03m# Read a chunk of data from the file\u001b[39;00m\n\u001b[0;32m--> 493\u001b[0m buf \u001b[38;5;241m=\u001b[39m \u001b[38;5;28;43mself\u001b[39;49m\u001b[38;5;241;43m.\u001b[39;49m\u001b[43m_fp\u001b[49m\u001b[38;5;241;43m.\u001b[39;49m\u001b[43mread\u001b[49m\u001b[43m(\u001b[49m\u001b[43mio\u001b[49m\u001b[38;5;241;43m.\u001b[39;49m\u001b[43mDEFAULT_BUFFER_SIZE\u001b[49m\u001b[43m)\u001b[49m\n\u001b[1;32m    495\u001b[0m uncompress \u001b[38;5;241m=\u001b[39m \u001b[38;5;28mself\u001b[39m\u001b[38;5;241m.\u001b[39m_decompressor\u001b[38;5;241m.\u001b[39mdecompress(buf, size)\n\u001b[1;32m    496\u001b[0m \u001b[38;5;28;01mif\u001b[39;00m \u001b[38;5;28mself\u001b[39m\u001b[38;5;241m.\u001b[39m_decompressor\u001b[38;5;241m.\u001b[39munconsumed_tail \u001b[38;5;241m!=\u001b[39m \u001b[38;5;124mb\u001b[39m\u001b[38;5;124m\"\u001b[39m\u001b[38;5;124m\"\u001b[39m:\n",
      "File \u001b[0;32m~/opt/anaconda3/lib/python3.9/gzip.py:86\u001b[0m, in \u001b[0;36m_PaddedFile.read\u001b[0;34m(self, size)\u001b[0m\n\u001b[1;32m     85\u001b[0m \u001b[38;5;28;01mdef\u001b[39;00m \u001b[38;5;21mread\u001b[39m(\u001b[38;5;28mself\u001b[39m, size):\n\u001b[0;32m---> 86\u001b[0m     \u001b[38;5;28;01mif\u001b[39;00m \u001b[38;5;28;43mself\u001b[39;49m\u001b[38;5;241;43m.\u001b[39;49m\u001b[43m_read\u001b[49m \u001b[38;5;129;01mis\u001b[39;00m \u001b[38;5;28;01mNone\u001b[39;00m:\n\u001b[1;32m     87\u001b[0m         \u001b[38;5;28;01mreturn\u001b[39;00m \u001b[38;5;28mself\u001b[39m\u001b[38;5;241m.\u001b[39mfile\u001b[38;5;241m.\u001b[39mread(size)\n\u001b[1;32m     88\u001b[0m     \u001b[38;5;28;01mif\u001b[39;00m \u001b[38;5;28mself\u001b[39m\u001b[38;5;241m.\u001b[39m_read \u001b[38;5;241m+\u001b[39m size \u001b[38;5;241m<\u001b[39m\u001b[38;5;241m=\u001b[39m \u001b[38;5;28mself\u001b[39m\u001b[38;5;241m.\u001b[39m_length:\n",
      "\u001b[0;31mKeyboardInterrupt\u001b[0m: "
     ]
    }
   ],
   "source": [
    "# parse_to_df function takes too long to run so I parse individually \n",
    "# try with rand subset of features \n",
    "varscan_features = ['CHROM','POS','REF','ALT_1', 'SSC','SPV','is_snp']\n",
    "real1_varscan_sub = allel.vcf_to_dataframe(\"real1/real1-varscan.vcf.gz\", fields = varscan_features)\n",
    "\n",
    "freebayes_features = ['CHROM','POS','REF','ALT_1', 'MQMR','MQM','is_snp']\n",
    "real1_freebayes_sub = allel.vcf_to_dataframe(\"real1/real1-freebayes.vcf.gz\", fields = freebayes_features)\n",
    "\n",
    "mutect2_features = ['CHROM','POS','REF','ALT_1', 'mQ','MQRankSum','BaseQRankSum','is_snp']\n",
    "real1_mutect2_sub = allel.vcf_to_dataframe(\"real1/real1-mutect2.vcf.gz\", fields = mutect2_features)\n",
    "\n",
    "vardict_features = ['CHROM','POS','REF','ALT_1', 'SSF','MSI','is_snp']\n",
    "real1_vardict_sub = allel.vcf_to_dataframe(\"real1/real1-vardict.vcf.gz\", fields = vardict_features)"
   ]
  },
  {
   "cell_type": "code",
   "execution_count": 9,
   "metadata": {},
   "outputs": [],
   "source": [
    "# subsetting for snp = True \n",
    "varscan_sub = real1_varscan_sub[real1_varscan_sub.is_snp == True]\n",
    "freebayes_sub = real1_freebayes_sub[real1_freebayes_sub.is_snp == True]\n",
    "mutect2_sub = real1_mutect2_sub[real1_mutect2_sub.is_snp == True]\n",
    "vardict_sub = real1_vardict_sub[real1_vardict_sub.is_snp == True]"
   ]
  },
  {
   "cell_type": "code",
   "execution_count": null,
   "metadata": {},
   "outputs": [],
   "source": [
    "# Gradient Boosting Decision Trees\n",
    "# popular algorithms like XGboost and Catboost are examples of using the gradient boosting framework \n",
    "# unlike random forests, the decision trees in gradient boosting are built additively; each decision tree is built one after another\n",
    "# each new treee is built to improve on deficiencies of the previous trees and this concept is called boosting \n",
    "# gradient of gradient boosting comes from minimising the gradient of the loss function "
   ]
  },
  {
   "cell_type": "code",
   "execution_count": 10,
   "metadata": {},
   "outputs": [],
   "source": [
    "import xgboost as xgb\n",
    "from sklearn import metrics\n",
    "from sklearn.model_selection import train_test_split\n",
    "import matplotlib.pyplot as plt \n",
    "import seaborn as sns\n",
    "from numpy import nan"
   ]
  },
  {
   "cell_type": "code",
   "execution_count": 11,
   "metadata": {},
   "outputs": [
    {
     "data": {
      "text/plain": [
       "[      SOMATIC_vs        ID_vs        SPV_vs  FILTER_PASS_vs       CHROM  \\\n",
       " 7          False  rs199706086  5.229100e-01           False           1   \n",
       " 8          False  rs145427775  6.083900e-01           False           1   \n",
       " 10         False   rs58108140  6.890800e-01           False           1   \n",
       " 11         False   rs62635284  7.524200e-01           False           1   \n",
       " 12         False            .  3.304300e-01           False           1   \n",
       " ...          ...          ...           ...             ...         ...   \n",
       " 5244       False            .  5.133700e-01           False  GL000192.1   \n",
       " 5246       False            .  6.664900e-04           False  GL000192.1   \n",
       " 5247       False            .  2.069300e-04           False  GL000192.1   \n",
       " 5249       False            .  1.121500e-09           False  GL000192.1   \n",
       " 5250       False            .  2.301600e-02           False  GL000192.1   \n",
       " \n",
       "          POS  is_snp_vs  \n",
       " 7      10250       True  \n",
       " 8      10291       True  \n",
       " 10     10583       True  \n",
       " 11     12783       True  \n",
       " 12     12817       True  \n",
       " ...      ...        ...  \n",
       " 5244  545300       True  \n",
       " 5246  545668       True  \n",
       " 5247  545721       True  \n",
       " 5249  547087       True  \n",
       " 5250  547102       True  \n",
       " \n",
       " [4143361 rows x 7 columns],\n",
       "        SOMATIC_fb      QUAL_fb       ID_fb  QR_fb  DPB_fb       CHROM     POS  \\\n",
       " 1           False   271.100006  rs58108140   1198    58.0           1   10583   \n",
       " 2           False  2044.599976  rs62635284   2335   287.0           1   12783   \n",
       " 3           False  1762.699951  rs62635286     -1     NaN           1   13116   \n",
       " 4           False  1762.699951  rs62028691     -1     NaN           1   13118   \n",
       " 5           False   787.900024           .   1769   155.0           1   14026   \n",
       " ...           ...          ...         ...    ...     ...         ...     ...   \n",
       " 10016       False  1126.099976           .   2922   261.0  GL000192.1  545445   \n",
       " 10017       False   128.300003           .   6061   350.0  GL000192.1  545485   \n",
       " 10019       False   274.500000           .   4304   167.0  GL000192.1  545668   \n",
       " 10020       False   140.699997           .   1865   118.0  GL000192.1  546636   \n",
       " 10021       False   140.699997           .   2011   128.0  GL000192.1  546648   \n",
       " \n",
       "        is_snp_fb  \n",
       " 1           True  \n",
       " 2           True  \n",
       " 3           True  \n",
       " 4           True  \n",
       " 5           True  \n",
       " ...          ...  \n",
       " 10016       True  \n",
       " 10017       True  \n",
       " 10019       True  \n",
       " 10020       True  \n",
       " 10021       True  \n",
       " \n",
       " [4034935 rows x 8 columns],\n",
       "        FILTER_PASS_m2        ID_m2 ECNT_m2      MQ_m2  FILTER_t_lod_fstar_m2  \\\n",
       " 0                True  rs540538026       1  41.910000                  False   \n",
       " 1               False  rs879707275       1  34.799999                  False   \n",
       " 2               False            .       2  42.189999                  False   \n",
       " 3               False   rs28428499       2  42.490002                  False   \n",
       " 4                True            .       1  43.419998                  False   \n",
       " ...               ...          ...     ...        ...                    ...   \n",
       " 47412           False            .       2  48.360001                   True   \n",
       " 47413           False            .       2  47.779999                  False   \n",
       " 47414           False            .       2  49.080002                   True   \n",
       " 47415           False            .       1  47.110001                  False   \n",
       " 47416           False            .       1  44.689999                   True   \n",
       " \n",
       "       HCNT_m2  DP_m2       CHROM     POS  is_snp_m2  \n",
       " 0          14    312           1   13110       True  \n",
       " 1          19    253           1   13649       True  \n",
       " 2           6    742           1   13813       True  \n",
       " 3           6    686           1   13838       True  \n",
       " 4          17    283           1   15015       True  \n",
       " ...       ...    ...         ...     ...        ...  \n",
       " 47412       5    271  GL000225.1  210500       True  \n",
       " 47413       8    223  GL000225.1  210685       True  \n",
       " 47414       4    187  GL000225.1  210704       True  \n",
       " 47415       4     81  GL000192.1  150572       True  \n",
       " 47416       1     88  GL000192.1  233157       True  \n",
       " \n",
       " [101169 rows x 10 columns],\n",
       "        FILTER_PASS_vd  STATUS_vd        ID_vd   SSF_vd  VD_vd  SOMATIC_vd  \\\n",
       " 1               False     AFDiff  rs200279319  0.61733      5       False   \n",
       " 3               False   Germline   rs58108140  0.47730     11       False   \n",
       " 4               False   Germline   rs62635284  0.48250     99       False   \n",
       " 5               False     AFDiff            .  0.40919     29       False   \n",
       " 6               False     AFDiff  rs540538026  0.23427     24       False   \n",
       " ...               ...        ...          ...      ...    ...         ...   \n",
       " 46181           False  LikelyLOH            .  0.00000      3       False   \n",
       " 46183           False  StrongLOH            .  0.00000      0       False   \n",
       " 46184           False  StrongLOH            .  0.00865      0       False   \n",
       " 46185           False  StrongLOH            .  0.11644      0       False   \n",
       " 46186           False   Germline            .  0.14098      1       False   \n",
       " \n",
       "             CHROM     POS  is_snp_vd  \n",
       " 1               1   10231       True  \n",
       " 3               1   10583       True  \n",
       " 4               1   12783       True  \n",
       " 5               1   12817       True  \n",
       " 6               1   13110       True  \n",
       " ...           ...     ...        ...  \n",
       " 46181  GL000192.1  545485       True  \n",
       " 46183  GL000192.1  545668       True  \n",
       " 46184  GL000192.1  545721       True  \n",
       " 46185  GL000192.1  546636       True  \n",
       " 46186  GL000192.1  546648       True  \n",
       " \n",
       " [4013389 rows x 9 columns]]"
      ]
     },
     "execution_count": 11,
     "metadata": {},
     "output_type": "execute_result"
    }
   ],
   "source": [
    "lst_dfs = [varscan_sub,freebayes_sub,mutect2_sub,vardict_sub]\n",
    "suffix = ['vs','fb','m2','vd']\n",
    "keep_same = {'CHROM', 'POS'}\n",
    "i =0 \n",
    "for df in lst_dfs:\n",
    "    df.columns = ['{}{}'.format(c, '' if c in keep_same else '_'+suffix[i]) for c in df.columns]\n",
    "    i += 1\n",
    "lst_dfs"
   ]
  },
  {
   "cell_type": "code",
   "execution_count": 12,
   "metadata": {},
   "outputs": [],
   "source": [
    "merged_df = reduce(lambda left, right: pd.merge(left, right,on =['CHROM', 'POS'],\n",
    "                                            how = 'outer', suffixes = ('', '')),lst_dfs)\n",
    "merged_df = merged_df.drop(['is_snp_vd','is_snp_fb','is_snp_m2','is_snp_vs'], axis=1)\n",
    "# okay i shouldnt drop this \n",
    "merged_df.to_csv(\"real1_mergered_df.csv\")"
   ]
  },
  {
   "cell_type": "code",
   "execution_count": 13,
   "metadata": {},
   "outputs": [],
   "source": [
    "from sklearn import datasets\n",
    "import xgboost as xgb \n",
    "from xgboost import XGBClassifier"
   ]
  },
  {
   "cell_type": "code",
   "execution_count": 14,
   "metadata": {},
   "outputs": [
    {
     "name": "stdout",
     "output_type": "stream",
     "text": [
      "[True]\n"
     ]
    }
   ],
   "source": [
    "##  function to get y labels\n",
    "truth_labels = pd.read_csv(\"real1/real1_truth.bed\", sep = \"\\t\", names = ['Chromo', 'start', 'end'])\n",
    "print(list(set(truth_labels.start == truth_labels.end) )) # the start and end position are the same \n",
    "truth_labels = truth_labels[['Chromo', 'start']]\n",
    "truth_labels['truth'] = 1\n",
    "sub_truth= truth_labels.rename(columns = {'Chromo':'CHROM', 'start':'POS'})"
   ]
  },
  {
   "cell_type": "code",
   "execution_count": 15,
   "metadata": {},
   "outputs": [],
   "source": [
    "# combine dataset \n",
    "combined = merged_df.merge(sub_truth, on=['CHROM','POS'], how = 'left' )\n",
    "combined['truth'].fillna(0, inplace = True)"
   ]
  },
  {
   "cell_type": "code",
   "execution_count": 16,
   "metadata": {},
   "outputs": [
    {
     "data": {
      "text/html": [
       "<div>\n",
       "<style scoped>\n",
       "    .dataframe tbody tr th:only-of-type {\n",
       "        vertical-align: middle;\n",
       "    }\n",
       "\n",
       "    .dataframe tbody tr th {\n",
       "        vertical-align: top;\n",
       "    }\n",
       "\n",
       "    .dataframe thead th {\n",
       "        text-align: right;\n",
       "    }\n",
       "</style>\n",
       "<table border=\"1\" class=\"dataframe\">\n",
       "  <thead>\n",
       "    <tr style=\"text-align: right;\">\n",
       "      <th></th>\n",
       "      <th>SOMATIC_vs</th>\n",
       "      <th>ID_vs</th>\n",
       "      <th>SPV_vs</th>\n",
       "      <th>FILTER_PASS_vs</th>\n",
       "      <th>CHROM</th>\n",
       "      <th>POS</th>\n",
       "      <th>SOMATIC_fb</th>\n",
       "      <th>QUAL_fb</th>\n",
       "      <th>ID_fb</th>\n",
       "      <th>QR_fb</th>\n",
       "      <th>...</th>\n",
       "      <th>FILTER_t_lod_fstar_m2</th>\n",
       "      <th>HCNT_m2</th>\n",
       "      <th>DP_m2</th>\n",
       "      <th>FILTER_PASS_vd</th>\n",
       "      <th>STATUS_vd</th>\n",
       "      <th>ID_vd</th>\n",
       "      <th>SSF_vd</th>\n",
       "      <th>VD_vd</th>\n",
       "      <th>SOMATIC_vd</th>\n",
       "      <th>truth</th>\n",
       "    </tr>\n",
       "  </thead>\n",
       "  <tbody>\n",
       "    <tr>\n",
       "      <th>0</th>\n",
       "      <td>False</td>\n",
       "      <td>rs199706086</td>\n",
       "      <td>0.52291</td>\n",
       "      <td>False</td>\n",
       "      <td>1</td>\n",
       "      <td>10250</td>\n",
       "      <td>NaN</td>\n",
       "      <td>NaN</td>\n",
       "      <td>NaN</td>\n",
       "      <td>NaN</td>\n",
       "      <td>...</td>\n",
       "      <td>NaN</td>\n",
       "      <td>NaN</td>\n",
       "      <td>NaN</td>\n",
       "      <td>NaN</td>\n",
       "      <td>NaN</td>\n",
       "      <td>NaN</td>\n",
       "      <td>NaN</td>\n",
       "      <td>NaN</td>\n",
       "      <td>NaN</td>\n",
       "      <td>0.0</td>\n",
       "    </tr>\n",
       "    <tr>\n",
       "      <th>1</th>\n",
       "      <td>False</td>\n",
       "      <td>rs145427775</td>\n",
       "      <td>0.60839</td>\n",
       "      <td>False</td>\n",
       "      <td>1</td>\n",
       "      <td>10291</td>\n",
       "      <td>NaN</td>\n",
       "      <td>NaN</td>\n",
       "      <td>NaN</td>\n",
       "      <td>NaN</td>\n",
       "      <td>...</td>\n",
       "      <td>NaN</td>\n",
       "      <td>NaN</td>\n",
       "      <td>NaN</td>\n",
       "      <td>NaN</td>\n",
       "      <td>NaN</td>\n",
       "      <td>NaN</td>\n",
       "      <td>NaN</td>\n",
       "      <td>NaN</td>\n",
       "      <td>NaN</td>\n",
       "      <td>0.0</td>\n",
       "    </tr>\n",
       "    <tr>\n",
       "      <th>2</th>\n",
       "      <td>False</td>\n",
       "      <td>rs58108140</td>\n",
       "      <td>0.68908</td>\n",
       "      <td>False</td>\n",
       "      <td>1</td>\n",
       "      <td>10583</td>\n",
       "      <td>False</td>\n",
       "      <td>271.100006</td>\n",
       "      <td>rs58108140</td>\n",
       "      <td>1198.0</td>\n",
       "      <td>...</td>\n",
       "      <td>NaN</td>\n",
       "      <td>NaN</td>\n",
       "      <td>NaN</td>\n",
       "      <td>False</td>\n",
       "      <td>Germline</td>\n",
       "      <td>rs58108140</td>\n",
       "      <td>0.47730</td>\n",
       "      <td>11.0</td>\n",
       "      <td>False</td>\n",
       "      <td>0.0</td>\n",
       "    </tr>\n",
       "    <tr>\n",
       "      <th>3</th>\n",
       "      <td>False</td>\n",
       "      <td>rs62635284</td>\n",
       "      <td>0.75242</td>\n",
       "      <td>False</td>\n",
       "      <td>1</td>\n",
       "      <td>12783</td>\n",
       "      <td>False</td>\n",
       "      <td>2044.599976</td>\n",
       "      <td>rs62635284</td>\n",
       "      <td>2335.0</td>\n",
       "      <td>...</td>\n",
       "      <td>NaN</td>\n",
       "      <td>NaN</td>\n",
       "      <td>NaN</td>\n",
       "      <td>False</td>\n",
       "      <td>Germline</td>\n",
       "      <td>rs62635284</td>\n",
       "      <td>0.48250</td>\n",
       "      <td>99.0</td>\n",
       "      <td>False</td>\n",
       "      <td>0.0</td>\n",
       "    </tr>\n",
       "    <tr>\n",
       "      <th>4</th>\n",
       "      <td>False</td>\n",
       "      <td>.</td>\n",
       "      <td>0.33043</td>\n",
       "      <td>False</td>\n",
       "      <td>1</td>\n",
       "      <td>12817</td>\n",
       "      <td>NaN</td>\n",
       "      <td>NaN</td>\n",
       "      <td>NaN</td>\n",
       "      <td>NaN</td>\n",
       "      <td>...</td>\n",
       "      <td>NaN</td>\n",
       "      <td>NaN</td>\n",
       "      <td>NaN</td>\n",
       "      <td>False</td>\n",
       "      <td>AFDiff</td>\n",
       "      <td>.</td>\n",
       "      <td>0.40919</td>\n",
       "      <td>29.0</td>\n",
       "      <td>False</td>\n",
       "      <td>0.0</td>\n",
       "    </tr>\n",
       "    <tr>\n",
       "      <th>...</th>\n",
       "      <td>...</td>\n",
       "      <td>...</td>\n",
       "      <td>...</td>\n",
       "      <td>...</td>\n",
       "      <td>...</td>\n",
       "      <td>...</td>\n",
       "      <td>...</td>\n",
       "      <td>...</td>\n",
       "      <td>...</td>\n",
       "      <td>...</td>\n",
       "      <td>...</td>\n",
       "      <td>...</td>\n",
       "      <td>...</td>\n",
       "      <td>...</td>\n",
       "      <td>...</td>\n",
       "      <td>...</td>\n",
       "      <td>...</td>\n",
       "      <td>...</td>\n",
       "      <td>...</td>\n",
       "      <td>...</td>\n",
       "      <td>...</td>\n",
       "    </tr>\n",
       "    <tr>\n",
       "      <th>4656014</th>\n",
       "      <td>NaN</td>\n",
       "      <td>NaN</td>\n",
       "      <td>NaN</td>\n",
       "      <td>NaN</td>\n",
       "      <td>GL000192.1</td>\n",
       "      <td>542751</td>\n",
       "      <td>NaN</td>\n",
       "      <td>NaN</td>\n",
       "      <td>NaN</td>\n",
       "      <td>NaN</td>\n",
       "      <td>...</td>\n",
       "      <td>NaN</td>\n",
       "      <td>NaN</td>\n",
       "      <td>NaN</td>\n",
       "      <td>False</td>\n",
       "      <td>Deletion</td>\n",
       "      <td>.</td>\n",
       "      <td>1.00000</td>\n",
       "      <td>0.0</td>\n",
       "      <td>False</td>\n",
       "      <td>0.0</td>\n",
       "    </tr>\n",
       "    <tr>\n",
       "      <th>4656015</th>\n",
       "      <td>NaN</td>\n",
       "      <td>NaN</td>\n",
       "      <td>NaN</td>\n",
       "      <td>NaN</td>\n",
       "      <td>GL000192.1</td>\n",
       "      <td>543455</td>\n",
       "      <td>NaN</td>\n",
       "      <td>NaN</td>\n",
       "      <td>NaN</td>\n",
       "      <td>NaN</td>\n",
       "      <td>...</td>\n",
       "      <td>NaN</td>\n",
       "      <td>NaN</td>\n",
       "      <td>NaN</td>\n",
       "      <td>False</td>\n",
       "      <td>StrongLOH</td>\n",
       "      <td>.</td>\n",
       "      <td>0.49260</td>\n",
       "      <td>0.0</td>\n",
       "      <td>False</td>\n",
       "      <td>0.0</td>\n",
       "    </tr>\n",
       "    <tr>\n",
       "      <th>4656016</th>\n",
       "      <td>NaN</td>\n",
       "      <td>NaN</td>\n",
       "      <td>NaN</td>\n",
       "      <td>NaN</td>\n",
       "      <td>GL000192.1</td>\n",
       "      <td>544811</td>\n",
       "      <td>NaN</td>\n",
       "      <td>NaN</td>\n",
       "      <td>NaN</td>\n",
       "      <td>NaN</td>\n",
       "      <td>...</td>\n",
       "      <td>NaN</td>\n",
       "      <td>NaN</td>\n",
       "      <td>NaN</td>\n",
       "      <td>False</td>\n",
       "      <td>StrongLOH</td>\n",
       "      <td>.</td>\n",
       "      <td>0.03416</td>\n",
       "      <td>0.0</td>\n",
       "      <td>False</td>\n",
       "      <td>0.0</td>\n",
       "    </tr>\n",
       "    <tr>\n",
       "      <th>4656017</th>\n",
       "      <td>NaN</td>\n",
       "      <td>NaN</td>\n",
       "      <td>NaN</td>\n",
       "      <td>NaN</td>\n",
       "      <td>GL000192.1</td>\n",
       "      <td>544883</td>\n",
       "      <td>NaN</td>\n",
       "      <td>NaN</td>\n",
       "      <td>NaN</td>\n",
       "      <td>NaN</td>\n",
       "      <td>...</td>\n",
       "      <td>NaN</td>\n",
       "      <td>NaN</td>\n",
       "      <td>NaN</td>\n",
       "      <td>False</td>\n",
       "      <td>Germline</td>\n",
       "      <td>.</td>\n",
       "      <td>0.37634</td>\n",
       "      <td>2.0</td>\n",
       "      <td>False</td>\n",
       "      <td>0.0</td>\n",
       "    </tr>\n",
       "    <tr>\n",
       "      <th>4656018</th>\n",
       "      <td>NaN</td>\n",
       "      <td>NaN</td>\n",
       "      <td>NaN</td>\n",
       "      <td>NaN</td>\n",
       "      <td>GL000192.1</td>\n",
       "      <td>545381</td>\n",
       "      <td>NaN</td>\n",
       "      <td>NaN</td>\n",
       "      <td>NaN</td>\n",
       "      <td>NaN</td>\n",
       "      <td>...</td>\n",
       "      <td>NaN</td>\n",
       "      <td>NaN</td>\n",
       "      <td>NaN</td>\n",
       "      <td>False</td>\n",
       "      <td>AFDiff</td>\n",
       "      <td>.</td>\n",
       "      <td>0.44370</td>\n",
       "      <td>20.0</td>\n",
       "      <td>False</td>\n",
       "      <td>0.0</td>\n",
       "    </tr>\n",
       "  </tbody>\n",
       "</table>\n",
       "<p>4656019 rows × 25 columns</p>\n",
       "</div>"
      ],
      "text/plain": [
       "        SOMATIC_vs        ID_vs   SPV_vs FILTER_PASS_vs       CHROM     POS  \\\n",
       "0            False  rs199706086  0.52291          False           1   10250   \n",
       "1            False  rs145427775  0.60839          False           1   10291   \n",
       "2            False   rs58108140  0.68908          False           1   10583   \n",
       "3            False   rs62635284  0.75242          False           1   12783   \n",
       "4            False            .  0.33043          False           1   12817   \n",
       "...            ...          ...      ...            ...         ...     ...   \n",
       "4656014        NaN          NaN      NaN            NaN  GL000192.1  542751   \n",
       "4656015        NaN          NaN      NaN            NaN  GL000192.1  543455   \n",
       "4656016        NaN          NaN      NaN            NaN  GL000192.1  544811   \n",
       "4656017        NaN          NaN      NaN            NaN  GL000192.1  544883   \n",
       "4656018        NaN          NaN      NaN            NaN  GL000192.1  545381   \n",
       "\n",
       "        SOMATIC_fb      QUAL_fb       ID_fb   QR_fb  ...  \\\n",
       "0              NaN          NaN         NaN     NaN  ...   \n",
       "1              NaN          NaN         NaN     NaN  ...   \n",
       "2            False   271.100006  rs58108140  1198.0  ...   \n",
       "3            False  2044.599976  rs62635284  2335.0  ...   \n",
       "4              NaN          NaN         NaN     NaN  ...   \n",
       "...            ...          ...         ...     ...  ...   \n",
       "4656014        NaN          NaN         NaN     NaN  ...   \n",
       "4656015        NaN          NaN         NaN     NaN  ...   \n",
       "4656016        NaN          NaN         NaN     NaN  ...   \n",
       "4656017        NaN          NaN         NaN     NaN  ...   \n",
       "4656018        NaN          NaN         NaN     NaN  ...   \n",
       "\n",
       "         FILTER_t_lod_fstar_m2 HCNT_m2 DP_m2 FILTER_PASS_vd  STATUS_vd  \\\n",
       "0                          NaN     NaN   NaN            NaN        NaN   \n",
       "1                          NaN     NaN   NaN            NaN        NaN   \n",
       "2                          NaN     NaN   NaN          False   Germline   \n",
       "3                          NaN     NaN   NaN          False   Germline   \n",
       "4                          NaN     NaN   NaN          False     AFDiff   \n",
       "...                        ...     ...   ...            ...        ...   \n",
       "4656014                    NaN     NaN   NaN          False   Deletion   \n",
       "4656015                    NaN     NaN   NaN          False  StrongLOH   \n",
       "4656016                    NaN     NaN   NaN          False  StrongLOH   \n",
       "4656017                    NaN     NaN   NaN          False   Germline   \n",
       "4656018                    NaN     NaN   NaN          False     AFDiff   \n",
       "\n",
       "              ID_vd   SSF_vd  VD_vd SOMATIC_vd truth  \n",
       "0               NaN      NaN    NaN        NaN   0.0  \n",
       "1               NaN      NaN    NaN        NaN   0.0  \n",
       "2        rs58108140  0.47730   11.0      False   0.0  \n",
       "3        rs62635284  0.48250   99.0      False   0.0  \n",
       "4                 .  0.40919   29.0      False   0.0  \n",
       "...             ...      ...    ...        ...   ...  \n",
       "4656014           .  1.00000    0.0      False   0.0  \n",
       "4656015           .  0.49260    0.0      False   0.0  \n",
       "4656016           .  0.03416    0.0      False   0.0  \n",
       "4656017           .  0.37634    2.0      False   0.0  \n",
       "4656018           .  0.44370   20.0      False   0.0  \n",
       "\n",
       "[4656019 rows x 25 columns]"
      ]
     },
     "execution_count": 16,
     "metadata": {},
     "output_type": "execute_result"
    }
   ],
   "source": [
    "combined"
   ]
  },
  {
   "cell_type": "code",
   "execution_count": 17,
   "metadata": {},
   "outputs": [],
   "source": [
    "X = combined[combined.columns[~combined.columns.isin(['truth','POS','CHROM'])]]\n",
    "\n",
    "y = combined['truth'] "
   ]
  },
  {
   "cell_type": "code",
   "execution_count": null,
   "metadata": {},
   "outputs": [],
   "source": []
  },
  {
   "cell_type": "code",
   "execution_count": 18,
   "metadata": {},
   "outputs": [],
   "source": [
    "# ordinal encoding for REF and ALT\n",
    "from sklearn.preprocessing import OrdinalEncoder\n",
    "enc = OrdinalEncoder()\n",
    "enc.fit(X)\n",
    "new_X = enc.transform(X)"
   ]
  },
  {
   "cell_type": "code",
   "execution_count": 19,
   "metadata": {},
   "outputs": [],
   "source": [
    "newn_X = pd.DataFrame(new_X, columns = X.columns)"
   ]
  },
  {
   "cell_type": "code",
   "execution_count": 46,
   "metadata": {},
   "outputs": [],
   "source": [
    "from sklearn.model_selection import train_test_split\n",
    "\n",
    "X_train, X_test, y_train, y_test = train_test_split(newn_X, y, test_size=0.3, random_state = 0 )"
   ]
  },
  {
   "cell_type": "code",
   "execution_count": 21,
   "metadata": {},
   "outputs": [],
   "source": [
    "# Classifier/Regressor\n",
    "from xgboost import XGBClassifier, DMatrix\n",
    "from functools import partial\n",
    "# Model selection\n",
    "from sklearn.model_selection import KFold, StratifiedKFold\n",
    "\n",
    "# Metrics\n",
    "from sklearn.metrics import mean_squared_error\n",
    "from sklearn.metrics import make_scorer\n",
    "\n",
    "# Skopt functions\n",
    "from skopt import BayesSearchCV\n",
    "from skopt.callbacks import DeadlineStopper, DeltaYStopper\n",
    "from skopt.space import Real, Categorical, Integer\n",
    "\n",
    "# Data processing\n",
    "from sklearn.preprocessing import OrdinalEncoder\n",
    "from sklearn.decomposition import TruncatedSVD\n",
    "from sklearn.feature_extraction.text import TfidfVectorizer, CountVectorizer\n",
    "from bayes_opt import BayesianOptimization\n",
    "from sklearn.model_selection import cross_val_score\n"
   ]
  },
  {
   "cell_type": "code",
   "execution_count": 17,
   "metadata": {},
   "outputs": [],
   "source": [
    "# Reporting util for different optimizers\n",
    "def report_perf(optimizer, X, y, title=\"model\", callbacks=None):\n",
    "    \"\"\"\n",
    "    A wrapper for measuring time and performances of different optmizers\n",
    "    \n",
    "    optimizer = a sklearn or a skopt optimizer\n",
    "    X = the training set \n",
    "    y = our target\n",
    "    title = a string label for the experiment\n",
    "    \"\"\"\n",
    "    start = time()\n",
    "    \n",
    "    if callbacks is not None:\n",
    "        optimizer.fit(X, y, callback=callbacks)\n",
    "    else:\n",
    "        optimizer.fit(X, y)\n",
    "        \n",
    "    d = pd.DataFrame(optimizer.cv_results_)\n",
    "    \n",
    "    \n",
    "    best_score = optimizer.best_score_\n",
    "    best_score_std = d.iloc[optimizer.best_index_].std_test_score\n",
    "    best_params = optimizer.best_params_\n",
    "    \n",
    "    print((title + \" took %.2f seconds,  candidates checked: %d, best CV score: %.3f \"\n",
    "           + u\"\\u00B1\"+\" %.3f\") % (time() - start, \n",
    "                                   len(optimizer.cv_results_['params']),\n",
    "                                   best_score,\n",
    "                                   best_score_std))    \n",
    "    print('Best parameters:')\n",
    "    pprint.pprint(best_params)\n",
    "    print()\n",
    "    return best_params"
   ]
  },
  {
   "cell_type": "code",
   "execution_count": 18,
   "metadata": {},
   "outputs": [],
   "source": [
    "# Setting the validation strategy\n",
    "skf = StratifiedKFold(n_splits=7,\n",
    "                      shuffle=True, \n",
    "                      random_state=42)\n",
    "\n",
    "cv_strategy = list(skf.split(X_train, y_train))"
   ]
  },
  {
   "cell_type": "code",
   "execution_count": 19,
   "metadata": {},
   "outputs": [],
   "source": [
    "# Setting the basic regressor\n",
    "clf = XGBClassifier(random_state=0, \n",
    "                    booster='gbtree', \n",
    "                    eval_metric = 'auc',\n",
    "                    objective='binary:logistic', \n",
    "                    tree_method='approx', verbosity = 0)"
   ]
  },
  {
   "cell_type": "code",
   "execution_count": 22,
   "metadata": {},
   "outputs": [],
   "source": [
    "# Setting the search space\n",
    "search_spaces = {'learning_rate': Real(0.01, 1.0, 'uniform'),\n",
    "                 'n_estimators': Integer(100, 1000),\n",
    "                 'max_depth': Integer(3, 20),\n",
    "                 'subsample': Real(0.1, 1.0, 'uniform'), # change for big datasets\n",
    "                 'colsample_bytree': Real(0.5, 1.0, 'uniform'), # subsample ratio of columns by tree, for samples with lots of features\n",
    "                 'gamma': Real(1e-9, 100., 'uniform'), # Minimum loss reduction required to make a further partition on a leaf node of the tree. The larger gamma is, the more conservative the algorithm will be\n",
    "                 'reg_alpha': Real(1e-9, 100., 'uniform'), # L1 regularization\n",
    "                 'reg_lambda': (1e-9, 100, 'uniform')\n",
    "                 \n",
    "   }"
   ]
  },
  {
   "cell_type": "code",
   "execution_count": 23,
   "metadata": {},
   "outputs": [],
   "source": [
    "# Setting the search space\n",
    "search_spaces = {'learning_rate': Real(0.01, 1.0, 'uniform'),\n",
    "                 'n_estimators': Integer(100, 1000),\n",
    "                 'max_depth': Integer(3, 20),\n",
    "                 'subsample': Real(0.1, 1.0, 'uniform'), # change for big datasets\n",
    "                 'colsample_bytree': Real(0.5, 1.0, 'uniform'), # subsample ratio of columns by tree, for samples with lots of features\n",
    "                 'gamma': Real(1e-9, 100., 'uniform'), # Minimum loss reduction required to make a further partition on a leaf node of the tree. The larger gamma is, the more conservative the algorithm will be\n",
    "                 'reg_alpha': Real(1e-9, 100., 'uniform'), # L1 regularization\n",
    "                 'reg_lambda': (1e-9, 100, 'uniform')\n",
    "                 \n",
    "   }"
   ]
  },
  {
   "cell_type": "code",
   "execution_count": 24,
   "metadata": {},
   "outputs": [],
   "source": [
    "# Wrapping everything up into the Bayesian optimizer\n",
    "from time import time\n",
    "baye_opt = BayesSearchCV(\n",
    "    estimator = clf,\n",
    "    search_spaces = search_spaces,\n",
    "    scoring = 'roc_auc',\n",
    "    cv = cv_strategy,\n",
    "    n_iter=120,                                       # max number of trials\n",
    "    n_points=1,                                       # number of hyperparameter sets evaluated at the same time\n",
    "    n_jobs=1,                                         # number of jobs\n",
    "    #iid=False,                                        # if not iid it optimizes on the cv score\n",
    "    # return_train_score=False,\n",
    "    refit=False,\n",
    "    optimizer_kwargs={'base_estimator': 'GP'},        # optmizer parameters: we use Gaussian Process (GP)\n",
    "    random_state=0)   "
   ]
  },
  {
   "cell_type": "code",
   "execution_count": 24,
   "metadata": {},
   "outputs": [
    {
     "name": "stdout",
     "output_type": "stream",
     "text": [
      "XGBoost_classifier took 2710.30 seconds,  candidates checked: 1, best CV score: 0.999 ± 0.000\n",
      "Best parameters:\n",
      "OrderedDict([('colsample_bytree', 0.7654820824760737),\n",
      "             ('gamma', 67.60795088801528),\n",
      "             ('learning_rate', 0.6264826551031426),\n",
      "             ('max_depth', 14),\n",
      "             ('n_estimators', 873),\n",
      "             ('reg_alpha', 98.05562626781331),\n",
      "             ('reg_lambda', 13),\n",
      "             ('subsample', 0.10147326463495382)])\n",
      "\n"
     ]
    }
   ],
   "source": [
    "# Running the optimizer # using the first search space\n",
    "\n",
    "overdone_control = DeltaYStopper(delta=0.0001)                    # We stop if the gain of the optimization becomes too small\n",
    "time_limit_control = DeadlineStopper(total_time=60*60*1)          # We impose a time limit (1 hours)\n",
    "\n",
    "best_params = report_perf(baye_opt, X_train, y_train,'XGBoost_classifier', \n",
    "                          callbacks=[overdone_control, time_limit_control])"
   ]
  },
  {
   "cell_type": "code",
   "execution_count": null,
   "metadata": {},
   "outputs": [],
   "source": [
    "XGBoost_classifier took 2710.30 seconds,  candidates checked: 1, best CV score: 0.999 ± 0.000\n",
    "Best parameters:\n",
    "OrderedDict([('colsample_bytree', 0.7654820824760737),\n",
    "             ('gamma', 67.60795088801528),\n",
    "             ('learning_rate', 0.6264826551031426),\n",
    "             ('max_depth', 14),\n",
    "             ('n_estimators', 873),\n",
    "             ('reg_alpha', 98.05562626781331),\n",
    "             ('reg_lambda', 13),\n",
    "             ('subsample', 0.10147326463495382)])\n"
   ]
  },
  {
   "cell_type": "code",
   "execution_count": 25,
   "metadata": {},
   "outputs": [
    {
     "name": "stdout",
     "output_type": "stream",
     "text": [
      "XGBoost_classifier took 27373.99 seconds,  candidates checked: 2, best CV score: 0.999 ± 0.002\n",
      "Best parameters:\n",
      "OrderedDict([('colsample_bytree', 0.629185830986374),\n",
      "             ('gamma', 97.89036584265726),\n",
      "             ('learning_rate', 0.9093539899332748),\n",
      "             ('max_depth', 13),\n",
      "             ('n_estimators', 336),\n",
      "             ('reg_alpha', 16.27824954246273),\n",
      "             ('reg_lambda', 77),\n",
      "             ('subsample', 0.6208182237087633)])\n",
      "\n"
     ]
    }
   ],
   "source": [
    "# Running the optimizer # using the first search space\n",
    "\n",
    "overdone_control = DeltaYStopper(delta=0.0001)                    # We stop if the gain of the optimization becomes too small\n",
    "time_limit_control = DeadlineStopper(total_time=60*60*4)          # We impose a time limit (1 hours)\n",
    "\n",
    "best_param4s = report_perf(baye_opt, X_train, y_train,'XGBoost_classifier', \n",
    "                          callbacks=[overdone_control, time_limit_control])"
   ]
  },
  {
   "cell_type": "code",
   "execution_count": null,
   "metadata": {},
   "outputs": [],
   "source": [
    "XGBoost_classifier took 27373.99 seconds,  candidates checked: 2, best CV score: 0.999 ± 0.002\n",
    "Best parameters:\n",
    "OrderedDict([('colsample_bytree', 0.629185830986374),\n",
    "             ('gamma', 97.89036584265726),\n",
    "             ('learning_rate', 0.9093539899332748),\n",
    "             ('max_depth', 13),\n",
    "             ('n_estimators', 336),\n",
    "             ('reg_alpha', 16.27824954246273),\n",
    "             ('reg_lambda', 77),\n",
    "             ('subsample', 0.6208182237087633)])"
   ]
  },
  {
   "cell_type": "code",
   "execution_count": 61,
   "metadata": {},
   "outputs": [],
   "source": [
    "final_target_features = {'freebayes': ['SOMATIC', 'QUAL', 'ID', 'QR', 'DPB', 'CHROM', 'POS', 'is_snp'],\n",
    " 'mutect2': ['FILTER_PASS','ID','ECNT','MQ','FILTER_t_lod_fstar','HCNT','DP','CHROM','POS','is_snp',],\n",
    " 'vardict': ['FILTER_PASS','STATUS','ID','SSF','VD','SOMATIC','CHROM','POS','is_snp'],\n",
    " 'varscan': ['SOMATIC', 'ID', 'SPV', 'FILTER_PASS', 'CHROM', 'POS', 'is_snp']}\n"
   ]
  },
  {
   "cell_type": "code",
   "execution_count": 8,
   "metadata": {},
   "outputs": [],
   "source": [
    "# training with new paramters \n",
    "\n",
    "real1_varscan_sub = allel.vcf_to_dataframe(\"real1/real1-varscan.vcf.gz\", fields = final_target_features['varscan'])\n",
    "\n",
    "real1_freebayes_sub = allel.vcf_to_dataframe(\"real1/real1-freebayes.vcf.gz\", fields = final_target_features['freebayes'])\n",
    "\n",
    "real1_mutect2_sub = allel.vcf_to_dataframe(\"real1/real1-mutect2.vcf.gz\", fields =final_target_features['mutect2'])\n",
    "\n",
    "real1_vardict_sub = allel.vcf_to_dataframe(\"real1/real1-vardict.vcf.gz\", fields = final_target_features['vardict'])"
   ]
  },
  {
   "cell_type": "code",
   "execution_count": null,
   "metadata": {},
   "outputs": [],
   "source": [
    "OrderedDict([('colsample_bytree', 0.629185830986374),\n",
    "             ('gamma', 97.89036584265726),\n",
    "             ('learning_rate', 0.9093539899332748),\n",
    "             ('max_depth', 13),\n",
    "             ('n_estimators', 336),\n",
    "             ('reg_alpha', 16.27824954246273),\n",
    "             ('reg_lambda', 77),\n",
    "             ('subsample', 0.6208182237087633)])"
   ]
  },
  {
   "cell_type": "code",
   "execution_count": 48,
   "metadata": {},
   "outputs": [],
   "source": [
    "model = XGBClassifier(colsample_bytree =  0.629185830986374,\n",
    "                      gamma = 97.89036584265726,\n",
    "                      learning_rate = 0.9093539899332748,\n",
    "                      max_depth = 13,\n",
    "                      n_estimators = 336,\n",
    "                      reg_alpha = 16.27824954246273,\n",
    "                      reg_lambda = 77,\n",
    "                      subsample = 0.6208182237087633)"
   ]
  },
  {
   "cell_type": "code",
   "execution_count": null,
   "metadata": {},
   "outputs": [],
   "source": [
    "# Transferring the best parameters to our basic regressor\n",
    "# reg = XGBRegressor(random_state=0, booster='gbtree', objective='reg:squarederror', tree_method='gpu_hist', **best_params)\n",
    "#clf = XGBClassifier(random_state=0, \n",
    "#                    booster='gbtree', \n",
    "#                    eval_metric = 'auc',\n",
    " #                   objective='binary:logistic', \n",
    "  #                  tree_method='approx', verbosity = 0)#"
   ]
  },
  {
   "cell_type": "code",
   "execution_count": 55,
   "metadata": {},
   "outputs": [
    {
     "name": "stderr",
     "output_type": "stream",
     "text": [
      "/Users/ting/opt/anaconda3/lib/python3.9/site-packages/xgboost/sklearn.py:835: UserWarning: `eval_metric` in `fit` method is deprecated for better compatibility with scikit-learn, use `eval_metric` in constructor or`set_params` instead.\n",
      "  warnings.warn(\n",
      "/Users/ting/opt/anaconda3/lib/python3.9/site-packages/xgboost/sklearn.py:835: UserWarning: `early_stopping_rounds` in `fit` method is deprecated for better compatibility with scikit-learn, use `early_stopping_rounds` in constructor or`set_params` instead.\n",
      "  warnings.warn(\n"
     ]
    },
    {
     "name": "stdout",
     "output_type": "stream",
     "text": [
      "[0]\tvalidation_0-error:0.00008\tvalidation_0-logloss:0.15072\tvalidation_0-auc:0.93402\tvalidation_1-error:0.00006\tvalidation_1-logloss:0.15069\tvalidation_1-auc:0.94486\n",
      "[1]\tvalidation_0-error:0.00007\tvalidation_0-logloss:0.05527\tvalidation_0-auc:0.98003\tvalidation_1-error:0.00005\tvalidation_1-logloss:0.05523\tvalidation_1-auc:0.98298\n",
      "[2]\tvalidation_0-error:0.00007\tvalidation_0-logloss:0.02177\tvalidation_0-auc:0.98630\tvalidation_1-error:0.00005\tvalidation_1-logloss:0.02173\tvalidation_1-auc:0.98722\n",
      "[3]\tvalidation_0-error:0.00007\tvalidation_0-logloss:0.00889\tvalidation_0-auc:0.98630\tvalidation_1-error:0.00005\tvalidation_1-logloss:0.00885\tvalidation_1-auc:0.98722\n",
      "[4]\tvalidation_0-error:0.00007\tvalidation_0-logloss:0.00379\tvalidation_0-auc:0.98630\tvalidation_1-error:0.00005\tvalidation_1-logloss:0.00374\tvalidation_1-auc:0.98721\n",
      "[5]\tvalidation_0-error:0.00007\tvalidation_0-logloss:0.00174\tvalidation_0-auc:0.98629\tvalidation_1-error:0.00005\tvalidation_1-logloss:0.00170\tvalidation_1-auc:0.98721\n",
      "[6]\tvalidation_0-error:0.00007\tvalidation_0-logloss:0.00090\tvalidation_0-auc:0.99876\tvalidation_1-error:0.00005\tvalidation_1-logloss:0.00085\tvalidation_1-auc:0.99978\n",
      "[7]\tvalidation_0-error:0.00007\tvalidation_0-logloss:0.00056\tvalidation_0-auc:0.99879\tvalidation_1-error:0.00005\tvalidation_1-logloss:0.00051\tvalidation_1-auc:0.99988\n",
      "[8]\tvalidation_0-error:0.00007\tvalidation_0-logloss:0.00041\tvalidation_0-auc:0.99878\tvalidation_1-error:0.00005\tvalidation_1-logloss:0.00035\tvalidation_1-auc:0.99984\n",
      "[9]\tvalidation_0-error:0.00007\tvalidation_0-logloss:0.00038\tvalidation_0-auc:0.99878\tvalidation_1-error:0.00005\tvalidation_1-logloss:0.00033\tvalidation_1-auc:0.99984\n",
      "[10]\tvalidation_0-error:0.00007\tvalidation_0-logloss:0.00038\tvalidation_0-auc:0.99878\tvalidation_1-error:0.00005\tvalidation_1-logloss:0.00033\tvalidation_1-auc:0.99984\n",
      "[11]\tvalidation_0-error:0.00007\tvalidation_0-logloss:0.00038\tvalidation_0-auc:0.99878\tvalidation_1-error:0.00005\tvalidation_1-logloss:0.00032\tvalidation_1-auc:0.99984\n",
      "[12]\tvalidation_0-error:0.00007\tvalidation_0-logloss:0.00037\tvalidation_0-auc:0.99878\tvalidation_1-error:0.00005\tvalidation_1-logloss:0.00032\tvalidation_1-auc:0.99984\n",
      "[13]\tvalidation_0-error:0.00007\tvalidation_0-logloss:0.00037\tvalidation_0-auc:0.99878\tvalidation_1-error:0.00005\tvalidation_1-logloss:0.00032\tvalidation_1-auc:0.99984\n",
      "[14]\tvalidation_0-error:0.00007\tvalidation_0-logloss:0.00037\tvalidation_0-auc:0.99878\tvalidation_1-error:0.00005\tvalidation_1-logloss:0.00032\tvalidation_1-auc:0.99984\n",
      "[15]\tvalidation_0-error:0.00007\tvalidation_0-logloss:0.00037\tvalidation_0-auc:0.99878\tvalidation_1-error:0.00005\tvalidation_1-logloss:0.00032\tvalidation_1-auc:0.99984\n",
      "[16]\tvalidation_0-error:0.00007\tvalidation_0-logloss:0.00037\tvalidation_0-auc:0.99878\tvalidation_1-error:0.00005\tvalidation_1-logloss:0.00032\tvalidation_1-auc:0.99984\n",
      "[17]\tvalidation_0-error:0.00007\tvalidation_0-logloss:0.00037\tvalidation_0-auc:0.99878\tvalidation_1-error:0.00005\tvalidation_1-logloss:0.00032\tvalidation_1-auc:0.99984\n",
      "[18]\tvalidation_0-error:0.00007\tvalidation_0-logloss:0.00037\tvalidation_0-auc:0.99878\tvalidation_1-error:0.00005\tvalidation_1-logloss:0.00032\tvalidation_1-auc:0.99984\n",
      "[19]\tvalidation_0-error:0.00007\tvalidation_0-logloss:0.00037\tvalidation_0-auc:0.99878\tvalidation_1-error:0.00005\tvalidation_1-logloss:0.00032\tvalidation_1-auc:0.99984\n",
      "[20]\tvalidation_0-error:0.00007\tvalidation_0-logloss:0.00037\tvalidation_0-auc:0.99878\tvalidation_1-error:0.00005\tvalidation_1-logloss:0.00032\tvalidation_1-auc:0.99984\n",
      "[21]\tvalidation_0-error:0.00007\tvalidation_0-logloss:0.00037\tvalidation_0-auc:0.99878\tvalidation_1-error:0.00005\tvalidation_1-logloss:0.00032\tvalidation_1-auc:0.99984\n",
      "[22]\tvalidation_0-error:0.00007\tvalidation_0-logloss:0.00037\tvalidation_0-auc:0.99878\tvalidation_1-error:0.00005\tvalidation_1-logloss:0.00032\tvalidation_1-auc:0.99984\n",
      "[23]\tvalidation_0-error:0.00007\tvalidation_0-logloss:0.00037\tvalidation_0-auc:0.99878\tvalidation_1-error:0.00005\tvalidation_1-logloss:0.00032\tvalidation_1-auc:0.99984\n",
      "[24]\tvalidation_0-error:0.00007\tvalidation_0-logloss:0.00037\tvalidation_0-auc:0.99878\tvalidation_1-error:0.00005\tvalidation_1-logloss:0.00032\tvalidation_1-auc:0.99984\n",
      "[25]\tvalidation_0-error:0.00007\tvalidation_0-logloss:0.00037\tvalidation_0-auc:0.99878\tvalidation_1-error:0.00005\tvalidation_1-logloss:0.00032\tvalidation_1-auc:0.99984\n",
      "[26]\tvalidation_0-error:0.00007\tvalidation_0-logloss:0.00037\tvalidation_0-auc:0.99878\tvalidation_1-error:0.00005\tvalidation_1-logloss:0.00032\tvalidation_1-auc:0.99984\n",
      "[27]\tvalidation_0-error:0.00007\tvalidation_0-logloss:0.00037\tvalidation_0-auc:0.99878\tvalidation_1-error:0.00005\tvalidation_1-logloss:0.00032\tvalidation_1-auc:0.99984\n",
      "[28]\tvalidation_0-error:0.00007\tvalidation_0-logloss:0.00037\tvalidation_0-auc:0.99878\tvalidation_1-error:0.00005\tvalidation_1-logloss:0.00032\tvalidation_1-auc:0.99984\n",
      "[29]\tvalidation_0-error:0.00007\tvalidation_0-logloss:0.00037\tvalidation_0-auc:0.99878\tvalidation_1-error:0.00005\tvalidation_1-logloss:0.00032\tvalidation_1-auc:0.99984\n",
      "[30]\tvalidation_0-error:0.00007\tvalidation_0-logloss:0.00037\tvalidation_0-auc:0.99878\tvalidation_1-error:0.00005\tvalidation_1-logloss:0.00032\tvalidation_1-auc:0.99984\n",
      "[31]\tvalidation_0-error:0.00007\tvalidation_0-logloss:0.00037\tvalidation_0-auc:0.99878\tvalidation_1-error:0.00005\tvalidation_1-logloss:0.00032\tvalidation_1-auc:0.99984\n",
      "[32]\tvalidation_0-error:0.00007\tvalidation_0-logloss:0.00037\tvalidation_0-auc:0.99878\tvalidation_1-error:0.00005\tvalidation_1-logloss:0.00032\tvalidation_1-auc:0.99984\n",
      "[33]\tvalidation_0-error:0.00007\tvalidation_0-logloss:0.00037\tvalidation_0-auc:0.99878\tvalidation_1-error:0.00005\tvalidation_1-logloss:0.00032\tvalidation_1-auc:0.99984\n",
      "[34]\tvalidation_0-error:0.00007\tvalidation_0-logloss:0.00037\tvalidation_0-auc:0.99878\tvalidation_1-error:0.00005\tvalidation_1-logloss:0.00032\tvalidation_1-auc:0.99984\n",
      "[35]\tvalidation_0-error:0.00007\tvalidation_0-logloss:0.00037\tvalidation_0-auc:0.99878\tvalidation_1-error:0.00005\tvalidation_1-logloss:0.00032\tvalidation_1-auc:0.99984\n",
      "[36]\tvalidation_0-error:0.00007\tvalidation_0-logloss:0.00037\tvalidation_0-auc:0.99878\tvalidation_1-error:0.00005\tvalidation_1-logloss:0.00032\tvalidation_1-auc:0.99984\n",
      "[37]\tvalidation_0-error:0.00007\tvalidation_0-logloss:0.00037\tvalidation_0-auc:0.99878\tvalidation_1-error:0.00005\tvalidation_1-logloss:0.00032\tvalidation_1-auc:0.99984\n",
      "[38]\tvalidation_0-error:0.00007\tvalidation_0-logloss:0.00037\tvalidation_0-auc:0.99878\tvalidation_1-error:0.00005\tvalidation_1-logloss:0.00032\tvalidation_1-auc:0.99984\n",
      "[39]\tvalidation_0-error:0.00007\tvalidation_0-logloss:0.00037\tvalidation_0-auc:0.99878\tvalidation_1-error:0.00005\tvalidation_1-logloss:0.00032\tvalidation_1-auc:0.99984\n",
      "[40]\tvalidation_0-error:0.00007\tvalidation_0-logloss:0.00037\tvalidation_0-auc:0.99878\tvalidation_1-error:0.00005\tvalidation_1-logloss:0.00032\tvalidation_1-auc:0.99984\n",
      "[41]\tvalidation_0-error:0.00007\tvalidation_0-logloss:0.00037\tvalidation_0-auc:0.99878\tvalidation_1-error:0.00005\tvalidation_1-logloss:0.00032\tvalidation_1-auc:0.99984\n",
      "[42]\tvalidation_0-error:0.00007\tvalidation_0-logloss:0.00037\tvalidation_0-auc:0.99878\tvalidation_1-error:0.00005\tvalidation_1-logloss:0.00032\tvalidation_1-auc:0.99984\n",
      "[43]\tvalidation_0-error:0.00007\tvalidation_0-logloss:0.00037\tvalidation_0-auc:0.99878\tvalidation_1-error:0.00005\tvalidation_1-logloss:0.00032\tvalidation_1-auc:0.99984\n",
      "[44]\tvalidation_0-error:0.00007\tvalidation_0-logloss:0.00037\tvalidation_0-auc:0.99878\tvalidation_1-error:0.00005\tvalidation_1-logloss:0.00032\tvalidation_1-auc:0.99984\n",
      "[45]\tvalidation_0-error:0.00007\tvalidation_0-logloss:0.00037\tvalidation_0-auc:0.99878\tvalidation_1-error:0.00005\tvalidation_1-logloss:0.00032\tvalidation_1-auc:0.99984\n",
      "[46]\tvalidation_0-error:0.00007\tvalidation_0-logloss:0.00037\tvalidation_0-auc:0.99878\tvalidation_1-error:0.00005\tvalidation_1-logloss:0.00032\tvalidation_1-auc:0.99984\n",
      "[47]\tvalidation_0-error:0.00007\tvalidation_0-logloss:0.00037\tvalidation_0-auc:0.99878\tvalidation_1-error:0.00005\tvalidation_1-logloss:0.00032\tvalidation_1-auc:0.99984\n",
      "[48]\tvalidation_0-error:0.00007\tvalidation_0-logloss:0.00037\tvalidation_0-auc:0.99878\tvalidation_1-error:0.00005\tvalidation_1-logloss:0.00032\tvalidation_1-auc:0.99984\n",
      "[49]\tvalidation_0-error:0.00007\tvalidation_0-logloss:0.00037\tvalidation_0-auc:0.99878\tvalidation_1-error:0.00005\tvalidation_1-logloss:0.00032\tvalidation_1-auc:0.99984\n"
     ]
    },
    {
     "name": "stdout",
     "output_type": "stream",
     "text": [
      "[50]\tvalidation_0-error:0.00007\tvalidation_0-logloss:0.00037\tvalidation_0-auc:0.99878\tvalidation_1-error:0.00005\tvalidation_1-logloss:0.00032\tvalidation_1-auc:0.99984\n",
      "[51]\tvalidation_0-error:0.00007\tvalidation_0-logloss:0.00037\tvalidation_0-auc:0.99878\tvalidation_1-error:0.00005\tvalidation_1-logloss:0.00032\tvalidation_1-auc:0.99984\n",
      "[52]\tvalidation_0-error:0.00007\tvalidation_0-logloss:0.00037\tvalidation_0-auc:0.99878\tvalidation_1-error:0.00005\tvalidation_1-logloss:0.00032\tvalidation_1-auc:0.99984\n",
      "[53]\tvalidation_0-error:0.00007\tvalidation_0-logloss:0.00037\tvalidation_0-auc:0.99878\tvalidation_1-error:0.00005\tvalidation_1-logloss:0.00032\tvalidation_1-auc:0.99984\n",
      "[54]\tvalidation_0-error:0.00007\tvalidation_0-logloss:0.00037\tvalidation_0-auc:0.99878\tvalidation_1-error:0.00005\tvalidation_1-logloss:0.00032\tvalidation_1-auc:0.99984\n",
      "[55]\tvalidation_0-error:0.00007\tvalidation_0-logloss:0.00037\tvalidation_0-auc:0.99878\tvalidation_1-error:0.00005\tvalidation_1-logloss:0.00032\tvalidation_1-auc:0.99984\n",
      "[56]\tvalidation_0-error:0.00007\tvalidation_0-logloss:0.00037\tvalidation_0-auc:0.99878\tvalidation_1-error:0.00005\tvalidation_1-logloss:0.00032\tvalidation_1-auc:0.99984\n",
      "[57]\tvalidation_0-error:0.00007\tvalidation_0-logloss:0.00037\tvalidation_0-auc:0.99878\tvalidation_1-error:0.00005\tvalidation_1-logloss:0.00032\tvalidation_1-auc:0.99984\n"
     ]
    },
    {
     "data": {
      "text/plain": [
       "XGBClassifier(base_score=None, booster=None, callbacks=None,\n",
       "              colsample_bylevel=None, colsample_bynode=None,\n",
       "              colsample_bytree=0.629185830986374, early_stopping_rounds=None,\n",
       "              enable_categorical=False, eval_metric=None, feature_types=None,\n",
       "              gamma=97.89036584265726, gpu_id=None, grow_policy=None,\n",
       "              importance_type=None, interaction_constraints=None,\n",
       "              learning_rate=0.9093539899332748, max_bin=None,\n",
       "              max_cat_threshold=None, max_cat_to_onehot=None,\n",
       "              max_delta_step=None, max_depth=13, max_leaves=None,\n",
       "              min_child_weight=None, missing=nan, monotone_constraints=None,\n",
       "              n_estimators=336, n_jobs=None, num_parallel_tree=None,\n",
       "              predictor=None, random_state=None, ...)"
      ]
     },
     "execution_count": 55,
     "metadata": {},
     "output_type": "execute_result"
    }
   ],
   "source": [
    "# with early stopping\n",
    "X_train, X_val, y_train, y_val = train_test_split(X_train, y_train, test_size = 0.20, random_state = 0)\n",
    "eval_set = [(X_train, y_train), (X_val, y_val)]\n",
    "model.fit(X_train, y_train, early_stopping_rounds = 50, \n",
    "          eval_set = eval_set,\n",
    "          eval_metric = ['error', 'logloss', 'auc'],\n",
    "          verbose = True)"
   ]
  },
  {
   "cell_type": "code",
   "execution_count": 57,
   "metadata": {},
   "outputs": [],
   "source": [
    "# RETRIVEE \n",
    "results = model.evals_result()\n",
    "epochs = len(results['validation_0']['auc'])\n",
    "x_axis = range(0, epochs)"
   ]
  },
  {
   "cell_type": "code",
   "execution_count": 58,
   "metadata": {},
   "outputs": [],
   "source": [
    "from matplotlib import pyplot"
   ]
  },
  {
   "cell_type": "code",
   "execution_count": 56,
   "metadata": {},
   "outputs": [
    {
     "name": "stdout",
     "output_type": "stream",
     "text": [
      "[[1396376      35]\n",
      " [     83     312]]\n"
     ]
    },
    {
     "data": {
      "text/plain": [
       "0.8409703504043127"
      ]
     },
     "execution_count": 56,
     "metadata": {},
     "output_type": "execute_result"
    }
   ],
   "source": [
    "y_pred = model.predict(X_test)\n",
    "from sklearn.metrics import classification_report\n",
    "from sklearn import metrics\n",
    "print(confusion_matrix(y_test,y_pred))\n",
    "\n",
    "f1_score = metrics.f1_score(y_true = y_test, y_pred = y_pred)\n",
    "precision_score = metrics.precision_score(y_true = y_test, y_pred = y_pred)\n",
    "recall_score = metrics.recall_score(y_true = y_test, y_pred = y_pred)\n",
    "\n",
    "f1_score"
   ]
  },
  {
   "cell_type": "code",
   "execution_count": 60,
   "metadata": {},
   "outputs": [
    {
     "data": {
      "image/png": "[encoded data removed]",
      "text/plain": [
       "<Figure size 432x288 with 1 Axes>"
      ]
     },
     "metadata": {
      "needs_background": "light"
     },
     "output_type": "display_data"
    },
    {
     "data": {
      "image/png": "[encoded data removed]",
      "text/plain": [
       "<Figure size 432x288 with 1 Axes>"
      ]
     },
     "metadata": {
      "needs_background": "light"
     },
     "output_type": "display_data"
    }
   ],
   "source": [
    "# plot log loss\n",
    "fig, ax = pyplot.subplots()\n",
    "ax.plot(x_axis, results['validation_0']['logloss'], label='Train')\n",
    "ax.plot(x_axis, results['validation_1']['logloss'], label='Val')\n",
    "ax.legend()\n",
    "pyplot.ylabel('Log Loss')\n",
    "pyplot.title('XGBoost Log Loss')\n",
    "pyplot.show()\n",
    "# plot classification error\n",
    "fig, ax = pyplot.subplots()\n",
    "ax.plot(x_axis, results['validation_0']['error'], label='Train')\n",
    "ax.plot(x_axis, results['validation_1']['error'], label='Val')\n",
    "ax.legend()\n",
    "pyplot.ylabel('Classification Error')\n",
    "pyplot.title('XGBoost Classification Error')\n",
    "pyplot.show()"
   ]
  },
  {
   "cell_type": "code",
   "execution_count": 62,
   "metadata": {},
   "outputs": [],
   "source": [
    "from sklearn import metrics\n",
    "def buildROC(target_test,test_preds):\n",
    "    fpr, tpr, threshold = metrics.roc_curve(target_test, test_preds)\n",
    "    roc_auc = metrics.auc(fpr, tpr)\n",
    "    plt.title('Receiver Operating Characteristic')\n",
    "    plt.plot(fpr, tpr, 'b', label = 'AUC = %0.2f' % roc_auc)\n",
    "    plt.legend(loc = 'lower right')\n",
    "    plt.plot([0, 1], [0, 1],'r--')\n",
    "    plt.ylabel('True Positive Rate')\n",
    "    plt.xlabel('False Positive Rate')"
   ]
  },
  {
   "cell_type": "code",
   "execution_count": 63,
   "metadata": {},
   "outputs": [
    {
     "data": {
      "image/png": "[encoded data removed]",
      "text/plain": [
       "<Figure size 432x288 with 1 Axes>"
      ]
     },
     "metadata": {
      "needs_background": "light"
     },
     "output_type": "display_data"
    }
   ],
   "source": [
    "buildROC(y_test,y_pred)"
   ]
  },
  {
   "cell_type": "code",
   "execution_count": 64,
   "metadata": {},
   "outputs": [
    {
     "data": {
      "text/plain": [
       "[<matplotlib.lines.Line2D at 0x7f849eebbc40>]"
      ]
     },
     "execution_count": 64,
     "metadata": {},
     "output_type": "execute_result"
    },
    {
     "data": {
      "image/png": "[encoded data removed]",
      "text/plain": [
       "<Figure size 432x288 with 1 Axes>"
      ]
     },
     "metadata": {
      "needs_background": "light"
     },
     "output_type": "display_data"
    }
   ],
   "source": [
    "plt.plot(x_axis, results[\"validation_0\"][\"auc\"], label=\"training data\")\n",
    "plt.plot(x_axis, results[\"validation_1\"][\"auc\"], label=\"val data\")\n"
   ]
  },
  {
   "cell_type": "code",
   "execution_count": 68,
   "metadata": {},
   "outputs": [
    {
     "data": {
      "text/plain": [
       "[<matplotlib.lines.Line2D at 0x7f84acdd7580>]"
      ]
     },
     "execution_count": 68,
     "metadata": {},
     "output_type": "execute_result"
    },
    {
     "data": {
      "image/png": "[encoded data removed]",
      "text/plain": [
       "<Figure size 432x288 with 1 Axes>"
      ]
     },
     "metadata": {
      "needs_background": "light"
     },
     "output_type": "display_data"
    }
   ],
   "source": [
    "from sklearn import metrics\n",
    "y_pred_proba_train = model.predict_proba(X_train)\n",
    "y_pred_proba_test = model.predict_proba(X_test)\n",
    "\n",
    "fpr_test, tpr_test, _ = metrics.roc_curve(y_test, y_pred_proba_test[:, 1])\n",
    "fpr_train, tpr_train, _ = metrics.roc_curve(y_train, y_pred_proba_train[:, 1])\n",
    "\n",
    "auc_test = metrics.auc(fpr_test, tpr_test)\n",
    "auc_train = metrics.auc(fpr_train, tpr_train)\n",
    "\n",
    "plt.title(f\"ROC curve, AUC=(test: {auc_test:.4f}, train: {auc_train:.4f})\")\n",
    "plt.plot(fpr_test, tpr_test, label=\"test data\")\n",
    "plt.plot(fpr_train, tpr_train, label=\"train data\")"
   ]
  },
  {
   "cell_type": "code",
   "execution_count": null,
   "metadata": {},
   "outputs": [],
   "source": []
  },
  {
   "cell_type": "code",
   "execution_count": null,
   "metadata": {},
   "outputs": [],
   "source": [
    "# Compute micro-average ROC curve and ROC area\n",
    "fpr, tpr, _ = roc_curve(X_valid[target].values, check)\n",
    "roc_auc = auc(fpr, tpr)\n",
    "#xgb.plot_importance(gbm)\n",
    "#plt.show()\n",
    "plt.figure()\n",
    "lw = 2\n",
    "plt.plot(fpr, tpr, color='darkorange',\n",
    "lw=lw, label='ROC curve (area = %0.2f)' % roc_auc)\n",
    "plt.plot([0, 1], [0, 1], color='navy', lw=lw, linestyle='--')\n",
    "plt.xlim([-0.02, 1.0])\n",
    "plt.ylim([0.0, 1.05])\n",
    "plt.xlabel('False Positive Rate')\n",
    "plt.ylabel('True Positive Rate')\n",
    "plt.title('ROC curve')\n",
    "plt.legend(loc=\"lower right\")\n",
    "plt.show()"
   ]
  },
  {
   "cell_type": "code",
   "execution_count": 73,
   "metadata": {},
   "outputs": [
    {
     "data": {
      "image/png": "[encoded data removed]",
      "text/plain": [
       "<Figure size 792x360 with 2 Axes>"
      ]
     },
     "metadata": {
      "needs_background": "light"
     },
     "output_type": "display_data"
    }
   ],
   "source": [
    "from sklearn.metrics import DetCurveDisplay, RocCurveDisplay\n",
    "fig, [ax_roc, ax_det] = plt.subplots(1, 2, figsize=(11, 5))\n",
    "RocCurveDisplay.from_estimator(model, X_test, y_test, ax=ax_roc, name='opt_roc')\n",
    "DetCurveDisplay.from_estimator(model, X_test, y_test, ax=ax_det, name='opt_det')\n",
    "\n",
    "RocCurveDisplay.from_estimator(unoptimised_model, X_test, y_test, ax=ax_roc, name=\"un_opt\")\n",
    "DetCurveDisplay.from_estimator(unoptimised_model, X_test, y_test, ax=ax_det, name=\"un_opt\")\n",
    "\n",
    "ax_roc.set_title(\"Receiver Operating Characteristic (ROC) curves\")\n",
    "ax_det.set_title(\"Detection Error Tradeoff (DET) curves\")\n",
    "\n",
    "ax_roc.grid(linestyle=\"--\")\n",
    "ax_det.grid(linestyle=\"--\")\n",
    "\n",
    "plt.legend()\n",
    "plt.show()"
   ]
  },
  {
   "cell_type": "code",
   "execution_count": 79,
   "metadata": {},
   "outputs": [
    {
     "data": {
      "text/html": [
       "<div>\n",
       "<style scoped>\n",
       "    .dataframe tbody tr th:only-of-type {\n",
       "        vertical-align: middle;\n",
       "    }\n",
       "\n",
       "    .dataframe tbody tr th {\n",
       "        vertical-align: top;\n",
       "    }\n",
       "\n",
       "    .dataframe thead th {\n",
       "        text-align: right;\n",
       "    }\n",
       "</style>\n",
       "<table border=\"1\" class=\"dataframe\">\n",
       "  <thead>\n",
       "    <tr style=\"text-align: right;\">\n",
       "      <th></th>\n",
       "      <th>SOMATIC_vs</th>\n",
       "      <th>ID_vs</th>\n",
       "      <th>SPV_vs</th>\n",
       "      <th>FILTER_PASS_vs</th>\n",
       "      <th>SOMATIC_fb</th>\n",
       "      <th>QUAL_fb</th>\n",
       "      <th>ID_fb</th>\n",
       "      <th>QR_fb</th>\n",
       "      <th>DPB_fb</th>\n",
       "      <th>FILTER_PASS_m2</th>\n",
       "      <th>...</th>\n",
       "      <th>MQ_m2</th>\n",
       "      <th>FILTER_t_lod_fstar_m2</th>\n",
       "      <th>HCNT_m2</th>\n",
       "      <th>DP_m2</th>\n",
       "      <th>FILTER_PASS_vd</th>\n",
       "      <th>STATUS_vd</th>\n",
       "      <th>ID_vd</th>\n",
       "      <th>SSF_vd</th>\n",
       "      <th>VD_vd</th>\n",
       "      <th>SOMATIC_vd</th>\n",
       "    </tr>\n",
       "  </thead>\n",
       "  <tbody>\n",
       "    <tr>\n",
       "      <th>1494288</th>\n",
       "      <td>0.0</td>\n",
       "      <td>2159986.0</td>\n",
       "      <td>191068.0</td>\n",
       "      <td>0.0</td>\n",
       "      <td>0.0</td>\n",
       "      <td>22038.0</td>\n",
       "      <td>2165990.0</td>\n",
       "      <td>1.0</td>\n",
       "      <td>69.0</td>\n",
       "      <td>NaN</td>\n",
       "      <td>...</td>\n",
       "      <td>NaN</td>\n",
       "      <td>NaN</td>\n",
       "      <td>NaN</td>\n",
       "      <td>NaN</td>\n",
       "      <td>0.0</td>\n",
       "      <td>2.0</td>\n",
       "      <td>2130487.0</td>\n",
       "      <td>70199.0</td>\n",
       "      <td>26.0</td>\n",
       "      <td>0.0</td>\n",
       "    </tr>\n",
       "    <tr>\n",
       "      <th>1381501</th>\n",
       "      <td>0.0</td>\n",
       "      <td>3310562.0</td>\n",
       "      <td>156860.0</td>\n",
       "      <td>0.0</td>\n",
       "      <td>0.0</td>\n",
       "      <td>10068.0</td>\n",
       "      <td>3333831.0</td>\n",
       "      <td>650.0</td>\n",
       "      <td>54.0</td>\n",
       "      <td>NaN</td>\n",
       "      <td>...</td>\n",
       "      <td>NaN</td>\n",
       "      <td>NaN</td>\n",
       "      <td>NaN</td>\n",
       "      <td>NaN</td>\n",
       "      <td>0.0</td>\n",
       "      <td>2.0</td>\n",
       "      <td>3264397.0</td>\n",
       "      <td>56675.0</td>\n",
       "      <td>15.0</td>\n",
       "      <td>0.0</td>\n",
       "    </tr>\n",
       "    <tr>\n",
       "      <th>4053437</th>\n",
       "      <td>0.0</td>\n",
       "      <td>3748485.0</td>\n",
       "      <td>117183.0</td>\n",
       "      <td>0.0</td>\n",
       "      <td>NaN</td>\n",
       "      <td>NaN</td>\n",
       "      <td>NaN</td>\n",
       "      <td>NaN</td>\n",
       "      <td>NaN</td>\n",
       "      <td>NaN</td>\n",
       "      <td>...</td>\n",
       "      <td>NaN</td>\n",
       "      <td>NaN</td>\n",
       "      <td>NaN</td>\n",
       "      <td>NaN</td>\n",
       "      <td>NaN</td>\n",
       "      <td>NaN</td>\n",
       "      <td>NaN</td>\n",
       "      <td>NaN</td>\n",
       "      <td>NaN</td>\n",
       "      <td>NaN</td>\n",
       "    </tr>\n",
       "    <tr>\n",
       "      <th>3425792</th>\n",
       "      <td>0.0</td>\n",
       "      <td>744352.0</td>\n",
       "      <td>174374.0</td>\n",
       "      <td>0.0</td>\n",
       "      <td>0.0</td>\n",
       "      <td>27235.0</td>\n",
       "      <td>759437.0</td>\n",
       "      <td>50.0</td>\n",
       "      <td>122.0</td>\n",
       "      <td>NaN</td>\n",
       "      <td>...</td>\n",
       "      <td>NaN</td>\n",
       "      <td>NaN</td>\n",
       "      <td>NaN</td>\n",
       "      <td>NaN</td>\n",
       "      <td>0.0</td>\n",
       "      <td>2.0</td>\n",
       "      <td>741171.0</td>\n",
       "      <td>5463.0</td>\n",
       "      <td>44.0</td>\n",
       "      <td>0.0</td>\n",
       "    </tr>\n",
       "    <tr>\n",
       "      <th>251187</th>\n",
       "      <td>0.0</td>\n",
       "      <td>2387817.0</td>\n",
       "      <td>191068.0</td>\n",
       "      <td>0.0</td>\n",
       "      <td>0.0</td>\n",
       "      <td>24584.0</td>\n",
       "      <td>2397155.0</td>\n",
       "      <td>1.0</td>\n",
       "      <td>76.0</td>\n",
       "      <td>NaN</td>\n",
       "      <td>...</td>\n",
       "      <td>NaN</td>\n",
       "      <td>NaN</td>\n",
       "      <td>NaN</td>\n",
       "      <td>NaN</td>\n",
       "      <td>0.0</td>\n",
       "      <td>2.0</td>\n",
       "      <td>2356353.0</td>\n",
       "      <td>70199.0</td>\n",
       "      <td>36.0</td>\n",
       "      <td>0.0</td>\n",
       "    </tr>\n",
       "    <tr>\n",
       "      <th>...</th>\n",
       "      <td>...</td>\n",
       "      <td>...</td>\n",
       "      <td>...</td>\n",
       "      <td>...</td>\n",
       "      <td>...</td>\n",
       "      <td>...</td>\n",
       "      <td>...</td>\n",
       "      <td>...</td>\n",
       "      <td>...</td>\n",
       "      <td>...</td>\n",
       "      <td>...</td>\n",
       "      <td>...</td>\n",
       "      <td>...</td>\n",
       "      <td>...</td>\n",
       "      <td>...</td>\n",
       "      <td>...</td>\n",
       "      <td>...</td>\n",
       "      <td>...</td>\n",
       "      <td>...</td>\n",
       "      <td>...</td>\n",
       "      <td>...</td>\n",
       "    </tr>\n",
       "    <tr>\n",
       "      <th>1482420</th>\n",
       "      <td>0.0</td>\n",
       "      <td>1111101.0</td>\n",
       "      <td>174880.0</td>\n",
       "      <td>0.0</td>\n",
       "      <td>0.0</td>\n",
       "      <td>4035.0</td>\n",
       "      <td>1125137.0</td>\n",
       "      <td>779.0</td>\n",
       "      <td>49.0</td>\n",
       "      <td>NaN</td>\n",
       "      <td>...</td>\n",
       "      <td>NaN</td>\n",
       "      <td>NaN</td>\n",
       "      <td>NaN</td>\n",
       "      <td>NaN</td>\n",
       "      <td>0.0</td>\n",
       "      <td>2.0</td>\n",
       "      <td>1098042.0</td>\n",
       "      <td>34836.0</td>\n",
       "      <td>8.0</td>\n",
       "      <td>0.0</td>\n",
       "    </tr>\n",
       "    <tr>\n",
       "      <th>1195445</th>\n",
       "      <td>0.0</td>\n",
       "      <td>2115969.0</td>\n",
       "      <td>191068.0</td>\n",
       "      <td>0.0</td>\n",
       "      <td>0.0</td>\n",
       "      <td>23131.0</td>\n",
       "      <td>2121843.0</td>\n",
       "      <td>1.0</td>\n",
       "      <td>72.0</td>\n",
       "      <td>NaN</td>\n",
       "      <td>...</td>\n",
       "      <td>NaN</td>\n",
       "      <td>NaN</td>\n",
       "      <td>NaN</td>\n",
       "      <td>NaN</td>\n",
       "      <td>0.0</td>\n",
       "      <td>2.0</td>\n",
       "      <td>2087238.0</td>\n",
       "      <td>52702.0</td>\n",
       "      <td>35.0</td>\n",
       "      <td>0.0</td>\n",
       "    </tr>\n",
       "    <tr>\n",
       "      <th>1551394</th>\n",
       "      <td>0.0</td>\n",
       "      <td>581354.0</td>\n",
       "      <td>158732.0</td>\n",
       "      <td>0.0</td>\n",
       "      <td>0.0</td>\n",
       "      <td>6463.0</td>\n",
       "      <td>590510.0</td>\n",
       "      <td>1404.0</td>\n",
       "      <td>63.0</td>\n",
       "      <td>NaN</td>\n",
       "      <td>...</td>\n",
       "      <td>NaN</td>\n",
       "      <td>NaN</td>\n",
       "      <td>NaN</td>\n",
       "      <td>NaN</td>\n",
       "      <td>0.0</td>\n",
       "      <td>2.0</td>\n",
       "      <td>576725.0</td>\n",
       "      <td>35880.0</td>\n",
       "      <td>15.0</td>\n",
       "      <td>0.0</td>\n",
       "    </tr>\n",
       "    <tr>\n",
       "      <th>652021</th>\n",
       "      <td>0.0</td>\n",
       "      <td>1020809.0</td>\n",
       "      <td>191068.0</td>\n",
       "      <td>0.0</td>\n",
       "      <td>0.0</td>\n",
       "      <td>31319.0</td>\n",
       "      <td>1033555.0</td>\n",
       "      <td>1.0</td>\n",
       "      <td>102.0</td>\n",
       "      <td>NaN</td>\n",
       "      <td>...</td>\n",
       "      <td>NaN</td>\n",
       "      <td>NaN</td>\n",
       "      <td>NaN</td>\n",
       "      <td>NaN</td>\n",
       "      <td>0.0</td>\n",
       "      <td>2.0</td>\n",
       "      <td>1008034.0</td>\n",
       "      <td>70199.0</td>\n",
       "      <td>44.0</td>\n",
       "      <td>0.0</td>\n",
       "    </tr>\n",
       "    <tr>\n",
       "      <th>1472791</th>\n",
       "      <td>0.0</td>\n",
       "      <td>2245281.0</td>\n",
       "      <td>191068.0</td>\n",
       "      <td>0.0</td>\n",
       "      <td>0.0</td>\n",
       "      <td>20892.0</td>\n",
       "      <td>2252189.0</td>\n",
       "      <td>2.0</td>\n",
       "      <td>76.0</td>\n",
       "      <td>NaN</td>\n",
       "      <td>...</td>\n",
       "      <td>NaN</td>\n",
       "      <td>NaN</td>\n",
       "      <td>NaN</td>\n",
       "      <td>NaN</td>\n",
       "      <td>0.0</td>\n",
       "      <td>2.0</td>\n",
       "      <td>2214865.0</td>\n",
       "      <td>70199.0</td>\n",
       "      <td>24.0</td>\n",
       "      <td>0.0</td>\n",
       "    </tr>\n",
       "  </tbody>\n",
       "</table>\n",
       "<p>1396806 rows × 22 columns</p>\n",
       "</div>"
      ],
      "text/plain": [
       "         SOMATIC_vs      ID_vs    SPV_vs  FILTER_PASS_vs  SOMATIC_fb  QUAL_fb  \\\n",
       "1494288         0.0  2159986.0  191068.0             0.0         0.0  22038.0   \n",
       "1381501         0.0  3310562.0  156860.0             0.0         0.0  10068.0   \n",
       "4053437         0.0  3748485.0  117183.0             0.0         NaN      NaN   \n",
       "3425792         0.0   744352.0  174374.0             0.0         0.0  27235.0   \n",
       "251187          0.0  2387817.0  191068.0             0.0         0.0  24584.0   \n",
       "...             ...        ...       ...             ...         ...      ...   \n",
       "1482420         0.0  1111101.0  174880.0             0.0         0.0   4035.0   \n",
       "1195445         0.0  2115969.0  191068.0             0.0         0.0  23131.0   \n",
       "1551394         0.0   581354.0  158732.0             0.0         0.0   6463.0   \n",
       "652021          0.0  1020809.0  191068.0             0.0         0.0  31319.0   \n",
       "1472791         0.0  2245281.0  191068.0             0.0         0.0  20892.0   \n",
       "\n",
       "             ID_fb   QR_fb  DPB_fb  FILTER_PASS_m2  ...  MQ_m2  \\\n",
       "1494288  2165990.0     1.0    69.0             NaN  ...    NaN   \n",
       "1381501  3333831.0   650.0    54.0             NaN  ...    NaN   \n",
       "4053437        NaN     NaN     NaN             NaN  ...    NaN   \n",
       "3425792   759437.0    50.0   122.0             NaN  ...    NaN   \n",
       "251187   2397155.0     1.0    76.0             NaN  ...    NaN   \n",
       "...            ...     ...     ...             ...  ...    ...   \n",
       "1482420  1125137.0   779.0    49.0             NaN  ...    NaN   \n",
       "1195445  2121843.0     1.0    72.0             NaN  ...    NaN   \n",
       "1551394   590510.0  1404.0    63.0             NaN  ...    NaN   \n",
       "652021   1033555.0     1.0   102.0             NaN  ...    NaN   \n",
       "1472791  2252189.0     2.0    76.0             NaN  ...    NaN   \n",
       "\n",
       "         FILTER_t_lod_fstar_m2  HCNT_m2  DP_m2  FILTER_PASS_vd  STATUS_vd  \\\n",
       "1494288                    NaN      NaN    NaN             0.0        2.0   \n",
       "1381501                    NaN      NaN    NaN             0.0        2.0   \n",
       "4053437                    NaN      NaN    NaN             NaN        NaN   \n",
       "3425792                    NaN      NaN    NaN             0.0        2.0   \n",
       "251187                     NaN      NaN    NaN             0.0        2.0   \n",
       "...                        ...      ...    ...             ...        ...   \n",
       "1482420                    NaN      NaN    NaN             0.0        2.0   \n",
       "1195445                    NaN      NaN    NaN             0.0        2.0   \n",
       "1551394                    NaN      NaN    NaN             0.0        2.0   \n",
       "652021                     NaN      NaN    NaN             0.0        2.0   \n",
       "1472791                    NaN      NaN    NaN             0.0        2.0   \n",
       "\n",
       "             ID_vd   SSF_vd  VD_vd  SOMATIC_vd  \n",
       "1494288  2130487.0  70199.0   26.0         0.0  \n",
       "1381501  3264397.0  56675.0   15.0         0.0  \n",
       "4053437        NaN      NaN    NaN         NaN  \n",
       "3425792   741171.0   5463.0   44.0         0.0  \n",
       "251187   2356353.0  70199.0   36.0         0.0  \n",
       "...            ...      ...    ...         ...  \n",
       "1482420  1098042.0  34836.0    8.0         0.0  \n",
       "1195445  2087238.0  52702.0   35.0         0.0  \n",
       "1551394   576725.0  35880.0   15.0         0.0  \n",
       "652021   1008034.0  70199.0   44.0         0.0  \n",
       "1472791  2214865.0  70199.0   24.0         0.0  \n",
       "\n",
       "[1396806 rows x 22 columns]"
      ]
     },
     "execution_count": 79,
     "metadata": {},
     "output_type": "execute_result"
    }
   ],
   "source": [
    "X_test"
   ]
  },
  {
   "cell_type": "code",
   "execution_count": null,
   "metadata": {},
   "outputs": [],
   "source": [
    "model"
   ]
  },
  {
   "cell_type": "code",
   "execution_count": 69,
   "metadata": {},
   "outputs": [],
   "source": [
    "# test on real2Part1\n",
    "\n",
    "real2_varscan_sub = allel.vcf_to_dataframe(\"real2_part1/real2_varscan_chr1to5.vcf.gz\", fields = final_target_features['varscan'])\n",
    "\n",
    "real2_freebayes_sub = allel.vcf_to_dataframe(\"real2_part1/real2_freebayes_chr1to5.vcf.gz\", fields = final_target_features['freebayes'])\n",
    "\n",
    "real2_mutect2_sub = allel.vcf_to_dataframe(\"real2_part1/real2_mutect_chr1to5.vcf.gz\", fields =final_target_features['mutect2'])\n",
    "\n",
    "real2_vardict_sub = allel.vcf_to_dataframe(\"real2_part1/real2_vardict_chr1to5.vcf.gz\", fields = final_target_features['vardict'])"
   ]
  },
  {
   "cell_type": "code",
   "execution_count": 72,
   "metadata": {},
   "outputs": [
    {
     "data": {
      "text/plain": [
       "0       False\n",
       "1       False\n",
       "2       False\n",
       "3       False\n",
       "4        True\n",
       "        ...  \n",
       "2913     True\n",
       "2914    False\n",
       "2915     True\n",
       "2916     True\n",
       "2917     True\n",
       "Name: is_snp, Length: 1772390, dtype: bool"
      ]
     },
     "execution_count": 72,
     "metadata": {},
     "output_type": "execute_result"
    }
   ],
   "source": [
    "real2_varscan_sub.is_snp == True"
   ]
  },
  {
   "cell_type": "code",
   "execution_count": null,
   "metadata": {},
   "outputs": [],
   "source": [
    "# subsetting for snp = True \n",
    "varscan_sub2 = real2_varscan_sub[real2_varscan_sub.is_snp == True]\n",
    "freebayes_sub2 = real2_freebayes_sub[real2_freebayes_sub.is_snp == True]\n",
    "mutect2_sub2 = real2_mutect2_sub[real2_mutect2_sub.is_snp == True]\n",
    "vardict_sub2 = real2_vardict_sub[real2_vardict_sub.is_snp == True]"
   ]
  },
  {
   "cell_type": "code",
   "execution_count": null,
   "metadata": {},
   "outputs": [],
   "source": [
    "lst_dfs = [varscan_sub2,freebayes_sub2,mutect2_sub2,vardict_sub2]\n",
    "suffix = ['vs','fb','m2','vd']\n",
    "keep_same = {'CHROM', 'POS'}\n",
    "i =0 \n",
    "for df in lst_dfs:\n",
    "    df.columns = ['{}{}'.format(c, '' if c in keep_same else '_'+suffix[i]) for c in df.columns]\n",
    "    i += 1\n",
    "lst_dfs"
   ]
  },
  {
   "cell_type": "code",
   "execution_count": null,
   "metadata": {},
   "outputs": [],
   "source": []
  },
  {
   "cell_type": "code",
   "execution_count": null,
   "metadata": {},
   "outputs": [],
   "source": [
    "from sklearn.metrics import roc_curve, auc,recall_score,precision_score\n"
   ]
  },
  {
   "cell_type": "code",
   "execution_count": 32,
   "metadata": {},
   "outputs": [
    {
     "data": {
      "text/plain": [
       "XGBClassifier(base_score=None, booster=None, callbacks=None,\n",
       "              colsample_bylevel=None, colsample_bynode=None,\n",
       "              colsample_bytree=0.629185830986374, early_stopping_rounds=None,\n",
       "              enable_categorical=False, eval_metric='auc', feature_types=None,\n",
       "              gamma=97.89036584265726, gpu_id=None, grow_policy=None,\n",
       "              importance_type=None, interaction_constraints=None,\n",
       "              learning_rate=0.9093539899332748, max_bin=None,\n",
       "              max_cat_threshold=None, max_cat_to_onehot=None,\n",
       "              max_delta_step=None, max_depth=13, max_leaves=None,\n",
       "              min_child_weight=None, missing=nan, monotone_constraints=None,\n",
       "              n_estimators=336, n_jobs=None, num_parallel_tree=None,\n",
       "              predictor=None, random_state=None, ...)"
      ]
     },
     "execution_count": 32,
     "metadata": {},
     "output_type": "execute_result"
    }
   ],
   "source": [
    "model.fit(X_train, y_train)"
   ]
  },
  {
   "cell_type": "code",
   "execution_count": 33,
   "metadata": {},
   "outputs": [
    {
     "name": "stdout",
     "output_type": "stream",
     "text": [
      "[[1396415      23]\n",
      " [     89     279]]\n"
     ]
    },
    {
     "data": {
      "text/plain": [
       "0.8328358208955225"
      ]
     },
     "execution_count": 33,
     "metadata": {},
     "output_type": "execute_result"
    }
   ],
   "source": [
    "y_pred = model.predict(X_test)\n",
    "from sklearn.metrics import classification_report\n",
    "from sklearn import metrics\n",
    "print(confusion_matrix(y_test,y_pred))\n",
    "\n",
    "f1_score = metrics.f1_score(y_true = y_test, y_pred = y_pred)\n",
    "precision_score = metrics.precision_score(y_true = y_test, y_pred = y_pred)\n",
    "recall_score = metrics.recall_score(y_true = y_test, y_pred = y_pred)\n",
    "\n",
    "f1_score"
   ]
  },
  {
   "cell_type": "code",
   "execution_count": 37,
   "metadata": {},
   "outputs": [
    {
     "data": {
      "text/plain": [
       "0.9238410596026491"
      ]
     },
     "execution_count": 37,
     "metadata": {},
     "output_type": "execute_result"
    }
   ],
   "source": [
    "precision_score"
   ]
  },
  {
   "cell_type": "code",
   "execution_count": 38,
   "metadata": {},
   "outputs": [
    {
     "data": {
      "text/plain": [
       "0.7581521739130435"
      ]
     },
     "execution_count": 38,
     "metadata": {},
     "output_type": "execute_result"
    }
   ],
   "source": [
    "recall_score"
   ]
  },
  {
   "cell_type": "code",
   "execution_count": null,
   "metadata": {},
   "outputs": [],
   "source": []
  },
  {
   "cell_type": "code",
   "execution_count": 34,
   "metadata": {},
   "outputs": [],
   "source": [
    "unoptimised_model = XGBClassifier(eval_metric = 'auc')"
   ]
  },
  {
   "cell_type": "code",
   "execution_count": 35,
   "metadata": {},
   "outputs": [
    {
     "data": {
      "text/plain": [
       "XGBClassifier(base_score=None, booster=None, callbacks=None,\n",
       "              colsample_bylevel=None, colsample_bynode=None,\n",
       "              colsample_bytree=None, early_stopping_rounds=None,\n",
       "              enable_categorical=False, eval_metric='auc', feature_types=None,\n",
       "              gamma=None, gpu_id=None, grow_policy=None, importance_type=None,\n",
       "              interaction_constraints=None, learning_rate=None, max_bin=None,\n",
       "              max_cat_threshold=None, max_cat_to_onehot=None,\n",
       "              max_delta_step=None, max_depth=None, max_leaves=None,\n",
       "              min_child_weight=None, missing=nan, monotone_constraints=None,\n",
       "              n_estimators=100, n_jobs=None, num_parallel_tree=None,\n",
       "              predictor=None, random_state=None, ...)"
      ]
     },
     "execution_count": 35,
     "metadata": {},
     "output_type": "execute_result"
    }
   ],
   "source": [
    "unoptimised_model.fit(X_train, y_train)"
   ]
  },
  {
   "cell_type": "code",
   "execution_count": 36,
   "metadata": {},
   "outputs": [
    {
     "name": "stdout",
     "output_type": "stream",
     "text": [
      "[[1396401      37]\n",
      " [     46     322]]\n"
     ]
    },
    {
     "data": {
      "text/plain": [
       "0.8858321870701513"
      ]
     },
     "execution_count": 36,
     "metadata": {},
     "output_type": "execute_result"
    }
   ],
   "source": [
    "y_pred_u = unoptimised_model.predict(X_test)\n",
    "from sklearn.metrics import classification_report\n",
    "from sklearn import metrics\n",
    "print(confusion_matrix(y_test,y_pred_u))\n",
    "\n",
    "f1_score_u = metrics.f1_score(y_true = y_test, y_pred = y_pred_u)\n",
    "precision_score_u = metrics.precision_score(y_true = y_test, y_pred = y_pred_u)\n",
    "recall_score_u = metrics.recall_score(y_true = y_test, y_pred = y_pred_u)\n",
    "\n",
    "f1_score_u\n"
   ]
  },
  {
   "cell_type": "code",
   "execution_count": 24,
   "metadata": {},
   "outputs": [
    {
     "name": "stdout",
     "output_type": "stream",
     "text": [
      "[[1396415      23]\n",
      " [     89     279]]\n",
      "              precision    recall  f1-score   support\n",
      "\n",
      "         0.0       1.00      1.00      1.00   1396438\n",
      "         1.0       0.92      0.76      0.83       368\n",
      "\n",
      "    accuracy                           1.00   1396806\n",
      "   macro avg       0.96      0.88      0.92   1396806\n",
      "weighted avg       1.00      1.00      1.00   1396806\n",
      "\n"
     ]
    }
   ],
   "source": [
    "y_pred = model.predict(X_test)\n",
    "# evaluate model performance # for syn1 dataset \n",
    "from sklearn.metrics import classification_report,confusion_matrix\n",
    "print(confusion_matrix(y_test,y_pred))\n",
    "print(classification_report(y_test,y_pred))"
   ]
  },
  {
   "cell_type": "code",
   "execution_count": null,
   "metadata": {},
   "outputs": [],
   "source": [
    "# ROC curve plot\n"
   ]
  },
  {
   "cell_type": "code",
   "execution_count": null,
   "metadata": {},
   "outputs": [],
   "source": []
  },
  {
   "cell_type": "code",
   "execution_count": null,
   "metadata": {},
   "outputs": [],
   "source": []
  },
  {
   "cell_type": "code",
   "execution_count": null,
   "metadata": {},
   "outputs": [],
   "source": []
  },
  {
   "cell_type": "code",
   "execution_count": null,
   "metadata": {},
   "outputs": [],
   "source": []
  },
  {
   "cell_type": "code",
   "execution_count": null,
   "metadata": {},
   "outputs": [],
   "source": []
  },
  {
   "cell_type": "code",
   "execution_count": null,
   "metadata": {},
   "outputs": [],
   "source": []
  },
  {
   "cell_type": "code",
   "execution_count": null,
   "metadata": {},
   "outputs": [],
   "source": [
    " search_spaces = {\n",
    "        'learning_rate': (0.01, 1.0, 'log-uniform'),\n",
    "        'min_child_weight': (0, 10),\n",
    "        'max_depth': (0, 50),\n",
    "        'max_delta_step': (0, 20),\n",
    "        'subsample': (0.01, 1.0, 'uniform'),\n",
    "        'colsample_bytree': (0.01, 1.0, 'uniform'),\n",
    "        'colsample_bylevel': (0.01, 1.0, 'uniform'),\n",
    "        'reg_lambda': (1e-9, 1000, 'log-uniform'),\n",
    "        'reg_alpha': (1e-9, 1.0, 'log-uniform'),\n",
    "        'gamma': (1e-9, 0.5, 'log-uniform'),\n",
    "        'min_child_weight': (0, 5),\n",
    "        'n_estimators': (50, 100)}"
   ]
  },
  {
   "cell_type": "code",
   "execution_count": null,
   "metadata": {},
   "outputs": [],
   "source": []
  },
  {
   "cell_type": "code",
   "execution_count": null,
   "metadata": {},
   "outputs": [],
   "source": []
  },
  {
   "cell_type": "code",
   "execution_count": 21,
   "metadata": {},
   "outputs": [],
   "source": [
    "# Setting the search space\n",
    "search_spaces = {'learning_rate': Real(0.01, 1.0, 'uniform'),\n",
    "                 'max_depth': Integer(2, 12),\n",
    "                 'subsample': Real(0.1, 1.0, 'uniform'),\n",
    "                 'colsample_bytree': Real(0.1, 1.0, 'uniform'), # subsample ratio of columns by tree\n",
    "                 'reg_lambda': Real(1e-9, 100., 'uniform'), # L2 regularization\n",
    "                 'reg_alpha': Real(1e-9, 100., 'uniform'), # L1 regularization\n",
    "                 'n_estimators': Integer(50, 5000)\n",
    "   }"
   ]
  },
  {
   "cell_type": "code",
   "execution_count": null,
   "metadata": {},
   "outputs": [],
   "source": []
  },
  {
   "cell_type": "code",
   "execution_count": null,
   "metadata": {},
   "outputs": [],
   "source": []
  },
  {
   "cell_type": "code",
   "execution_count": null,
   "metadata": {},
   "outputs": [],
   "source": []
  },
  {
   "cell_type": "code",
   "execution_count": null,
   "metadata": {},
   "outputs": [],
   "source": [
    "# Running the optimizer # using the first search space\n",
    "\n",
    "overdone_control = DeltaYStopper(delta=0.0001)                    # We stop if the gain of the optimization becomes too small\n",
    "time_limit_control = DeadlineStopper(total_time=60*60*4)          # We impose a time limit (1 hours)\n",
    "\n",
    "best_param4s = report_perf(baye_opt, X_train, y_train,'XGBoost_classifier', \n",
    "                          callbacks=[overdone_control, time_limit_control])"
   ]
  },
  {
   "cell_type": "code",
   "execution_count": null,
   "metadata": {},
   "outputs": [],
   "source": []
  },
  {
   "cell_type": "code",
   "execution_count": null,
   "metadata": {},
   "outputs": [],
   "source": []
  },
  {
   "cell_type": "code",
   "execution_count": null,
   "metadata": {},
   "outputs": [],
   "source": []
  },
  {
   "cell_type": "code",
   "execution_count": null,
   "metadata": {},
   "outputs": [],
   "source": []
  },
  {
   "cell_type": "code",
   "execution_count": null,
   "metadata": {},
   "outputs": [],
   "source": []
  },
  {
   "cell_type": "code",
   "execution_count": null,
   "metadata": {},
   "outputs": [],
   "source": []
  },
  {
   "cell_type": "code",
   "execution_count": null,
   "metadata": {},
   "outputs": [],
   "source": []
  },
  {
   "cell_type": "code",
   "execution_count": null,
   "metadata": {},
   "outputs": [],
   "source": [
    "The value of AUC using default hyperparameter values is 0.68, which is not bad\n",
    "The tuned model AUC is 0.7416419 which is much higher than the model with default paraeters. Yeah, we have improved the model by tuning the parameters."
   ]
  },
  {
   "cell_type": "code",
   "execution_count": null,
   "metadata": {},
   "outputs": [],
   "source": [
    "X_train, X_test, y_train, y_test = train_test_split(X, y, test_size=0.3, random_state=101, stratify=y)"
   ]
  },
  {
   "cell_type": "code",
   "execution_count": null,
   "metadata": {},
   "outputs": [],
   "source": [
    "We can now get the folds using our train set. I use a repeated k-fold to get more score results:"
   ]
  },
  {
   "cell_type": "code",
   "execution_count": null,
   "metadata": {},
   "outputs": [],
   "source": [
    "cv    = RepeatedKFold(n_splits=5, n_repeats=100, random_state=101)\n",
    "folds = [(train,test) for train, test in cv.split(X_train, y_train)]"
   ]
  },
  {
   "cell_type": "code",
   "execution_count": null,
   "metadata": {},
   "outputs": [],
   "source": [
    "metrics = ['auc', 'fpr', 'tpr', 'thresholds']\n",
    "results = {\n",
    "    'train': {m:[] for m in metrics},\n",
    "    'val'  : {m:[] for m in metrics},\n",
    "    'test' : {m:[] for m in metrics}\n",
    "}"
   ]
  },
  {
   "cell_type": "code",
   "execution_count": null,
   "metadata": {},
   "outputs": [],
   "source": [
    "dtest = xgb.DMatrix(X_test, label=y_test)\n",
    "for train, test in tqdm(folds, total=len(folds)):\n",
    "    dtrain = xgb.DMatrix(X_train.iloc[train,:], label=y_train.iloc[train])\n",
    "    dval   = xgb.DMatrix(X_train.iloc[test,:], label=y_train.iloc[test])\n",
    "    model  = xgb.train(\n",
    "        dtrain                = dtrain,\n",
    "        params                = params, \n",
    "        evals                 = [(dtrain, 'train'), (dval, 'val')],\n",
    "        num_boost_round       = 1000,\n",
    "        verbose_eval          = False,\n",
    "        early_stopping_rounds = 10,\n",
    "    )\n",
    "    sets = [dtrain, dval, dtest]\n",
    "    for i,ds in enumerate(results.keys()):\n",
    "        y_preds              = model.predict(sets[i])\n",
    "        labels               = sets[i].get_label()\n",
    "        fpr, tpr, thresholds = roc_curve(labels, y_preds)\n",
    "        results[ds]['fpr'].append(fpr)\n",
    "        results[ds]['tpr'].append(tpr)\n",
    "        results[ds]['thresholds'].append(thresholds)\n",
    "        results[ds]['auc'].append(roc_auc_score(labels, y_preds))"
   ]
  },
  {
   "cell_type": "code",
   "execution_count": null,
   "metadata": {},
   "outputs": [],
   "source": []
  },
  {
   "cell_type": "code",
   "execution_count": null,
   "metadata": {},
   "outputs": [],
   "source": []
  },
  {
   "cell_type": "code",
   "execution_count": null,
   "metadata": {},
   "outputs": [],
   "source": [
    "model = XGBClassifier(n_estimators= 1000, eval_metric='rmse') # learning_rate = 0.5"
   ]
  },
  {
   "cell_type": "code",
   "execution_count": null,
   "metadata": {},
   "outputs": [],
   "source": [
    "# shld prob change test to val\n",
    "model.fit(X_train, y_train, early_stopping_rounds = 5, \n",
    "         eval_set=[(X_test, y_test)])"
   ]
  },
  {
   "cell_type": "code",
   "execution_count": null,
   "metadata": {},
   "outputs": [],
   "source": [
    "XGBClassifier(base_score=0.5, booster='gbtree', colsample_bylevel=1,\n",
    "              colsample_bynode=1, colsample_bytree=1, eval_metric='mlogloss',\n",
    "              gamma=0, gpu_id=-1, importance_type='gain',\n",
    "              interaction_constraints='', learning_rate=0.300000012,\n",
    "              max_delta_step=0, max_depth=6, min_child_weight=1, missing=nan,\n",
    "              monotone_constraints='()', n_estimators=100, n_jobs=16,\n",
    "              num_parallel_tree=1, objective='multi:softprob', random_state=0,\n",
    "              reg_alpha=0, reg_lambda=1, scale_pos_weight=None, subsample=1,\n",
    "              tree_method='exact', use_label_encoder=False,\n",
    "              validate_parameters=1, verbosity=None)"
   ]
  },
  {
   "cell_type": "code",
   "execution_count": null,
   "metadata": {},
   "outputs": [],
   "source": [
    "y_pred = model.predict(X_test)"
   ]
  },
  {
   "cell_type": "code",
   "execution_count": null,
   "metadata": {},
   "outputs": [],
   "source": [
    "# evaluate model performance # for syn1 dataset \n",
    "from sklearn.metrics import classification_report,confusion_matrix\n",
    "print(confusion_matrix(y_test,y_pred))\n",
    "print(classification_report(y_test,y_pred))"
   ]
  },
  {
   "cell_type": "code",
   "execution_count": null,
   "metadata": {},
   "outputs": [],
   "source": [
    "# evaluate model performance # for real1 dataset \n",
    "from sklearn.metrics import classification_report,confusion_matrix\n",
    "print(confusion_matrix(y_test,y_pred))\n",
    "print(classification_report(y_test,y_pred))"
   ]
  },
  {
   "cell_type": "code",
   "execution_count": null,
   "metadata": {},
   "outputs": [],
   "source": [
    "from bayes_opt import BayesianOptimization\n",
    "from sklearn.model_selection import cross_val_score\n",
    "# "
   ]
  },
  {
   "cell_type": "code",
   "execution_count": null,
   "metadata": {},
   "outputs": [],
   "source": [
    "# partition training and validation sets\n"
   ]
  },
  {
   "cell_type": "code",
   "execution_count": null,
   "metadata": {},
   "outputs": [],
   "source": [
    "pbounds = {\n",
    "    'learning_rate': (0.01, 1.0),\n",
    "    'n_estimators': (100, 1000),\n",
    "    'max_depth': (3,10),\n",
    "    'subsample': (1.0, 1.0),  # Change for big datasets\n",
    "    'colsample': (1.0, 1.0),  # Change for datasets with lots of features\n",
    "    'gamma': (0, 5)}"
   ]
  },
  {
   "cell_type": "code",
   "execution_count": null,
   "metadata": {},
   "outputs": [],
   "source": [
    "# Classifier\n",
    "bayes_cv_tuner = BayesSearchCV(\n",
    "    estimator = xgb.XGBClassifier(\n",
    "        n_jobs = 1,\n",
    "        objective = 'binary:logistic',\n",
    "        eval_metric = 'auc',\n",
    "        silent=1,\n",
    "        tree_method='approx'\n",
    "    ),\n",
    "    search_spaces = {\n",
    "        'learning_rate': (0.01, 1.0, 'log-uniform'),\n",
    "        'min_child_weight': (0, 10),\n",
    "        'max_depth': (0, 50),\n",
    "        'max_delta_step': (0, 20),\n",
    "        'subsample': (0.01, 1.0, 'uniform'),\n",
    "        'colsample_bytree': (0.01, 1.0, 'uniform'),\n",
    "        'colsample_bylevel': (0.01, 1.0, 'uniform'),\n",
    "        'reg_lambda': (1e-9, 1000, 'log-uniform'),\n",
    "        'reg_alpha': (1e-9, 1.0, 'log-uniform'),\n",
    "        'gamma': (1e-9, 0.5, 'log-uniform'),\n",
    "        'min_child_weight': (0, 5),\n",
    "        'n_estimators': (50, 100),\n",
    "        # 'scale_pos_weight': (1e-6, 500, 'log-uniform')\n",
    "    },    \n",
    "    scoring = 'roc_auc',\n",
    "    cv = StratifiedKFold(\n",
    "        n_splits=3,\n",
    "        shuffle=True,\n",
    "        random_state=42\n",
    "    ),\n",
    "    n_jobs = 3,\n",
    "    n_iter = ITERATIONS,   \n",
    "    verbose = 0,\n",
    "    refit = True,\n",
    "    random_state = 42\n",
    ")\n",
    "\n",
    "def status_print(optim_result):\n",
    "    \"\"\"Status callback durring bayesian hyperparameter search\"\"\"\n",
    "    \n",
    "    # Get all the models tested so far in DataFrame format\n",
    "    all_models = pd.DataFrame(bayes_cv_tuner.cv_results_)    \n",
    "    \n",
    "    # Get current parameters and the best parameters    \n",
    "    best_params = pd.Series(bayes_cv_tuner.best_params_)\n",
    "    print('Model #{}\\nBest ROC-AUC: {}\\nBest params: {}\\n'.format(\n",
    "        len(all_models),\n",
    "        np.round(bayes_cv_tuner.best_score_, 4),\n",
    "        bayes_cv_tuner.best_params_\n",
    "    ))\n",
    "    \n",
    "    # Save all model results\n",
    "    clf_name = bayes_cv_tuner.estimator.__class__.__name__\n",
    "    all_models.to_csv(clf_name+\"_cv_results.csv\")\n",
    "    \n",
    "# Fit the model\n",
    "result = bayes_cv_tuner.fit(X.values, y.values, callback=status_print)\n",
    "\n"
   ]
  },
  {
   "cell_type": "code",
   "execution_count": null,
   "metadata": {},
   "outputs": [],
   "source": [
    "def xgboost_hyper_param(learning_rate,\n",
    "                        n_estimators,\n",
    "                        max_depth,\n",
    "                        subsample,\n",
    "                        colsample,\n",
    "                        gamma):\n",
    "\n",
    "    max_depth = int(max_depth)\n",
    "    n_estimators = int(n_estimators)\n",
    "\n",
    "    clf = XGBClassifier(\n",
    "        max_depth=max_depth,\n",
    "        learning_rate=learning_rate,\n",
    "        n_estimators=n_estimators,\n",
    "        gamma=gamma)\n",
    "    return np.mean(cross_val_score(clf, X_train, y_train, cv=3, scoring='roc_auc'))\n",
    "\n",
    "optimizer = BayesianOptimization(\n",
    "    f=xgboost_hyper_param,\n",
    "    pbounds=pbounds,\n",
    "    random_state=1,\n",
    ")"
   ]
  },
  {
   "cell_type": "code",
   "execution_count": null,
   "metadata": {},
   "outputs": [],
   "source": [
    "import xgboost as xgb\n",
    "\n",
    "dtrain = xgb.DMatrix(new_X, y, feature_names=X.columns.values) # new_X is an array "
   ]
  },
  {
   "cell_type": "code",
   "execution_count": null,
   "metadata": {},
   "outputs": [],
   "source": [
    "dtrain.get_label()"
   ]
  },
  {
   "cell_type": "code",
   "execution_count": null,
   "metadata": {},
   "outputs": [],
   "source": [
    "new_X = pd.DataFrame(new_X, columns = X.columns.values )"
   ]
  },
  {
   "cell_type": "code",
   "execution_count": null,
   "metadata": {},
   "outputs": [],
   "source": [
    "from sklearn.metrics import r2_score\n",
    "# Define R-squared \n",
    "def xgb_r2(preds,dtrain):\n",
    "    labels = dtrain.get_label()\n",
    "    return 'r2', r2_score(preds, labels)\n",
    "\n",
    "# Objective Function\n",
    "def hyp_xgb(max_depth, subsample, colsample_bytree,min_child_weight, gamma ):\n",
    "    params = {\n",
    "    'n_estimators': 300,\n",
    "    'eta': 0.05,\n",
    "    'objective': 'reg:squarederror',\n",
    "    'eval_metric':'mae', # Optional --> Use eval_metric if you want to stop evaluation based on eval_metric \n",
    "    'silent': 1\n",
    "     }\n",
    "    params['max_depth'] = int(round(max_depth))\n",
    "    params['subsample'] = max(min(subsample, 1), 0)\n",
    "    params['colsample_bytree'] = max(min(colsample_bytree, 1), 0)\n",
    "    params['min_child_weight'] = int(min_child_weight)\n",
    "    params['gamma'] = max(gamma, 0)\n",
    "    scores = xgb.cv(params, dtrain, num_boost_round=1000,verbose_eval=False, early_stopping_rounds=10, custom_metric=xgb_r2, maximize=True, nfold=5)\n",
    "    return  scores['test-r2-mean'].iloc[-1]\n"
   ]
  },
  {
   "cell_type": "code",
   "execution_count": null,
   "metadata": {
    "scrolled": true
   },
   "outputs": [],
   "source": [
    "pds ={\n",
    "  'min_child_weight':(14, 20),\n",
    "  'gamma':(0, 5),\n",
    "  'subsample':(0.5, 1),\n",
    "  'colsample_bytree':(0.1, 1),\n",
    "  'max_depth': (5, 10)\n",
    "}\n",
    "# Surrogate model\n",
    "optimizer = BayesianOptimization(hyp_xgb, pds, random_state=10)\n",
    "                                  \n",
    "# Optimize\n",
    "optimizer.maximize(init_points=5, n_iter=15)"
   ]
  },
  {
   "cell_type": "code",
   "execution_count": null,
   "metadata": {},
   "outputs": [],
   "source": []
  },
  {
   "cell_type": "code",
   "execution_count": null,
   "metadata": {},
   "outputs": [],
   "source": [
    "# Classifier/Regressor\n",
    "from xgboost import XGBRegressor, DMatrix\n",
    "from functools import partial\n",
    "# Model selection\n",
    "from sklearn.model_selection import KFold, StratifiedKFold\n",
    "\n",
    "# Metrics\n",
    "from sklearn.metrics import mean_squared_error\n",
    "from sklearn.metrics import make_scorer\n",
    "\n",
    "# Skopt functions\n",
    "from skopt import BayesSearchCV\n",
    "from skopt.callbacks import DeadlineStopper, DeltaYStopper\n",
    "from skopt.space import Real, Categorical, Integer\n",
    "\n",
    "# Data processing\n",
    "from sklearn.preprocessing import OrdinalEncoder\n",
    "from sklearn.decomposition import TruncatedSVD\n",
    "from sklearn.feature_extraction.text import TfidfVectorizer, CountVectorizer"
   ]
  },
  {
   "cell_type": "code",
   "execution_count": null,
   "metadata": {},
   "outputs": [],
   "source": [
    "# Reporting util for different optimizers\n",
    "def report_perf(optimizer, X, y, title=\"model\", callbacks=None):\n",
    "    \"\"\"\n",
    "    A wrapper for measuring time and performances of different optmizers\n",
    "    \n",
    "    optimizer = a sklearn or a skopt optimizer\n",
    "    X = the training set \n",
    "    y = our target\n",
    "    title = a string label for the experiment\n",
    "    \"\"\"\n",
    "    start = time()\n",
    "    \n",
    "    if callbacks is not None:\n",
    "        optimizer.fit(X, y, callback=callbacks)\n",
    "    else:\n",
    "        optimizer.fit(X, y)\n",
    "        \n",
    "    d=pd.DataFrame(optimizer.cv_results_)\n",
    "    best_score = optimizer.best_score_\n",
    "    best_score_std = d.iloc[optimizer.best_index_].std_test_score\n",
    "    best_params = optimizer.best_params_\n",
    "    \n",
    "    print((title + \" took %.2f seconds,  candidates checked: %d, best CV score: %.3f \"\n",
    "           + u\"\\u00B1\"+\" %.3f\") % (time() - start, \n",
    "                                   len(optimizer.cv_results_['params']),\n",
    "                                   best_score,\n",
    "                                   best_score_std))    \n",
    "    print('Best parameters:')\n",
    "    pprint.pprint(best_params)\n",
    "    print()\n",
    "    return best_params"
   ]
  },
  {
   "cell_type": "code",
   "execution_count": null,
   "metadata": {},
   "outputs": [],
   "source": [
    "# Setting the scoring function\n",
    "scoring = make_scorer(partial(mean_squared_error, squared=False), \n",
    "                      greater_is_better=False)"
   ]
  },
  {
   "cell_type": "code",
   "execution_count": null,
   "metadata": {},
   "outputs": [],
   "source": [
    "# Setting the validation strategy\n",
    "skf = StratifiedKFold(n_splits=7,\n",
    "                      shuffle=True, \n",
    "                      random_state=0)\n",
    "\n",
    "cv_strategy = list(skf.split(X_train, y_train))"
   ]
  },
  {
   "cell_type": "code",
   "execution_count": null,
   "metadata": {},
   "outputs": [],
   "source": [
    "# Setting the basic regressor\n",
    "reg = XGBRegressor(random_state=0, booster='gbtree', objective='reg:squarederror', tree_method='hist')"
   ]
  },
  {
   "cell_type": "code",
   "execution_count": null,
   "metadata": {},
   "outputs": [],
   "source": [
    "# Setting the search space\n",
    "search_spaces = {'learning_rate': Real(0.01, 1.0, 'uniform'),\n",
    "                 'max_depth': Integer(2, 12),\n",
    "                 'subsample': Real(0.1, 1.0, 'uniform'),\n",
    "                 'colsample_bytree': Real(0.1, 1.0, 'uniform'), # subsample ratio of columns by tree\n",
    "                 'reg_lambda': Real(1e-9, 100., 'uniform'), # L2 regularization\n",
    "                 'reg_alpha': Real(1e-9, 100., 'uniform'), # L1 regularization\n",
    "                 'n_estimators': Integer(50, 5000)\n",
    "                }"
   ]
  }
 ],
 "metadata": {
  "kernelspec": {
   "display_name": "Python 3 (ipykernel)",
   "language": "python",
   "name": "python3"
  },
  "language_info": {
   "codemirror_mode": {
    "name": "ipython",
    "version": 3
   },
   "file_extension": ".py",
   "mimetype": "text/x-python",
   "name": "python",
   "nbconvert_exporter": "python",
   "pygments_lexer": "ipython3",
   "version": "3.9.12"
  },
  "vscode": {
   "interpreter": {
    "hash": "ca047435e123f1adf8ceaa4e29276b42b8cdbe924d11fa9449688af84adf0afc"
   }
  }
 },
 "nbformat": 4,
 "nbformat_minor": 2
}

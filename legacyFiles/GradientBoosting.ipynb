{
 "cells": [
  {
   "cell_type": "code",
   "execution_count": 1,
   "metadata": {},
   "outputs": [],
   "source": [
    "import allel\n",
    "import numpy as np\n",
    "import pandas as pd\n",
    "from functools import reduce\n",
    "import pprint"
   ]
  },
  {
   "cell_type": "code",
   "execution_count": 2,
   "metadata": {},
   "outputs": [],
   "source": [
    "import xgboost as xgb\n",
    "from sklearn import metrics\n",
    "from sklearn.model_selection import train_test_split\n",
    "import matplotlib.pyplot as plt \n",
    "import seaborn as sns\n",
    "from numpy import nan"
   ]
  },
  {
   "cell_type": "code",
   "execution_count": 3,
   "metadata": {},
   "outputs": [],
   "source": [
    "from xgboost import XGBClassifier"
   ]
  },
  {
   "cell_type": "code",
   "execution_count": 4,
   "metadata": {},
   "outputs": [],
   "source": [
    "final_target_features = {'freebayes': ['SOMATIC', 'QUAL', 'ID', 'QR', 'DPB', 'CHROM', 'POS', 'is_snp'],\n",
    " 'mutect2': ['FILTER_PASS','ID','ECNT','MQ','FILTER_t_lod_fstar','HCNT','DP','CHROM','POS','is_snp',],\n",
    " 'vardict': ['FILTER_PASS','STATUS','ID','SSF','VD','SOMATIC','CHROM','POS','is_snp'],\n",
    " 'varscan': ['SOMATIC', 'ID', 'SPV', 'FILTER_PASS', 'CHROM', 'POS', 'is_snp']}\n"
   ]
  },
  {
   "cell_type": "code",
   "execution_count": 5,
   "metadata": {},
   "outputs": [],
   "source": [
    "# training with new paramters \n",
    "\n",
    "real1_varscan_sub = allel.vcf_to_dataframe(\"real1/real1-varscan.vcf.gz\", fields = final_target_features['varscan'])\n",
    "\n",
    "real1_freebayes_sub = allel.vcf_to_dataframe(\"real1/real1-freebayes.vcf.gz\", fields = final_target_features['freebayes'])\n",
    "\n",
    "real1_mutect2_sub = allel.vcf_to_dataframe(\"real1/real1-mutect2.vcf.gz\", fields =final_target_features['mutect2'])\n",
    "\n",
    "real1_vardict_sub = allel.vcf_to_dataframe(\"real1/real1-vardict.vcf.gz\", fields = final_target_features['vardict'])"
   ]
  },
  {
   "cell_type": "code",
   "execution_count": 6,
   "metadata": {},
   "outputs": [],
   "source": [
    "# subsetting for snp = True \n",
    "varscan_sub = real1_varscan_sub[real1_varscan_sub.is_snp == True]\n",
    "freebayes_sub = real1_freebayes_sub[real1_freebayes_sub.is_snp == True]\n",
    "mutect2_sub = real1_mutect2_sub[real1_mutect2_sub.is_snp == True]\n",
    "vardict_sub = real1_vardict_sub[real1_vardict_sub.is_snp == True]"
   ]
  },
  {
   "cell_type": "code",
   "execution_count": 7,
   "metadata": {},
   "outputs": [
    {
     "data": {
      "text/plain": [
       "[      SOMATIC_vs        ID_vs        SPV_vs  FILTER_PASS_vs       CHROM  \\\n",
       " 7          False  rs199706086  5.229100e-01           False           1   \n",
       " 8          False  rs145427775  6.083900e-01           False           1   \n",
       " 10         False   rs58108140  6.890800e-01           False           1   \n",
       " 11         False   rs62635284  7.524200e-01           False           1   \n",
       " 12         False            .  3.304300e-01           False           1   \n",
       " ...          ...          ...           ...             ...         ...   \n",
       " 5244       False            .  5.133700e-01           False  GL000192.1   \n",
       " 5246       False            .  6.664900e-04           False  GL000192.1   \n",
       " 5247       False            .  2.069300e-04           False  GL000192.1   \n",
       " 5249       False            .  1.121500e-09           False  GL000192.1   \n",
       " 5250       False            .  2.301600e-02           False  GL000192.1   \n",
       " \n",
       "          POS  is_snp_vs  \n",
       " 7      10250       True  \n",
       " 8      10291       True  \n",
       " 10     10583       True  \n",
       " 11     12783       True  \n",
       " 12     12817       True  \n",
       " ...      ...        ...  \n",
       " 5244  545300       True  \n",
       " 5246  545668       True  \n",
       " 5247  545721       True  \n",
       " 5249  547087       True  \n",
       " 5250  547102       True  \n",
       " \n",
       " [4143361 rows x 7 columns],\n",
       "        SOMATIC_fb      QUAL_fb       ID_fb  QR_fb  DPB_fb       CHROM     POS  \\\n",
       " 1           False   271.100006  rs58108140   1198    58.0           1   10583   \n",
       " 2           False  2044.599976  rs62635284   2335   287.0           1   12783   \n",
       " 3           False  1762.699951  rs62635286     -1     NaN           1   13116   \n",
       " 4           False  1762.699951  rs62028691     -1     NaN           1   13118   \n",
       " 5           False   787.900024           .   1769   155.0           1   14026   \n",
       " ...           ...          ...         ...    ...     ...         ...     ...   \n",
       " 10016       False  1126.099976           .   2922   261.0  GL000192.1  545445   \n",
       " 10017       False   128.300003           .   6061   350.0  GL000192.1  545485   \n",
       " 10019       False   274.500000           .   4304   167.0  GL000192.1  545668   \n",
       " 10020       False   140.699997           .   1865   118.0  GL000192.1  546636   \n",
       " 10021       False   140.699997           .   2011   128.0  GL000192.1  546648   \n",
       " \n",
       "        is_snp_fb  \n",
       " 1           True  \n",
       " 2           True  \n",
       " 3           True  \n",
       " 4           True  \n",
       " 5           True  \n",
       " ...          ...  \n",
       " 10016       True  \n",
       " 10017       True  \n",
       " 10019       True  \n",
       " 10020       True  \n",
       " 10021       True  \n",
       " \n",
       " [4034935 rows x 8 columns],\n",
       "        FILTER_PASS_m2        ID_m2 ECNT_m2      MQ_m2  FILTER_t_lod_fstar_m2  \\\n",
       " 0                True  rs540538026       1  41.910000                  False   \n",
       " 1               False  rs879707275       1  34.799999                  False   \n",
       " 2               False            .       2  42.189999                  False   \n",
       " 3               False   rs28428499       2  42.490002                  False   \n",
       " 4                True            .       1  43.419998                  False   \n",
       " ...               ...          ...     ...        ...                    ...   \n",
       " 47412           False            .       2  48.360001                   True   \n",
       " 47413           False            .       2  47.779999                  False   \n",
       " 47414           False            .       2  49.080002                   True   \n",
       " 47415           False            .       1  47.110001                  False   \n",
       " 47416           False            .       1  44.689999                   True   \n",
       " \n",
       "       HCNT_m2  DP_m2       CHROM     POS  is_snp_m2  \n",
       " 0          14    312           1   13110       True  \n",
       " 1          19    253           1   13649       True  \n",
       " 2           6    742           1   13813       True  \n",
       " 3           6    686           1   13838       True  \n",
       " 4          17    283           1   15015       True  \n",
       " ...       ...    ...         ...     ...        ...  \n",
       " 47412       5    271  GL000225.1  210500       True  \n",
       " 47413       8    223  GL000225.1  210685       True  \n",
       " 47414       4    187  GL000225.1  210704       True  \n",
       " 47415       4     81  GL000192.1  150572       True  \n",
       " 47416       1     88  GL000192.1  233157       True  \n",
       " \n",
       " [101169 rows x 10 columns],\n",
       "        FILTER_PASS_vd  STATUS_vd        ID_vd   SSF_vd  VD_vd  SOMATIC_vd  \\\n",
       " 1               False     AFDiff  rs200279319  0.61733      5       False   \n",
       " 3               False   Germline   rs58108140  0.47730     11       False   \n",
       " 4               False   Germline   rs62635284  0.48250     99       False   \n",
       " 5               False     AFDiff            .  0.40919     29       False   \n",
       " 6               False     AFDiff  rs540538026  0.23427     24       False   \n",
       " ...               ...        ...          ...      ...    ...         ...   \n",
       " 46181           False  LikelyLOH            .  0.00000      3       False   \n",
       " 46183           False  StrongLOH            .  0.00000      0       False   \n",
       " 46184           False  StrongLOH            .  0.00865      0       False   \n",
       " 46185           False  StrongLOH            .  0.11644      0       False   \n",
       " 46186           False   Germline            .  0.14098      1       False   \n",
       " \n",
       "             CHROM     POS  is_snp_vd  \n",
       " 1               1   10231       True  \n",
       " 3               1   10583       True  \n",
       " 4               1   12783       True  \n",
       " 5               1   12817       True  \n",
       " 6               1   13110       True  \n",
       " ...           ...     ...        ...  \n",
       " 46181  GL000192.1  545485       True  \n",
       " 46183  GL000192.1  545668       True  \n",
       " 46184  GL000192.1  545721       True  \n",
       " 46185  GL000192.1  546636       True  \n",
       " 46186  GL000192.1  546648       True  \n",
       " \n",
       " [4013389 rows x 9 columns]]"
      ]
     },
     "execution_count": 7,
     "metadata": {},
     "output_type": "execute_result"
    }
   ],
   "source": [
    "lst_dfs = [varscan_sub,freebayes_sub,mutect2_sub,vardict_sub]\n",
    "suffix = ['vs','fb','m2','vd']\n",
    "keep_same = {'CHROM', 'POS'}\n",
    "i =0 \n",
    "for df in lst_dfs:\n",
    "    df.columns = ['{}{}'.format(c, '' if c in keep_same else '_'+suffix[i]) for c in df.columns]\n",
    "    i += 1\n",
    "lst_dfs"
   ]
  },
  {
   "cell_type": "code",
   "execution_count": 8,
   "metadata": {},
   "outputs": [],
   "source": [
    "merged_df = reduce(lambda left, right: pd.merge(left, right,on =['CHROM', 'POS'],\n",
    "                                            how = 'outer', suffixes = ('', '')),lst_dfs)\n",
    "merged_df = merged_df.drop(['is_snp_vd','is_snp_fb','is_snp_m2','is_snp_vs'], axis=1)\n",
    " \n",
    "merged_df.to_csv(\"real1_mergered_df.csv\")"
   ]
  },
  {
   "cell_type": "code",
   "execution_count": 9,
   "metadata": {},
   "outputs": [
    {
     "name": "stdout",
     "output_type": "stream",
     "text": [
      "[True]\n"
     ]
    }
   ],
   "source": [
    "##  function to get y labels\n",
    "truth_labels = pd.read_csv(\"real1/real1_truth.bed\", sep = \"\\t\", names = ['Chromo', 'start', 'end'])\n",
    "print(list(set(truth_labels.start == truth_labels.end) )) # the start and end position are the same \n",
    "truth_labels = truth_labels[['Chromo', 'start']]\n",
    "truth_labels['truth'] = 1\n",
    "sub_truth= truth_labels.rename(columns = {'Chromo':'CHROM', 'start':'POS'})"
   ]
  },
  {
   "cell_type": "code",
   "execution_count": 10,
   "metadata": {},
   "outputs": [],
   "source": [
    "# combine dataset \n",
    "combined = merged_df.merge(sub_truth, on=['CHROM','POS'], how = 'left' )\n",
    "combined['truth'].fillna(0, inplace = True)"
   ]
  },
  {
   "cell_type": "code",
   "execution_count": 11,
   "metadata": {},
   "outputs": [
    {
     "data": {
      "text/html": [
       "<div>\n",
       "<style scoped>\n",
       "    .dataframe tbody tr th:only-of-type {\n",
       "        vertical-align: middle;\n",
       "    }\n",
       "\n",
       "    .dataframe tbody tr th {\n",
       "        vertical-align: top;\n",
       "    }\n",
       "\n",
       "    .dataframe thead th {\n",
       "        text-align: right;\n",
       "    }\n",
       "</style>\n",
       "<table border=\"1\" class=\"dataframe\">\n",
       "  <thead>\n",
       "    <tr style=\"text-align: right;\">\n",
       "      <th></th>\n",
       "      <th>SOMATIC_vs</th>\n",
       "      <th>ID_vs</th>\n",
       "      <th>SPV_vs</th>\n",
       "      <th>FILTER_PASS_vs</th>\n",
       "      <th>CHROM</th>\n",
       "      <th>POS</th>\n",
       "      <th>SOMATIC_fb</th>\n",
       "      <th>QUAL_fb</th>\n",
       "      <th>ID_fb</th>\n",
       "      <th>QR_fb</th>\n",
       "      <th>...</th>\n",
       "      <th>FILTER_t_lod_fstar_m2</th>\n",
       "      <th>HCNT_m2</th>\n",
       "      <th>DP_m2</th>\n",
       "      <th>FILTER_PASS_vd</th>\n",
       "      <th>STATUS_vd</th>\n",
       "      <th>ID_vd</th>\n",
       "      <th>SSF_vd</th>\n",
       "      <th>VD_vd</th>\n",
       "      <th>SOMATIC_vd</th>\n",
       "      <th>truth</th>\n",
       "    </tr>\n",
       "  </thead>\n",
       "  <tbody>\n",
       "    <tr>\n",
       "      <th>0</th>\n",
       "      <td>False</td>\n",
       "      <td>rs199706086</td>\n",
       "      <td>0.52291</td>\n",
       "      <td>False</td>\n",
       "      <td>1</td>\n",
       "      <td>10250</td>\n",
       "      <td>NaN</td>\n",
       "      <td>NaN</td>\n",
       "      <td>NaN</td>\n",
       "      <td>NaN</td>\n",
       "      <td>...</td>\n",
       "      <td>NaN</td>\n",
       "      <td>NaN</td>\n",
       "      <td>NaN</td>\n",
       "      <td>NaN</td>\n",
       "      <td>NaN</td>\n",
       "      <td>NaN</td>\n",
       "      <td>NaN</td>\n",
       "      <td>NaN</td>\n",
       "      <td>NaN</td>\n",
       "      <td>0.0</td>\n",
       "    </tr>\n",
       "    <tr>\n",
       "      <th>1</th>\n",
       "      <td>False</td>\n",
       "      <td>rs145427775</td>\n",
       "      <td>0.60839</td>\n",
       "      <td>False</td>\n",
       "      <td>1</td>\n",
       "      <td>10291</td>\n",
       "      <td>NaN</td>\n",
       "      <td>NaN</td>\n",
       "      <td>NaN</td>\n",
       "      <td>NaN</td>\n",
       "      <td>...</td>\n",
       "      <td>NaN</td>\n",
       "      <td>NaN</td>\n",
       "      <td>NaN</td>\n",
       "      <td>NaN</td>\n",
       "      <td>NaN</td>\n",
       "      <td>NaN</td>\n",
       "      <td>NaN</td>\n",
       "      <td>NaN</td>\n",
       "      <td>NaN</td>\n",
       "      <td>0.0</td>\n",
       "    </tr>\n",
       "    <tr>\n",
       "      <th>2</th>\n",
       "      <td>False</td>\n",
       "      <td>rs58108140</td>\n",
       "      <td>0.68908</td>\n",
       "      <td>False</td>\n",
       "      <td>1</td>\n",
       "      <td>10583</td>\n",
       "      <td>False</td>\n",
       "      <td>271.100006</td>\n",
       "      <td>rs58108140</td>\n",
       "      <td>1198.0</td>\n",
       "      <td>...</td>\n",
       "      <td>NaN</td>\n",
       "      <td>NaN</td>\n",
       "      <td>NaN</td>\n",
       "      <td>False</td>\n",
       "      <td>Germline</td>\n",
       "      <td>rs58108140</td>\n",
       "      <td>0.47730</td>\n",
       "      <td>11.0</td>\n",
       "      <td>False</td>\n",
       "      <td>0.0</td>\n",
       "    </tr>\n",
       "    <tr>\n",
       "      <th>3</th>\n",
       "      <td>False</td>\n",
       "      <td>rs62635284</td>\n",
       "      <td>0.75242</td>\n",
       "      <td>False</td>\n",
       "      <td>1</td>\n",
       "      <td>12783</td>\n",
       "      <td>False</td>\n",
       "      <td>2044.599976</td>\n",
       "      <td>rs62635284</td>\n",
       "      <td>2335.0</td>\n",
       "      <td>...</td>\n",
       "      <td>NaN</td>\n",
       "      <td>NaN</td>\n",
       "      <td>NaN</td>\n",
       "      <td>False</td>\n",
       "      <td>Germline</td>\n",
       "      <td>rs62635284</td>\n",
       "      <td>0.48250</td>\n",
       "      <td>99.0</td>\n",
       "      <td>False</td>\n",
       "      <td>0.0</td>\n",
       "    </tr>\n",
       "    <tr>\n",
       "      <th>4</th>\n",
       "      <td>False</td>\n",
       "      <td>.</td>\n",
       "      <td>0.33043</td>\n",
       "      <td>False</td>\n",
       "      <td>1</td>\n",
       "      <td>12817</td>\n",
       "      <td>NaN</td>\n",
       "      <td>NaN</td>\n",
       "      <td>NaN</td>\n",
       "      <td>NaN</td>\n",
       "      <td>...</td>\n",
       "      <td>NaN</td>\n",
       "      <td>NaN</td>\n",
       "      <td>NaN</td>\n",
       "      <td>False</td>\n",
       "      <td>AFDiff</td>\n",
       "      <td>.</td>\n",
       "      <td>0.40919</td>\n",
       "      <td>29.0</td>\n",
       "      <td>False</td>\n",
       "      <td>0.0</td>\n",
       "    </tr>\n",
       "    <tr>\n",
       "      <th>...</th>\n",
       "      <td>...</td>\n",
       "      <td>...</td>\n",
       "      <td>...</td>\n",
       "      <td>...</td>\n",
       "      <td>...</td>\n",
       "      <td>...</td>\n",
       "      <td>...</td>\n",
       "      <td>...</td>\n",
       "      <td>...</td>\n",
       "      <td>...</td>\n",
       "      <td>...</td>\n",
       "      <td>...</td>\n",
       "      <td>...</td>\n",
       "      <td>...</td>\n",
       "      <td>...</td>\n",
       "      <td>...</td>\n",
       "      <td>...</td>\n",
       "      <td>...</td>\n",
       "      <td>...</td>\n",
       "      <td>...</td>\n",
       "      <td>...</td>\n",
       "    </tr>\n",
       "    <tr>\n",
       "      <th>4656014</th>\n",
       "      <td>NaN</td>\n",
       "      <td>NaN</td>\n",
       "      <td>NaN</td>\n",
       "      <td>NaN</td>\n",
       "      <td>GL000192.1</td>\n",
       "      <td>542751</td>\n",
       "      <td>NaN</td>\n",
       "      <td>NaN</td>\n",
       "      <td>NaN</td>\n",
       "      <td>NaN</td>\n",
       "      <td>...</td>\n",
       "      <td>NaN</td>\n",
       "      <td>NaN</td>\n",
       "      <td>NaN</td>\n",
       "      <td>False</td>\n",
       "      <td>Deletion</td>\n",
       "      <td>.</td>\n",
       "      <td>1.00000</td>\n",
       "      <td>0.0</td>\n",
       "      <td>False</td>\n",
       "      <td>0.0</td>\n",
       "    </tr>\n",
       "    <tr>\n",
       "      <th>4656015</th>\n",
       "      <td>NaN</td>\n",
       "      <td>NaN</td>\n",
       "      <td>NaN</td>\n",
       "      <td>NaN</td>\n",
       "      <td>GL000192.1</td>\n",
       "      <td>543455</td>\n",
       "      <td>NaN</td>\n",
       "      <td>NaN</td>\n",
       "      <td>NaN</td>\n",
       "      <td>NaN</td>\n",
       "      <td>...</td>\n",
       "      <td>NaN</td>\n",
       "      <td>NaN</td>\n",
       "      <td>NaN</td>\n",
       "      <td>False</td>\n",
       "      <td>StrongLOH</td>\n",
       "      <td>.</td>\n",
       "      <td>0.49260</td>\n",
       "      <td>0.0</td>\n",
       "      <td>False</td>\n",
       "      <td>0.0</td>\n",
       "    </tr>\n",
       "    <tr>\n",
       "      <th>4656016</th>\n",
       "      <td>NaN</td>\n",
       "      <td>NaN</td>\n",
       "      <td>NaN</td>\n",
       "      <td>NaN</td>\n",
       "      <td>GL000192.1</td>\n",
       "      <td>544811</td>\n",
       "      <td>NaN</td>\n",
       "      <td>NaN</td>\n",
       "      <td>NaN</td>\n",
       "      <td>NaN</td>\n",
       "      <td>...</td>\n",
       "      <td>NaN</td>\n",
       "      <td>NaN</td>\n",
       "      <td>NaN</td>\n",
       "      <td>False</td>\n",
       "      <td>StrongLOH</td>\n",
       "      <td>.</td>\n",
       "      <td>0.03416</td>\n",
       "      <td>0.0</td>\n",
       "      <td>False</td>\n",
       "      <td>0.0</td>\n",
       "    </tr>\n",
       "    <tr>\n",
       "      <th>4656017</th>\n",
       "      <td>NaN</td>\n",
       "      <td>NaN</td>\n",
       "      <td>NaN</td>\n",
       "      <td>NaN</td>\n",
       "      <td>GL000192.1</td>\n",
       "      <td>544883</td>\n",
       "      <td>NaN</td>\n",
       "      <td>NaN</td>\n",
       "      <td>NaN</td>\n",
       "      <td>NaN</td>\n",
       "      <td>...</td>\n",
       "      <td>NaN</td>\n",
       "      <td>NaN</td>\n",
       "      <td>NaN</td>\n",
       "      <td>False</td>\n",
       "      <td>Germline</td>\n",
       "      <td>.</td>\n",
       "      <td>0.37634</td>\n",
       "      <td>2.0</td>\n",
       "      <td>False</td>\n",
       "      <td>0.0</td>\n",
       "    </tr>\n",
       "    <tr>\n",
       "      <th>4656018</th>\n",
       "      <td>NaN</td>\n",
       "      <td>NaN</td>\n",
       "      <td>NaN</td>\n",
       "      <td>NaN</td>\n",
       "      <td>GL000192.1</td>\n",
       "      <td>545381</td>\n",
       "      <td>NaN</td>\n",
       "      <td>NaN</td>\n",
       "      <td>NaN</td>\n",
       "      <td>NaN</td>\n",
       "      <td>...</td>\n",
       "      <td>NaN</td>\n",
       "      <td>NaN</td>\n",
       "      <td>NaN</td>\n",
       "      <td>False</td>\n",
       "      <td>AFDiff</td>\n",
       "      <td>.</td>\n",
       "      <td>0.44370</td>\n",
       "      <td>20.0</td>\n",
       "      <td>False</td>\n",
       "      <td>0.0</td>\n",
       "    </tr>\n",
       "  </tbody>\n",
       "</table>\n",
       "<p>4656019 rows × 25 columns</p>\n",
       "</div>"
      ],
      "text/plain": [
       "        SOMATIC_vs        ID_vs   SPV_vs FILTER_PASS_vs       CHROM     POS  \\\n",
       "0            False  rs199706086  0.52291          False           1   10250   \n",
       "1            False  rs145427775  0.60839          False           1   10291   \n",
       "2            False   rs58108140  0.68908          False           1   10583   \n",
       "3            False   rs62635284  0.75242          False           1   12783   \n",
       "4            False            .  0.33043          False           1   12817   \n",
       "...            ...          ...      ...            ...         ...     ...   \n",
       "4656014        NaN          NaN      NaN            NaN  GL000192.1  542751   \n",
       "4656015        NaN          NaN      NaN            NaN  GL000192.1  543455   \n",
       "4656016        NaN          NaN      NaN            NaN  GL000192.1  544811   \n",
       "4656017        NaN          NaN      NaN            NaN  GL000192.1  544883   \n",
       "4656018        NaN          NaN      NaN            NaN  GL000192.1  545381   \n",
       "\n",
       "        SOMATIC_fb      QUAL_fb       ID_fb   QR_fb  ...  \\\n",
       "0              NaN          NaN         NaN     NaN  ...   \n",
       "1              NaN          NaN         NaN     NaN  ...   \n",
       "2            False   271.100006  rs58108140  1198.0  ...   \n",
       "3            False  2044.599976  rs62635284  2335.0  ...   \n",
       "4              NaN          NaN         NaN     NaN  ...   \n",
       "...            ...          ...         ...     ...  ...   \n",
       "4656014        NaN          NaN         NaN     NaN  ...   \n",
       "4656015        NaN          NaN         NaN     NaN  ...   \n",
       "4656016        NaN          NaN         NaN     NaN  ...   \n",
       "4656017        NaN          NaN         NaN     NaN  ...   \n",
       "4656018        NaN          NaN         NaN     NaN  ...   \n",
       "\n",
       "         FILTER_t_lod_fstar_m2 HCNT_m2 DP_m2 FILTER_PASS_vd  STATUS_vd  \\\n",
       "0                          NaN     NaN   NaN            NaN        NaN   \n",
       "1                          NaN     NaN   NaN            NaN        NaN   \n",
       "2                          NaN     NaN   NaN          False   Germline   \n",
       "3                          NaN     NaN   NaN          False   Germline   \n",
       "4                          NaN     NaN   NaN          False     AFDiff   \n",
       "...                        ...     ...   ...            ...        ...   \n",
       "4656014                    NaN     NaN   NaN          False   Deletion   \n",
       "4656015                    NaN     NaN   NaN          False  StrongLOH   \n",
       "4656016                    NaN     NaN   NaN          False  StrongLOH   \n",
       "4656017                    NaN     NaN   NaN          False   Germline   \n",
       "4656018                    NaN     NaN   NaN          False     AFDiff   \n",
       "\n",
       "              ID_vd   SSF_vd  VD_vd SOMATIC_vd truth  \n",
       "0               NaN      NaN    NaN        NaN   0.0  \n",
       "1               NaN      NaN    NaN        NaN   0.0  \n",
       "2        rs58108140  0.47730   11.0      False   0.0  \n",
       "3        rs62635284  0.48250   99.0      False   0.0  \n",
       "4                 .  0.40919   29.0      False   0.0  \n",
       "...             ...      ...    ...        ...   ...  \n",
       "4656014           .  1.00000    0.0      False   0.0  \n",
       "4656015           .  0.49260    0.0      False   0.0  \n",
       "4656016           .  0.03416    0.0      False   0.0  \n",
       "4656017           .  0.37634    2.0      False   0.0  \n",
       "4656018           .  0.44370   20.0      False   0.0  \n",
       "\n",
       "[4656019 rows x 25 columns]"
      ]
     },
     "execution_count": 11,
     "metadata": {},
     "output_type": "execute_result"
    }
   ],
   "source": [
    "combined"
   ]
  },
  {
   "cell_type": "code",
   "execution_count": 12,
   "metadata": {},
   "outputs": [],
   "source": [
    "X = combined[combined.columns[~combined.columns.isin(['truth','POS','CHROM'])]]\n",
    "\n",
    "y = combined['truth'] "
   ]
  },
  {
   "cell_type": "code",
   "execution_count": 13,
   "metadata": {},
   "outputs": [],
   "source": [
    "# ordinal encoding for REF and ALT\n",
    "from sklearn.preprocessing import OrdinalEncoder\n",
    "enc = OrdinalEncoder()\n",
    "enc.fit(X)\n",
    "new_X = enc.transform(X)"
   ]
  },
  {
   "cell_type": "code",
   "execution_count": 14,
   "metadata": {},
   "outputs": [],
   "source": [
    "newn_X = pd.DataFrame(new_X, columns = X.columns)"
   ]
  },
  {
   "cell_type": "code",
   "execution_count": 15,
   "metadata": {},
   "outputs": [],
   "source": [
    "from sklearn.model_selection import train_test_split\n",
    "\n",
    "X_train, X_test, y_train, y_test = train_test_split(newn_X, y, test_size=0.4)"
   ]
  },
  {
   "cell_type": "code",
   "execution_count": 16,
   "metadata": {},
   "outputs": [],
   "source": [
    "# Classifier/Regressor\n",
    "from xgboost import XGBClassifier, DMatrix\n",
    "from functools import partial\n",
    "# Model selection\n",
    "from sklearn.model_selection import KFold, StratifiedKFold\n",
    "\n",
    "# Metrics\n",
    "from sklearn.metrics import mean_squared_error\n",
    "from sklearn.metrics import make_scorer\n",
    "\n",
    "# Skopt functions\n",
    "from skopt import BayesSearchCV\n",
    "from skopt.callbacks import DeadlineStopper, DeltaYStopper\n",
    "from skopt.space import Real, Categorical, Integer\n",
    "\n",
    "# Data processing\n",
    "from sklearn.preprocessing import OrdinalEncoder\n",
    "from sklearn.decomposition import TruncatedSVD\n",
    "from sklearn.feature_extraction.text import TfidfVectorizer, CountVectorizer\n",
    "# from bayes_opt import BayesianOptimization\n",
    "from sklearn.model_selection import cross_val_score\n"
   ]
  },
  {
   "cell_type": "code",
   "execution_count": 18,
   "metadata": {},
   "outputs": [],
   "source": [
    "# Reporting util for different optimizers\n",
    "def report_perf(optimizer, X, y, title=\"model\", callbacks=None):\n",
    "    \"\"\"\n",
    "    A wrapper for measuring time and performances of different optmizers\n",
    "    \n",
    "    optimizer = a sklearn or a skopt optimizer\n",
    "    X = the training set \n",
    "    y = our target\n",
    "    title = a string label for the experiment\n",
    "    \"\"\"\n",
    "    start = time()\n",
    "    \n",
    "    if callbacks is not None:\n",
    "        optimizer.fit(X, y, callback=callbacks)\n",
    "    else:\n",
    "        optimizer.fit(X, y)\n",
    "        \n",
    "    d = pd.DataFrame(optimizer.cv_results_)\n",
    "    \n",
    "    \n",
    "    best_score = optimizer.best_score_\n",
    "    best_score_std = d.iloc[optimizer.best_index_].std_test_score\n",
    "    best_params = optimizer.best_params_\n",
    "    \n",
    "    print((title + \" took %.2f seconds,  candidates checked: %d, best CV score: %.3f \"\n",
    "           + u\"\\u00B1\"+\" %.3f\") % (time() - start, \n",
    "                                   len(optimizer.cv_results_['params']),\n",
    "                                   best_score,\n",
    "                                   best_score_std))    \n",
    "    print('Best parameters:')\n",
    "    pprint.pprint(best_params)\n",
    "    print()\n",
    "    return optimizer"
   ]
  },
  {
   "cell_type": "code",
   "execution_count": 19,
   "metadata": {},
   "outputs": [],
   "source": [
    "# Setting the validation strategy\n",
    "skf = StratifiedKFold(n_splits=3,\n",
    "                      shuffle=True, \n",
    "                      random_state=42)"
   ]
  },
  {
   "cell_type": "code",
   "execution_count": 20,
   "metadata": {},
   "outputs": [],
   "source": [
    "# Setting the basic regressor\n",
    "clf = XGBClassifier(random_state=0, \n",
    "                    #booster='gbtree', \n",
    "                    #eval_metric = 'auc',\n",
    "                    #objective='binary:logistic', \n",
    "                    #tree_method='approx', \n",
    "                    verbosity = 0)"
   ]
  },
  {
   "cell_type": "code",
   "execution_count": 21,
   "metadata": {},
   "outputs": [],
   "source": [
    "X_train, X_val, y_train, y_val = train_test_split(X_train, y_train, test_size = 0.20, random_state = 42)\n",
    "cv_strategy = list(skf.split(X_train, y_train))"
   ]
  },
  {
   "cell_type": "code",
   "execution_count": 22,
   "metadata": {},
   "outputs": [],
   "source": [
    "# Setting the search space\n",
    "# learning_rate keeps giving me stupid error'learning_rate': Real(0.01, 1.0, 'uniform')\n",
    "from skopt.space import Real\n",
    "search_spaces = {'learning_rate': Real(low = 0.01, high = 10, prior ='log-uniform'),# 10??\n",
    "                 'n_estimators': Integer(100, 1000),\n",
    "                 'max_depth': Integer(1, 20),\n",
    "                 'subsample': Real(0.5, 1.0, 'uniform'), # change for big datasets\n",
    "                 'colsample_bytree': Real(0.5, 1.0, 'uniform'), # subsample ratio of columns by tree, for samples with lots of features\n",
    "                 'gamma': Real(1e-9, 100., 'uniform'), # Minimum loss reduction required to make a further partition on a leaf node of the tree. The larger gamma is, the more conservative the algorithm will be\n",
    "                 'reg_alpha': Real(1e-9, 100., 'uniform'), # L1 regularization\n",
    "                 'reg_lambda': (1e-9, 100, 'uniform')\n",
    "                 \n",
    "   }"
   ]
  },
  {
   "cell_type": "code",
   "execution_count": 23,
   "metadata": {},
   "outputs": [],
   "source": [
    "# Wrapping everything up into the Bayesian optimizer\n",
    "from time import time\n",
    "fit_params = {\n",
    "    'early_stopping_rounds':20, # change this later\n",
    "    'eval_metric':'f1', #change? to 'accuracy'??\n",
    "    'eval_set':[(X_val, y_val)]\n",
    "}\n",
    "\n",
    "baye_opt = BayesSearchCV(\n",
    "    estimator = clf,\n",
    "    search_spaces = search_spaces,\n",
    "    scoring = 'f1', # I CHANGED THIS\n",
    "    cv = cv_strategy,\n",
    "    n_iter=50,                                       # max number of trials\n",
    "    n_points=1,                                       # number of hyperparameter sets evaluated at the same time\n",
    "    n_jobs=-1,  # idk                                       # number of jobs\n",
    "    #iid=False,                                        # if not iid it optimizes on the cv score\n",
    "    # return_train_score=False,\n",
    "    # refit=False,\n",
    "    # optimizer_kwargs={'base_estimator': 'GP'}, # optmizer parameters: we use Gaussian Process (GP)\n",
    "    fit_params = fit_params, \n",
    "    random_state=0) "
   ]
  },
  {
   "cell_type": "code",
   "execution_count": 24,
   "metadata": {},
   "outputs": [
    {
     "name": "stdout",
     "output_type": "stream",
     "text": [
      "XGBoost_classifier took 3838.30 seconds,  candidates checked: 1, best CV score: 0.556 ± 0.393\n",
      "Best parameters:\n",
      "OrderedDict([('colsample_bytree', 0.7654820824760737),\n",
      "             ('gamma', 67.60795088801528),\n",
      "             ('learning_rate', 0.7381238832487748),\n",
      "             ('max_depth', 13),\n",
      "             ('n_estimators', 873),\n",
      "             ('reg_alpha', 98.05562626781331),\n",
      "             ('reg_lambda', 13),\n",
      "             ('subsample', 0.5008184803527521)])\n",
      "\n"
     ]
    }
   ],
   "source": [
    "# Running the optimizer # using the first search space\n",
    "\n",
    "overdone_control = DeltaYStopper(delta=0.0001)                    # We stop if the gain of the optimization becomes too small\n",
    "time_limit_control = DeadlineStopper(total_time=60*60*4)          # We impose a time limit (1 hours)\n",
    "\n",
    "best_params = report_perf(baye_opt, X_train, y_train,'XGBoost_classifier', \n",
    "                          callbacks=[overdone_control, time_limit_control])"
   ]
  },
  {
   "cell_type": "code",
   "execution_count": null,
   "metadata": {},
   "outputs": [],
   "source": []
  },
  {
   "cell_type": "code",
   "execution_count": 28,
   "metadata": {},
   "outputs": [
    {
     "data": {
      "image/png": "[encoded data removed]",
      "text/plain": [
       "<Figure size 1152x1152 with 64 Axes>"
      ]
     },
     "metadata": {
      "needs_background": "light"
     },
     "output_type": "display_data"
    }
   ],
   "source": [
    "plots.plot_evaluations(best_params.optimizer_results_[0])\n",
    "plt.show()"
   ]
  },
  {
   "cell_type": "code",
   "execution_count": 29,
   "metadata": {
    "collapsed": true
   },
   "outputs": [
    {
     "ename": "ValueError",
     "evalue": "All integer values shouldbe greater than 0.000000",
     "output_type": "error",
     "traceback": [
      "\u001b[0;31m---------------------------------------------------------------------------\u001b[0m",
      "\u001b[0;31mValueError\u001b[0m                                Traceback (most recent call last)",
      "Input \u001b[0;32mIn [29]\u001b[0m, in \u001b[0;36m<cell line: 4>\u001b[0;34m()\u001b[0m\n\u001b[1;32m      2\u001b[0m \u001b[38;5;28;01mfrom\u001b[39;00m \u001b[38;5;21;01mskopt\u001b[39;00m \u001b[38;5;28;01mimport\u001b[39;00m space, plots\n\u001b[1;32m      3\u001b[0m \u001b[38;5;66;03m# Visualize loss with respect to hyperparameters\u001b[39;00m\n\u001b[0;32m----> 4\u001b[0m \u001b[43mplots\u001b[49m\u001b[38;5;241;43m.\u001b[39;49m\u001b[43mplot_objective\u001b[49m\u001b[43m(\u001b[49m\u001b[43mbest_params\u001b[49m\u001b[38;5;241;43m.\u001b[39;49m\u001b[43moptimizer_results_\u001b[49m\u001b[43m[\u001b[49m\u001b[38;5;241;43m0\u001b[39;49m\u001b[43m]\u001b[49m\u001b[43m)\u001b[49m\n\u001b[1;32m      5\u001b[0m plt\u001b[38;5;241m.\u001b[39mshow()\n",
      "File \u001b[0;32m~/opt/anaconda3/lib/python3.9/site-packages/skopt/plots.py:699\u001b[0m, in \u001b[0;36mplot_objective\u001b[0;34m(result, levels, n_points, n_samples, size, zscale, dimensions, sample_source, minimum, n_minimum_search, plot_dims, show_points, cmap)\u001b[0m\n\u001b[1;32m    697\u001b[0m \u001b[38;5;28;01mif\u001b[39;00m sample_source \u001b[38;5;241m==\u001b[39m \u001b[38;5;124m\"\u001b[39m\u001b[38;5;124mrandom\u001b[39m\u001b[38;5;124m\"\u001b[39m:\n\u001b[1;32m    698\u001b[0m     x_eval \u001b[38;5;241m=\u001b[39m \u001b[38;5;28;01mNone\u001b[39;00m\n\u001b[0;32m--> 699\u001b[0m     samples \u001b[38;5;241m=\u001b[39m \u001b[43mspace\u001b[49m\u001b[38;5;241;43m.\u001b[39;49m\u001b[43mtransform\u001b[49m\u001b[43m(\u001b[49m\u001b[43mspace\u001b[49m\u001b[38;5;241;43m.\u001b[39;49m\u001b[43mrvs\u001b[49m\u001b[43m(\u001b[49m\u001b[43mn_samples\u001b[49m\u001b[38;5;241;43m=\u001b[39;49m\u001b[43mn_samples\u001b[49m\u001b[43m)\u001b[49m\u001b[43m)\u001b[49m\n\u001b[1;32m    700\u001b[0m \u001b[38;5;28;01melse\u001b[39;00m:\n\u001b[1;32m    701\u001b[0m     x_eval \u001b[38;5;241m=\u001b[39m _evaluate_min_params(result, sample_source,\n\u001b[1;32m    702\u001b[0m                                   n_minimum_search)\n",
      "File \u001b[0;32m~/opt/anaconda3/lib/python3.9/site-packages/skopt/space/space.py:969\u001b[0m, in \u001b[0;36mSpace.transform\u001b[0;34m(self, X)\u001b[0m\n\u001b[1;32m    967\u001b[0m \u001b[38;5;66;03m# Transform\u001b[39;00m\n\u001b[1;32m    968\u001b[0m \u001b[38;5;28;01mfor\u001b[39;00m j \u001b[38;5;129;01min\u001b[39;00m \u001b[38;5;28mrange\u001b[39m(\u001b[38;5;28mself\u001b[39m\u001b[38;5;241m.\u001b[39mn_dims):\n\u001b[0;32m--> 969\u001b[0m     columns[j] \u001b[38;5;241m=\u001b[39m \u001b[38;5;28;43mself\u001b[39;49m\u001b[38;5;241;43m.\u001b[39;49m\u001b[43mdimensions\u001b[49m\u001b[43m[\u001b[49m\u001b[43mj\u001b[49m\u001b[43m]\u001b[49m\u001b[38;5;241;43m.\u001b[39;49m\u001b[43mtransform\u001b[49m\u001b[43m(\u001b[49m\u001b[43mcolumns\u001b[49m\u001b[43m[\u001b[49m\u001b[43mj\u001b[49m\u001b[43m]\u001b[49m\u001b[43m)\u001b[49m\n\u001b[1;32m    971\u001b[0m \u001b[38;5;66;03m# Repack as an array\u001b[39;00m\n\u001b[1;32m    972\u001b[0m Xt \u001b[38;5;241m=\u001b[39m np\u001b[38;5;241m.\u001b[39mhstack([np\u001b[38;5;241m.\u001b[39masarray(c)\u001b[38;5;241m.\u001b[39mreshape((\u001b[38;5;28mlen\u001b[39m(X), \u001b[38;5;241m-\u001b[39m\u001b[38;5;241m1\u001b[39m)) \u001b[38;5;28;01mfor\u001b[39;00m c \u001b[38;5;129;01min\u001b[39;00m columns])\n",
      "File \u001b[0;32m~/opt/anaconda3/lib/python3.9/site-packages/skopt/space/space.py:162\u001b[0m, in \u001b[0;36mDimension.transform\u001b[0;34m(self, X)\u001b[0m\n\u001b[1;32m    160\u001b[0m \u001b[38;5;28;01mdef\u001b[39;00m \u001b[38;5;21mtransform\u001b[39m(\u001b[38;5;28mself\u001b[39m, X):\n\u001b[1;32m    161\u001b[0m     \u001b[38;5;124;03m\"\"\"Transform samples form the original space to a warped space.\"\"\"\u001b[39;00m\n\u001b[0;32m--> 162\u001b[0m     \u001b[38;5;28;01mreturn\u001b[39;00m \u001b[38;5;28;43mself\u001b[39;49m\u001b[38;5;241;43m.\u001b[39;49m\u001b[43mtransformer\u001b[49m\u001b[38;5;241;43m.\u001b[39;49m\u001b[43mtransform\u001b[49m\u001b[43m(\u001b[49m\u001b[43mX\u001b[49m\u001b[43m)\u001b[49m\n",
      "File \u001b[0;32m~/opt/anaconda3/lib/python3.9/site-packages/skopt/space/transformers.py:304\u001b[0m, in \u001b[0;36mPipeline.transform\u001b[0;34m(self, X)\u001b[0m\n\u001b[1;32m    302\u001b[0m \u001b[38;5;28;01mdef\u001b[39;00m \u001b[38;5;21mtransform\u001b[39m(\u001b[38;5;28mself\u001b[39m, X):\n\u001b[1;32m    303\u001b[0m     \u001b[38;5;28;01mfor\u001b[39;00m transformer \u001b[38;5;129;01min\u001b[39;00m \u001b[38;5;28mself\u001b[39m\u001b[38;5;241m.\u001b[39mtransformers:\n\u001b[0;32m--> 304\u001b[0m         X \u001b[38;5;241m=\u001b[39m \u001b[43mtransformer\u001b[49m\u001b[38;5;241;43m.\u001b[39;49m\u001b[43mtransform\u001b[49m\u001b[43m(\u001b[49m\u001b[43mX\u001b[49m\u001b[43m)\u001b[49m\n\u001b[1;32m    305\u001b[0m     \u001b[38;5;28;01mreturn\u001b[39;00m X\n",
      "File \u001b[0;32m~/opt/anaconda3/lib/python3.9/site-packages/skopt/space/transformers.py:250\u001b[0m, in \u001b[0;36mNormalize.transform\u001b[0;34m(self, X)\u001b[0m\n\u001b[1;32m    247\u001b[0m         \u001b[38;5;28;01mraise\u001b[39;00m \u001b[38;5;167;01mValueError\u001b[39;00m(\u001b[38;5;124m\"\u001b[39m\u001b[38;5;124mAll integer values should\u001b[39m\u001b[38;5;124m\"\u001b[39m\n\u001b[1;32m    248\u001b[0m                          \u001b[38;5;124m\"\u001b[39m\u001b[38;5;124mbe less than \u001b[39m\u001b[38;5;132;01m%f\u001b[39;00m\u001b[38;5;124m\"\u001b[39m \u001b[38;5;241m%\u001b[39m \u001b[38;5;28mself\u001b[39m\u001b[38;5;241m.\u001b[39mhigh)\n\u001b[1;32m    249\u001b[0m     \u001b[38;5;28;01mif\u001b[39;00m np\u001b[38;5;241m.\u001b[39many(np\u001b[38;5;241m.\u001b[39mround(X) \u001b[38;5;241m<\u001b[39m \u001b[38;5;28mself\u001b[39m\u001b[38;5;241m.\u001b[39mlow):\n\u001b[0;32m--> 250\u001b[0m         \u001b[38;5;28;01mraise\u001b[39;00m \u001b[38;5;167;01mValueError\u001b[39;00m(\u001b[38;5;124m\"\u001b[39m\u001b[38;5;124mAll integer values should\u001b[39m\u001b[38;5;124m\"\u001b[39m\n\u001b[1;32m    251\u001b[0m                          \u001b[38;5;124m\"\u001b[39m\u001b[38;5;124mbe greater than \u001b[39m\u001b[38;5;132;01m%f\u001b[39;00m\u001b[38;5;124m\"\u001b[39m \u001b[38;5;241m%\u001b[39m \u001b[38;5;28mself\u001b[39m\u001b[38;5;241m.\u001b[39mlow)\n\u001b[1;32m    252\u001b[0m \u001b[38;5;28;01melse\u001b[39;00m:\n\u001b[1;32m    253\u001b[0m     \u001b[38;5;28;01mif\u001b[39;00m np\u001b[38;5;241m.\u001b[39many(X \u001b[38;5;241m>\u001b[39m \u001b[38;5;28mself\u001b[39m\u001b[38;5;241m.\u001b[39mhigh \u001b[38;5;241m+\u001b[39m \u001b[38;5;28mself\u001b[39m\u001b[38;5;241m.\u001b[39m_eps):\n",
      "\u001b[0;31mValueError\u001b[0m: All integer values shouldbe greater than 0.000000"
     ]
    }
   ],
   "source": [
    "# started running at 8pm\n",
    "from skopt import space, plots\n",
    "# Visualize loss with respect to hyperparameters\n",
    "plots.plot_objective(best_params.optimizer_results_[0])\n",
    "plt.show()"
   ]
  },
  {
   "cell_type": "code",
   "execution_count": 32,
   "metadata": {},
   "outputs": [],
   "source": [
    "eval_set = [(X_train, y_train), (X_val, y_val)]"
   ]
  },
  {
   "cell_type": "markdown",
   "metadata": {},
   "source": [
    "#### Default Model "
   ]
  },
  {
   "cell_type": "code",
   "execution_count": 33,
   "metadata": {},
   "outputs": [
    {
     "name": "stderr",
     "output_type": "stream",
     "text": [
      "/Users/ting/opt/anaconda3/lib/python3.9/site-packages/xgboost/sklearn.py:835: UserWarning: `eval_metric` in `fit` method is deprecated for better compatibility with scikit-learn, use `eval_metric` in constructor or`set_params` instead.\n",
      "  warnings.warn(\n",
      "/Users/ting/opt/anaconda3/lib/python3.9/site-packages/xgboost/sklearn.py:835: UserWarning: `early_stopping_rounds` in `fit` method is deprecated for better compatibility with scikit-learn, use `early_stopping_rounds` in constructor or`set_params` instead.\n",
      "  warnings.warn(\n"
     ]
    },
    {
     "name": "stdout",
     "output_type": "stream",
     "text": [
      "[0]\tvalidation_0-error:0.00006\tvalidation_0-logloss:0.43754\tvalidation_0-auc:0.96758\tvalidation_1-error:0.00005\tvalidation_1-logloss:0.43754\tvalidation_1-auc:0.96547\n",
      "[1]\tvalidation_0-error:0.00005\tvalidation_0-logloss:0.29637\tvalidation_0-auc:0.96758\tvalidation_1-error:0.00005\tvalidation_1-logloss:0.29637\tvalidation_1-auc:0.96547\n",
      "[2]\tvalidation_0-error:0.00005\tvalidation_0-logloss:0.20742\tvalidation_0-auc:0.96758\tvalidation_1-error:0.00005\tvalidation_1-logloss:0.20741\tvalidation_1-auc:0.96547\n",
      "[3]\tvalidation_0-error:0.00005\tvalidation_0-logloss:0.14791\tvalidation_0-auc:0.96758\tvalidation_1-error:0.00005\tvalidation_1-logloss:0.14790\tvalidation_1-auc:0.96547\n",
      "[4]\tvalidation_0-error:0.00005\tvalidation_0-logloss:0.10672\tvalidation_0-auc:0.98414\tvalidation_1-error:0.00005\tvalidation_1-logloss:0.10671\tvalidation_1-auc:0.97925\n",
      "[5]\tvalidation_0-error:0.00005\tvalidation_0-logloss:0.07761\tvalidation_0-auc:0.98414\tvalidation_1-error:0.00005\tvalidation_1-logloss:0.07761\tvalidation_1-auc:0.97925\n",
      "[6]\tvalidation_0-error:0.00004\tvalidation_0-logloss:0.05676\tvalidation_0-auc:0.98414\tvalidation_1-error:0.00005\tvalidation_1-logloss:0.05676\tvalidation_1-auc:0.97925\n",
      "[7]\tvalidation_0-error:0.00004\tvalidation_0-logloss:0.04167\tvalidation_0-auc:0.98414\tvalidation_1-error:0.00005\tvalidation_1-logloss:0.04168\tvalidation_1-auc:0.97925\n",
      "[8]\tvalidation_0-error:0.00004\tvalidation_0-logloss:0.03069\tvalidation_0-auc:0.98414\tvalidation_1-error:0.00004\tvalidation_1-logloss:0.03070\tvalidation_1-auc:0.97925\n",
      "[9]\tvalidation_0-error:0.00004\tvalidation_0-logloss:0.02265\tvalidation_0-auc:0.98414\tvalidation_1-error:0.00004\tvalidation_1-logloss:0.02267\tvalidation_1-auc:0.97925\n",
      "[10]\tvalidation_0-error:0.00004\tvalidation_0-logloss:0.01675\tvalidation_0-auc:0.99913\tvalidation_1-error:0.00004\tvalidation_1-logloss:0.01677\tvalidation_1-auc:0.99637\n",
      "[11]\tvalidation_0-error:0.00004\tvalidation_0-logloss:0.01241\tvalidation_0-auc:0.99916\tvalidation_1-error:0.00004\tvalidation_1-logloss:0.01243\tvalidation_1-auc:0.99983\n",
      "[12]\tvalidation_0-error:0.00004\tvalidation_0-logloss:0.00921\tvalidation_0-auc:0.99917\tvalidation_1-error:0.00004\tvalidation_1-logloss:0.00923\tvalidation_1-auc:0.99980\n",
      "[13]\tvalidation_0-error:0.00004\tvalidation_0-logloss:0.00684\tvalidation_0-auc:0.99917\tvalidation_1-error:0.00004\tvalidation_1-logloss:0.00688\tvalidation_1-auc:0.99980\n",
      "[14]\tvalidation_0-error:0.00003\tvalidation_0-logloss:0.00510\tvalidation_0-auc:0.99917\tvalidation_1-error:0.00004\tvalidation_1-logloss:0.00513\tvalidation_1-auc:0.99980\n",
      "[15]\tvalidation_0-error:0.00003\tvalidation_0-logloss:0.00381\tvalidation_0-auc:0.99917\tvalidation_1-error:0.00004\tvalidation_1-logloss:0.00384\tvalidation_1-auc:0.99980\n",
      "[16]\tvalidation_0-error:0.00003\tvalidation_0-logloss:0.00285\tvalidation_0-auc:0.99917\tvalidation_1-error:0.00004\tvalidation_1-logloss:0.00289\tvalidation_1-auc:0.99980\n",
      "[17]\tvalidation_0-error:0.00003\tvalidation_0-logloss:0.00214\tvalidation_0-auc:0.99919\tvalidation_1-error:0.00004\tvalidation_1-logloss:0.00219\tvalidation_1-auc:0.99983\n",
      "[18]\tvalidation_0-error:0.00003\tvalidation_0-logloss:0.00162\tvalidation_0-auc:0.99919\tvalidation_1-error:0.00004\tvalidation_1-logloss:0.00167\tvalidation_1-auc:0.99984\n",
      "[19]\tvalidation_0-error:0.00003\tvalidation_0-logloss:0.00123\tvalidation_0-auc:0.99919\tvalidation_1-error:0.00004\tvalidation_1-logloss:0.00128\tvalidation_1-auc:0.99984\n",
      "[20]\tvalidation_0-error:0.00003\tvalidation_0-logloss:0.00094\tvalidation_0-auc:0.99920\tvalidation_1-error:0.00004\tvalidation_1-logloss:0.00100\tvalidation_1-auc:0.99984\n",
      "[21]\tvalidation_0-error:0.00003\tvalidation_0-logloss:0.00073\tvalidation_0-auc:0.99995\tvalidation_1-error:0.00004\tvalidation_1-logloss:0.00079\tvalidation_1-auc:0.99982\n",
      "[22]\tvalidation_0-error:0.00003\tvalidation_0-logloss:0.00057\tvalidation_0-auc:0.99996\tvalidation_1-error:0.00004\tvalidation_1-logloss:0.00063\tvalidation_1-auc:0.99985\n",
      "[23]\tvalidation_0-error:0.00003\tvalidation_0-logloss:0.00045\tvalidation_0-auc:0.99997\tvalidation_1-error:0.00004\tvalidation_1-logloss:0.00051\tvalidation_1-auc:0.99983\n",
      "[24]\tvalidation_0-error:0.00003\tvalidation_0-logloss:0.00037\tvalidation_0-auc:0.99997\tvalidation_1-error:0.00004\tvalidation_1-logloss:0.00043\tvalidation_1-auc:0.99982\n",
      "[25]\tvalidation_0-error:0.00003\tvalidation_0-logloss:0.00030\tvalidation_0-auc:0.99997\tvalidation_1-error:0.00004\tvalidation_1-logloss:0.00037\tvalidation_1-auc:0.99983\n",
      "[26]\tvalidation_0-error:0.00003\tvalidation_0-logloss:0.00025\tvalidation_0-auc:0.99997\tvalidation_1-error:0.00004\tvalidation_1-logloss:0.00032\tvalidation_1-auc:0.99983\n",
      "[27]\tvalidation_0-error:0.00003\tvalidation_0-logloss:0.00022\tvalidation_0-auc:0.99997\tvalidation_1-error:0.00004\tvalidation_1-logloss:0.00029\tvalidation_1-auc:0.99982\n",
      "[28]\tvalidation_0-error:0.00003\tvalidation_0-logloss:0.00019\tvalidation_0-auc:0.99997\tvalidation_1-error:0.00004\tvalidation_1-logloss:0.00026\tvalidation_1-auc:0.99983\n",
      "[29]\tvalidation_0-error:0.00003\tvalidation_0-logloss:0.00017\tvalidation_0-auc:0.99997\tvalidation_1-error:0.00004\tvalidation_1-logloss:0.00024\tvalidation_1-auc:0.99983\n",
      "[30]\tvalidation_0-error:0.00003\tvalidation_0-logloss:0.00015\tvalidation_0-auc:0.99997\tvalidation_1-error:0.00004\tvalidation_1-logloss:0.00023\tvalidation_1-auc:0.99983\n",
      "[31]\tvalidation_0-error:0.00003\tvalidation_0-logloss:0.00014\tvalidation_0-auc:0.99997\tvalidation_1-error:0.00004\tvalidation_1-logloss:0.00022\tvalidation_1-auc:0.99983\n",
      "[32]\tvalidation_0-error:0.00003\tvalidation_0-logloss:0.00013\tvalidation_0-auc:0.99997\tvalidation_1-error:0.00004\tvalidation_1-logloss:0.00021\tvalidation_1-auc:0.99985\n",
      "[33]\tvalidation_0-error:0.00003\tvalidation_0-logloss:0.00012\tvalidation_0-auc:0.99997\tvalidation_1-error:0.00004\tvalidation_1-logloss:0.00021\tvalidation_1-auc:0.99985\n",
      "[34]\tvalidation_0-error:0.00003\tvalidation_0-logloss:0.00012\tvalidation_0-auc:0.99997\tvalidation_1-error:0.00004\tvalidation_1-logloss:0.00020\tvalidation_1-auc:0.99983\n",
      "[35]\tvalidation_0-error:0.00003\tvalidation_0-logloss:0.00011\tvalidation_0-auc:0.99997\tvalidation_1-error:0.00004\tvalidation_1-logloss:0.00020\tvalidation_1-auc:0.99983\n",
      "[36]\tvalidation_0-error:0.00003\tvalidation_0-logloss:0.00011\tvalidation_0-auc:0.99998\tvalidation_1-error:0.00004\tvalidation_1-logloss:0.00020\tvalidation_1-auc:0.99984\n",
      "[37]\tvalidation_0-error:0.00003\tvalidation_0-logloss:0.00011\tvalidation_0-auc:0.99998\tvalidation_1-error:0.00004\tvalidation_1-logloss:0.00020\tvalidation_1-auc:0.99983\n",
      "[38]\tvalidation_0-error:0.00003\tvalidation_0-logloss:0.00011\tvalidation_0-auc:0.99998\tvalidation_1-error:0.00004\tvalidation_1-logloss:0.00020\tvalidation_1-auc:0.99983\n",
      "[39]\tvalidation_0-error:0.00003\tvalidation_0-logloss:0.00010\tvalidation_0-auc:0.99998\tvalidation_1-error:0.00004\tvalidation_1-logloss:0.00020\tvalidation_1-auc:0.99983\n",
      "[40]\tvalidation_0-error:0.00003\tvalidation_0-logloss:0.00010\tvalidation_0-auc:0.99998\tvalidation_1-error:0.00004\tvalidation_1-logloss:0.00020\tvalidation_1-auc:0.99983\n",
      "[41]\tvalidation_0-error:0.00003\tvalidation_0-logloss:0.00010\tvalidation_0-auc:0.99998\tvalidation_1-error:0.00004\tvalidation_1-logloss:0.00020\tvalidation_1-auc:0.99983\n",
      "[42]\tvalidation_0-error:0.00003\tvalidation_0-logloss:0.00010\tvalidation_0-auc:0.99998\tvalidation_1-error:0.00004\tvalidation_1-logloss:0.00020\tvalidation_1-auc:0.99983\n",
      "[43]\tvalidation_0-error:0.00003\tvalidation_0-logloss:0.00010\tvalidation_0-auc:0.99998\tvalidation_1-error:0.00004\tvalidation_1-logloss:0.00020\tvalidation_1-auc:0.99984\n",
      "[44]\tvalidation_0-error:0.00003\tvalidation_0-logloss:0.00010\tvalidation_0-auc:0.99998\tvalidation_1-error:0.00004\tvalidation_1-logloss:0.00020\tvalidation_1-auc:0.99984\n",
      "[45]\tvalidation_0-error:0.00003\tvalidation_0-logloss:0.00010\tvalidation_0-auc:0.99998\tvalidation_1-error:0.00004\tvalidation_1-logloss:0.00020\tvalidation_1-auc:0.99984\n",
      "[46]\tvalidation_0-error:0.00002\tvalidation_0-logloss:0.00009\tvalidation_0-auc:0.99998\tvalidation_1-error:0.00004\tvalidation_1-logloss:0.00020\tvalidation_1-auc:0.99984\n",
      "[47]\tvalidation_0-error:0.00002\tvalidation_0-logloss:0.00009\tvalidation_0-auc:0.99998\tvalidation_1-error:0.00004\tvalidation_1-logloss:0.00020\tvalidation_1-auc:0.99984\n",
      "[48]\tvalidation_0-error:0.00002\tvalidation_0-logloss:0.00009\tvalidation_0-auc:0.99998\tvalidation_1-error:0.00004\tvalidation_1-logloss:0.00020\tvalidation_1-auc:0.99984\n",
      "[49]\tvalidation_0-error:0.00002\tvalidation_0-logloss:0.00009\tvalidation_0-auc:0.99998\tvalidation_1-error:0.00004\tvalidation_1-logloss:0.00020\tvalidation_1-auc:0.99984\n"
     ]
    },
    {
     "name": "stdout",
     "output_type": "stream",
     "text": [
      "[50]\tvalidation_0-error:0.00002\tvalidation_0-logloss:0.00009\tvalidation_0-auc:0.99998\tvalidation_1-error:0.00005\tvalidation_1-logloss:0.00020\tvalidation_1-auc:0.99984\n",
      "[51]\tvalidation_0-error:0.00002\tvalidation_0-logloss:0.00009\tvalidation_0-auc:0.99998\tvalidation_1-error:0.00005\tvalidation_1-logloss:0.00020\tvalidation_1-auc:0.99984\n",
      "[52]\tvalidation_0-error:0.00002\tvalidation_0-logloss:0.00009\tvalidation_0-auc:0.99998\tvalidation_1-error:0.00005\tvalidation_1-logloss:0.00020\tvalidation_1-auc:0.99985\n",
      "[53]\tvalidation_0-error:0.00002\tvalidation_0-logloss:0.00009\tvalidation_0-auc:0.99998\tvalidation_1-error:0.00005\tvalidation_1-logloss:0.00020\tvalidation_1-auc:0.99984\n",
      "[54]\tvalidation_0-error:0.00002\tvalidation_0-logloss:0.00009\tvalidation_0-auc:0.99998\tvalidation_1-error:0.00005\tvalidation_1-logloss:0.00020\tvalidation_1-auc:0.99984\n",
      "[55]\tvalidation_0-error:0.00002\tvalidation_0-logloss:0.00009\tvalidation_0-auc:0.99998\tvalidation_1-error:0.00005\tvalidation_1-logloss:0.00020\tvalidation_1-auc:0.99984\n",
      "[56]\tvalidation_0-error:0.00002\tvalidation_0-logloss:0.00009\tvalidation_0-auc:0.99998\tvalidation_1-error:0.00004\tvalidation_1-logloss:0.00020\tvalidation_1-auc:0.99984\n",
      "[57]\tvalidation_0-error:0.00002\tvalidation_0-logloss:0.00008\tvalidation_0-auc:0.99998\tvalidation_1-error:0.00004\tvalidation_1-logloss:0.00020\tvalidation_1-auc:0.99984\n",
      "[58]\tvalidation_0-error:0.00002\tvalidation_0-logloss:0.00008\tvalidation_0-auc:0.99998\tvalidation_1-error:0.00004\tvalidation_1-logloss:0.00020\tvalidation_1-auc:0.99984\n",
      "[59]\tvalidation_0-error:0.00002\tvalidation_0-logloss:0.00008\tvalidation_0-auc:0.99998\tvalidation_1-error:0.00004\tvalidation_1-logloss:0.00020\tvalidation_1-auc:0.99984\n",
      "[60]\tvalidation_0-error:0.00002\tvalidation_0-logloss:0.00008\tvalidation_0-auc:0.99998\tvalidation_1-error:0.00004\tvalidation_1-logloss:0.00020\tvalidation_1-auc:0.99984\n",
      "[61]\tvalidation_0-error:0.00002\tvalidation_0-logloss:0.00008\tvalidation_0-auc:0.99998\tvalidation_1-error:0.00004\tvalidation_1-logloss:0.00020\tvalidation_1-auc:0.99984\n",
      "[62]\tvalidation_0-error:0.00002\tvalidation_0-logloss:0.00008\tvalidation_0-auc:0.99998\tvalidation_1-error:0.00004\tvalidation_1-logloss:0.00020\tvalidation_1-auc:0.99984\n",
      "[63]\tvalidation_0-error:0.00002\tvalidation_0-logloss:0.00008\tvalidation_0-auc:0.99998\tvalidation_1-error:0.00004\tvalidation_1-logloss:0.00021\tvalidation_1-auc:0.99983\n",
      "[64]\tvalidation_0-error:0.00002\tvalidation_0-logloss:0.00008\tvalidation_0-auc:0.99998\tvalidation_1-error:0.00004\tvalidation_1-logloss:0.00020\tvalidation_1-auc:0.99984\n",
      "[65]\tvalidation_0-error:0.00002\tvalidation_0-logloss:0.00008\tvalidation_0-auc:0.99998\tvalidation_1-error:0.00004\tvalidation_1-logloss:0.00021\tvalidation_1-auc:0.99984\n",
      "[66]\tvalidation_0-error:0.00002\tvalidation_0-logloss:0.00008\tvalidation_0-auc:0.99998\tvalidation_1-error:0.00004\tvalidation_1-logloss:0.00021\tvalidation_1-auc:0.99984\n",
      "[67]\tvalidation_0-error:0.00002\tvalidation_0-logloss:0.00008\tvalidation_0-auc:0.99998\tvalidation_1-error:0.00004\tvalidation_1-logloss:0.00021\tvalidation_1-auc:0.99984\n",
      "[68]\tvalidation_0-error:0.00002\tvalidation_0-logloss:0.00008\tvalidation_0-auc:0.99998\tvalidation_1-error:0.00004\tvalidation_1-logloss:0.00021\tvalidation_1-auc:0.99984\n",
      "[69]\tvalidation_0-error:0.00002\tvalidation_0-logloss:0.00008\tvalidation_0-auc:0.99998\tvalidation_1-error:0.00004\tvalidation_1-logloss:0.00021\tvalidation_1-auc:0.99984\n",
      "[70]\tvalidation_0-error:0.00002\tvalidation_0-logloss:0.00008\tvalidation_0-auc:0.99998\tvalidation_1-error:0.00004\tvalidation_1-logloss:0.00021\tvalidation_1-auc:0.99984\n",
      "[71]\tvalidation_0-error:0.00002\tvalidation_0-logloss:0.00007\tvalidation_0-auc:0.99998\tvalidation_1-error:0.00004\tvalidation_1-logloss:0.00021\tvalidation_1-auc:0.99984\n"
     ]
    },
    {
     "data": {
      "text/plain": [
       "XGBClassifier(base_score=None, booster=None, callbacks=None,\n",
       "              colsample_bylevel=None, colsample_bynode=None,\n",
       "              colsample_bytree=None, early_stopping_rounds=None,\n",
       "              enable_categorical=False, eval_metric=None, feature_types=None,\n",
       "              gamma=None, gpu_id=None, grow_policy=None, importance_type=None,\n",
       "              interaction_constraints=None, learning_rate=None, max_bin=None,\n",
       "              max_cat_threshold=None, max_cat_to_onehot=None,\n",
       "              max_delta_step=None, max_depth=None, max_leaves=None,\n",
       "              min_child_weight=None, missing=nan, monotone_constraints=None,\n",
       "              n_estimators=100, n_jobs=None, num_parallel_tree=None,\n",
       "              predictor=None, random_state=None, ...)"
      ]
     },
     "execution_count": 33,
     "metadata": {},
     "output_type": "execute_result"
    }
   ],
   "source": [
    "model_d = XGBClassifier() # default \n",
    "model_d.fit(X_train, y_train, early_stopping_rounds = 50, \n",
    "          eval_set = eval_set,\n",
    "          eval_metric = ['error', 'logloss', 'auc'],\n",
    "          verbose = True)"
   ]
  },
  {
   "cell_type": "code",
   "execution_count": 35,
   "metadata": {},
   "outputs": [
    {
     "name": "stdout",
     "output_type": "stream",
     "text": [
      "[[1861867      42]\n",
      " [     61     438]]\n",
      "0.8947906026557712 0.9125 0.8777555110220441\n"
     ]
    }
   ],
   "source": [
    "y_pred = model_d.predict(X_test)\n",
    "from sklearn.metrics import classification_report, confusion_matrix\n",
    "from sklearn import metrics\n",
    "print(confusion_matrix(y_test,y_pred))\n",
    "\n",
    "f1_score = metrics.f1_score(y_true = y_test, y_pred = y_pred)\n",
    "precision_score = metrics.precision_score(y_true = y_test, y_pred = y_pred)\n",
    "recall_score = metrics.recall_score(y_true = y_test, y_pred = y_pred)\n",
    "\n",
    "print(f1_score, precision_score, recall_score)"
   ]
  },
  {
   "cell_type": "markdown",
   "metadata": {},
   "source": [
    "#### real1 "
   ]
  },
  {
   "cell_type": "code",
   "execution_count": 65,
   "metadata": {},
   "outputs": [],
   "source": [
    "# try on dataset real1 40% \n",
    "model1 = XGBClassifier(colsample_bytree =  0.7643458710377254,\n",
    "                      gamma = 5.789784370295127,\n",
    "                      learning_rate = 0.10637763908757622,\n",
    "                      max_depth = 5,\n",
    "                      n_estimators = 316,\n",
    "                      reg_alpha = 34.21270253201294,\n",
    "                      reg_lambda = 64,\n",
    "                      subsample = 0.7042865059246077)"
   ]
  },
  {
   "cell_type": "code",
   "execution_count": 66,
   "metadata": {},
   "outputs": [
    {
     "name": "stderr",
     "output_type": "stream",
     "text": [
      "/Users/ting/opt/anaconda3/lib/python3.9/site-packages/xgboost/sklearn.py:835: UserWarning: `eval_metric` in `fit` method is deprecated for better compatibility with scikit-learn, use `eval_metric` in constructor or`set_params` instead.\n",
      "  warnings.warn(\n",
      "/Users/ting/opt/anaconda3/lib/python3.9/site-packages/xgboost/sklearn.py:835: UserWarning: `early_stopping_rounds` in `fit` method is deprecated for better compatibility with scikit-learn, use `early_stopping_rounds` in constructor or`set_params` instead.\n",
      "  warnings.warn(\n"
     ]
    },
    {
     "name": "stdout",
     "output_type": "stream",
     "text": [
      "[0]\tvalidation_0-error:0.00007\tvalidation_0-logloss:0.59249\tvalidation_0-auc:0.92689\tvalidation_1-error:0.00006\tvalidation_1-logloss:0.59249\tvalidation_1-auc:0.94132\n",
      "[1]\tvalidation_0-error:0.00007\tvalidation_0-logloss:0.51109\tvalidation_0-auc:0.97726\tvalidation_1-error:0.00007\tvalidation_1-logloss:0.51108\tvalidation_1-auc:0.98264\n",
      "[2]\tvalidation_0-error:0.00008\tvalidation_0-logloss:0.44391\tvalidation_0-auc:0.97734\tvalidation_1-error:0.00006\tvalidation_1-logloss:0.44390\tvalidation_1-auc:0.98271\n",
      "[3]\tvalidation_0-error:0.00008\tvalidation_0-logloss:0.38764\tvalidation_0-auc:0.97734\tvalidation_1-error:0.00006\tvalidation_1-logloss:0.38762\tvalidation_1-auc:0.98271\n",
      "[4]\tvalidation_0-error:0.00008\tvalidation_0-logloss:0.33995\tvalidation_0-auc:0.97734\tvalidation_1-error:0.00006\tvalidation_1-logloss:0.33993\tvalidation_1-auc:0.98271\n",
      "[5]\tvalidation_0-error:0.00007\tvalidation_0-logloss:0.29917\tvalidation_0-auc:0.97734\tvalidation_1-error:0.00006\tvalidation_1-logloss:0.29915\tvalidation_1-auc:0.98271\n",
      "[6]\tvalidation_0-error:0.00008\tvalidation_0-logloss:0.26405\tvalidation_0-auc:0.97730\tvalidation_1-error:0.00007\tvalidation_1-logloss:0.26403\tvalidation_1-auc:0.98270\n",
      "[7]\tvalidation_0-error:0.00008\tvalidation_0-logloss:0.23362\tvalidation_0-auc:0.97734\tvalidation_1-error:0.00007\tvalidation_1-logloss:0.23360\tvalidation_1-auc:0.98271\n",
      "[8]\tvalidation_0-error:0.00008\tvalidation_0-logloss:0.20712\tvalidation_0-auc:0.97734\tvalidation_1-error:0.00007\tvalidation_1-logloss:0.20709\tvalidation_1-auc:0.98271\n",
      "[9]\tvalidation_0-error:0.00008\tvalidation_0-logloss:0.18395\tvalidation_0-auc:0.97733\tvalidation_1-error:0.00006\tvalidation_1-logloss:0.18392\tvalidation_1-auc:0.98271\n",
      "[10]\tvalidation_0-error:0.00008\tvalidation_0-logloss:0.16362\tvalidation_0-auc:0.97734\tvalidation_1-error:0.00006\tvalidation_1-logloss:0.16359\tvalidation_1-auc:0.98271\n",
      "[11]\tvalidation_0-error:0.00008\tvalidation_0-logloss:0.14573\tvalidation_0-auc:0.97734\tvalidation_1-error:0.00006\tvalidation_1-logloss:0.14570\tvalidation_1-auc:0.98271\n",
      "[12]\tvalidation_0-error:0.00008\tvalidation_0-logloss:0.12995\tvalidation_0-auc:0.98709\tvalidation_1-error:0.00006\tvalidation_1-logloss:0.12991\tvalidation_1-auc:0.98269\n",
      "[13]\tvalidation_0-error:0.00008\tvalidation_0-logloss:0.11599\tvalidation_0-auc:0.98709\tvalidation_1-error:0.00006\tvalidation_1-logloss:0.11595\tvalidation_1-auc:0.98269\n",
      "[14]\tvalidation_0-error:0.00008\tvalidation_0-logloss:0.10362\tvalidation_0-auc:0.98709\tvalidation_1-error:0.00006\tvalidation_1-logloss:0.10359\tvalidation_1-auc:0.98269\n",
      "[15]\tvalidation_0-error:0.00008\tvalidation_0-logloss:0.09264\tvalidation_0-auc:0.98709\tvalidation_1-error:0.00006\tvalidation_1-logloss:0.09261\tvalidation_1-auc:0.98269\n",
      "[16]\tvalidation_0-error:0.00008\tvalidation_0-logloss:0.08289\tvalidation_0-auc:0.98709\tvalidation_1-error:0.00006\tvalidation_1-logloss:0.08285\tvalidation_1-auc:0.98269\n",
      "[17]\tvalidation_0-error:0.00008\tvalidation_0-logloss:0.07421\tvalidation_0-auc:0.98709\tvalidation_1-error:0.00006\tvalidation_1-logloss:0.07417\tvalidation_1-auc:0.98269\n",
      "[18]\tvalidation_0-error:0.00008\tvalidation_0-logloss:0.06648\tvalidation_0-auc:0.98710\tvalidation_1-error:0.00006\tvalidation_1-logloss:0.06644\tvalidation_1-auc:0.98269\n",
      "[19]\tvalidation_0-error:0.00008\tvalidation_0-logloss:0.05958\tvalidation_0-auc:0.98711\tvalidation_1-error:0.00006\tvalidation_1-logloss:0.05954\tvalidation_1-auc:0.98269\n",
      "[20]\tvalidation_0-error:0.00008\tvalidation_0-logloss:0.05342\tvalidation_0-auc:0.98711\tvalidation_1-error:0.00007\tvalidation_1-logloss:0.05338\tvalidation_1-auc:0.98269\n",
      "[21]\tvalidation_0-error:0.00008\tvalidation_0-logloss:0.04792\tvalidation_0-auc:0.98711\tvalidation_1-error:0.00006\tvalidation_1-logloss:0.04788\tvalidation_1-auc:0.98269\n",
      "[22]\tvalidation_0-error:0.00008\tvalidation_0-logloss:0.04301\tvalidation_0-auc:0.98711\tvalidation_1-error:0.00007\tvalidation_1-logloss:0.04297\tvalidation_1-auc:0.98269\n",
      "[23]\tvalidation_0-error:0.00008\tvalidation_0-logloss:0.03861\tvalidation_0-auc:0.98711\tvalidation_1-error:0.00007\tvalidation_1-logloss:0.03857\tvalidation_1-auc:0.98270\n",
      "[24]\tvalidation_0-error:0.00008\tvalidation_0-logloss:0.03468\tvalidation_0-auc:0.98711\tvalidation_1-error:0.00007\tvalidation_1-logloss:0.03463\tvalidation_1-auc:0.98270\n",
      "[25]\tvalidation_0-error:0.00008\tvalidation_0-logloss:0.03115\tvalidation_0-auc:0.98711\tvalidation_1-error:0.00007\tvalidation_1-logloss:0.03111\tvalidation_1-auc:0.98270\n",
      "[26]\tvalidation_0-error:0.00008\tvalidation_0-logloss:0.02800\tvalidation_0-auc:0.98711\tvalidation_1-error:0.00007\tvalidation_1-logloss:0.02795\tvalidation_1-auc:0.98270\n",
      "[27]\tvalidation_0-error:0.00008\tvalidation_0-logloss:0.02517\tvalidation_0-auc:0.98711\tvalidation_1-error:0.00007\tvalidation_1-logloss:0.02512\tvalidation_1-auc:0.98270\n",
      "[28]\tvalidation_0-error:0.00008\tvalidation_0-logloss:0.02263\tvalidation_0-auc:0.98711\tvalidation_1-error:0.00007\tvalidation_1-logloss:0.02259\tvalidation_1-auc:0.98270\n",
      "[29]\tvalidation_0-error:0.00008\tvalidation_0-logloss:0.02036\tvalidation_0-auc:0.98711\tvalidation_1-error:0.00007\tvalidation_1-logloss:0.02032\tvalidation_1-auc:0.98269\n",
      "[30]\tvalidation_0-error:0.00008\tvalidation_0-logloss:0.01832\tvalidation_0-auc:0.98712\tvalidation_1-error:0.00007\tvalidation_1-logloss:0.01828\tvalidation_1-auc:0.98270\n",
      "[31]\tvalidation_0-error:0.00008\tvalidation_0-logloss:0.01649\tvalidation_0-auc:0.98712\tvalidation_1-error:0.00007\tvalidation_1-logloss:0.01645\tvalidation_1-auc:0.98269\n",
      "[32]\tvalidation_0-error:0.00008\tvalidation_0-logloss:0.01485\tvalidation_0-auc:0.98712\tvalidation_1-error:0.00007\tvalidation_1-logloss:0.01481\tvalidation_1-auc:0.98270\n",
      "[33]\tvalidation_0-error:0.00008\tvalidation_0-logloss:0.01338\tvalidation_0-auc:0.98712\tvalidation_1-error:0.00007\tvalidation_1-logloss:0.01333\tvalidation_1-auc:0.98269\n",
      "[34]\tvalidation_0-error:0.00008\tvalidation_0-logloss:0.01206\tvalidation_0-auc:0.98712\tvalidation_1-error:0.00007\tvalidation_1-logloss:0.01201\tvalidation_1-auc:0.98269\n",
      "[35]\tvalidation_0-error:0.00008\tvalidation_0-logloss:0.01087\tvalidation_0-auc:0.98712\tvalidation_1-error:0.00007\tvalidation_1-logloss:0.01082\tvalidation_1-auc:0.98269\n",
      "[36]\tvalidation_0-error:0.00008\tvalidation_0-logloss:0.00980\tvalidation_0-auc:0.98712\tvalidation_1-error:0.00007\tvalidation_1-logloss:0.00976\tvalidation_1-auc:0.98269\n",
      "[37]\tvalidation_0-error:0.00008\tvalidation_0-logloss:0.00885\tvalidation_0-auc:0.98712\tvalidation_1-error:0.00007\tvalidation_1-logloss:0.00880\tvalidation_1-auc:0.98269\n",
      "[38]\tvalidation_0-error:0.00008\tvalidation_0-logloss:0.00799\tvalidation_0-auc:0.98712\tvalidation_1-error:0.00007\tvalidation_1-logloss:0.00794\tvalidation_1-auc:0.98269\n",
      "[39]\tvalidation_0-error:0.00008\tvalidation_0-logloss:0.00721\tvalidation_0-auc:0.98712\tvalidation_1-error:0.00007\tvalidation_1-logloss:0.00716\tvalidation_1-auc:0.98269\n",
      "[40]\tvalidation_0-error:0.00008\tvalidation_0-logloss:0.00652\tvalidation_0-auc:0.98712\tvalidation_1-error:0.00007\tvalidation_1-logloss:0.00647\tvalidation_1-auc:0.98269\n",
      "[41]\tvalidation_0-error:0.00008\tvalidation_0-logloss:0.00589\tvalidation_0-auc:0.99906\tvalidation_1-error:0.00007\tvalidation_1-logloss:0.00585\tvalidation_1-auc:0.99633\n",
      "[42]\tvalidation_0-error:0.00008\tvalidation_0-logloss:0.00533\tvalidation_0-auc:0.99905\tvalidation_1-error:0.00007\tvalidation_1-logloss:0.00529\tvalidation_1-auc:0.99633\n",
      "[43]\tvalidation_0-error:0.00008\tvalidation_0-logloss:0.00483\tvalidation_0-auc:0.99906\tvalidation_1-error:0.00006\tvalidation_1-logloss:0.00478\tvalidation_1-auc:0.99634\n",
      "[44]\tvalidation_0-error:0.00008\tvalidation_0-logloss:0.00438\tvalidation_0-auc:0.99906\tvalidation_1-error:0.00006\tvalidation_1-logloss:0.00433\tvalidation_1-auc:0.99634\n",
      "[45]\tvalidation_0-error:0.00008\tvalidation_0-logloss:0.00397\tvalidation_0-auc:0.99906\tvalidation_1-error:0.00006\tvalidation_1-logloss:0.00392\tvalidation_1-auc:0.99634\n",
      "[46]\tvalidation_0-error:0.00008\tvalidation_0-logloss:0.00360\tvalidation_0-auc:0.99907\tvalidation_1-error:0.00006\tvalidation_1-logloss:0.00356\tvalidation_1-auc:0.99634\n",
      "[47]\tvalidation_0-error:0.00008\tvalidation_0-logloss:0.00328\tvalidation_0-auc:0.99907\tvalidation_1-error:0.00006\tvalidation_1-logloss:0.00323\tvalidation_1-auc:0.99634\n",
      "[48]\tvalidation_0-error:0.00008\tvalidation_0-logloss:0.00298\tvalidation_0-auc:0.99907\tvalidation_1-error:0.00006\tvalidation_1-logloss:0.00293\tvalidation_1-auc:0.99634\n",
      "[49]\tvalidation_0-error:0.00008\tvalidation_0-logloss:0.00271\tvalidation_0-auc:0.99907\tvalidation_1-error:0.00006\tvalidation_1-logloss:0.00266\tvalidation_1-auc:0.99634\n"
     ]
    },
    {
     "name": "stdout",
     "output_type": "stream",
     "text": [
      "[50]\tvalidation_0-error:0.00008\tvalidation_0-logloss:0.00247\tvalidation_0-auc:0.99907\tvalidation_1-error:0.00006\tvalidation_1-logloss:0.00242\tvalidation_1-auc:0.99634\n",
      "[51]\tvalidation_0-error:0.00008\tvalidation_0-logloss:0.00226\tvalidation_0-auc:0.99907\tvalidation_1-error:0.00006\tvalidation_1-logloss:0.00221\tvalidation_1-auc:0.99634\n",
      "[52]\tvalidation_0-error:0.00008\tvalidation_0-logloss:0.00206\tvalidation_0-auc:0.99907\tvalidation_1-error:0.00006\tvalidation_1-logloss:0.00202\tvalidation_1-auc:0.99634\n",
      "[53]\tvalidation_0-error:0.00008\tvalidation_0-logloss:0.00189\tvalidation_0-auc:0.99908\tvalidation_1-error:0.00006\tvalidation_1-logloss:0.00184\tvalidation_1-auc:0.99635\n",
      "[54]\tvalidation_0-error:0.00008\tvalidation_0-logloss:0.00173\tvalidation_0-auc:0.99907\tvalidation_1-error:0.00006\tvalidation_1-logloss:0.00168\tvalidation_1-auc:0.99632\n",
      "[55]\tvalidation_0-error:0.00008\tvalidation_0-logloss:0.00159\tvalidation_0-auc:0.99908\tvalidation_1-error:0.00006\tvalidation_1-logloss:0.00154\tvalidation_1-auc:0.99632\n",
      "[56]\tvalidation_0-error:0.00008\tvalidation_0-logloss:0.00147\tvalidation_0-auc:0.99908\tvalidation_1-error:0.00006\tvalidation_1-logloss:0.00142\tvalidation_1-auc:0.99630\n",
      "[57]\tvalidation_0-error:0.00008\tvalidation_0-logloss:0.00135\tvalidation_0-auc:0.99909\tvalidation_1-error:0.00006\tvalidation_1-logloss:0.00130\tvalidation_1-auc:0.99966\n",
      "[58]\tvalidation_0-error:0.00008\tvalidation_0-logloss:0.00125\tvalidation_0-auc:0.99983\tvalidation_1-error:0.00006\tvalidation_1-logloss:0.00120\tvalidation_1-auc:0.99966\n",
      "[59]\tvalidation_0-error:0.00008\tvalidation_0-logloss:0.00116\tvalidation_0-auc:0.99983\tvalidation_1-error:0.00006\tvalidation_1-logloss:0.00111\tvalidation_1-auc:0.99977\n",
      "[60]\tvalidation_0-error:0.00008\tvalidation_0-logloss:0.00108\tvalidation_0-auc:0.99982\tvalidation_1-error:0.00006\tvalidation_1-logloss:0.00103\tvalidation_1-auc:0.99977\n",
      "[61]\tvalidation_0-error:0.00008\tvalidation_0-logloss:0.00100\tvalidation_0-auc:0.99982\tvalidation_1-error:0.00006\tvalidation_1-logloss:0.00095\tvalidation_1-auc:0.99977\n",
      "[62]\tvalidation_0-error:0.00008\tvalidation_0-logloss:0.00093\tvalidation_0-auc:0.99982\tvalidation_1-error:0.00006\tvalidation_1-logloss:0.00088\tvalidation_1-auc:0.99977\n",
      "[63]\tvalidation_0-error:0.00008\tvalidation_0-logloss:0.00087\tvalidation_0-auc:0.99982\tvalidation_1-error:0.00006\tvalidation_1-logloss:0.00082\tvalidation_1-auc:0.99977\n",
      "[64]\tvalidation_0-error:0.00008\tvalidation_0-logloss:0.00082\tvalidation_0-auc:0.99981\tvalidation_1-error:0.00006\tvalidation_1-logloss:0.00077\tvalidation_1-auc:0.99973\n",
      "[65]\tvalidation_0-error:0.00008\tvalidation_0-logloss:0.00077\tvalidation_0-auc:0.99980\tvalidation_1-error:0.00006\tvalidation_1-logloss:0.00072\tvalidation_1-auc:0.99977\n",
      "[66]\tvalidation_0-error:0.00008\tvalidation_0-logloss:0.00073\tvalidation_0-auc:0.99980\tvalidation_1-error:0.00006\tvalidation_1-logloss:0.00068\tvalidation_1-auc:0.99977\n",
      "[67]\tvalidation_0-error:0.00008\tvalidation_0-logloss:0.00069\tvalidation_0-auc:0.99981\tvalidation_1-error:0.00006\tvalidation_1-logloss:0.00064\tvalidation_1-auc:0.99978\n",
      "[68]\tvalidation_0-error:0.00008\tvalidation_0-logloss:0.00065\tvalidation_0-auc:0.99982\tvalidation_1-error:0.00006\tvalidation_1-logloss:0.00060\tvalidation_1-auc:0.99977\n",
      "[69]\tvalidation_0-error:0.00008\tvalidation_0-logloss:0.00062\tvalidation_0-auc:0.99981\tvalidation_1-error:0.00006\tvalidation_1-logloss:0.00057\tvalidation_1-auc:0.99978\n",
      "[70]\tvalidation_0-error:0.00008\tvalidation_0-logloss:0.00059\tvalidation_0-auc:0.99980\tvalidation_1-error:0.00006\tvalidation_1-logloss:0.00054\tvalidation_1-auc:0.99978\n",
      "[71]\tvalidation_0-error:0.00008\tvalidation_0-logloss:0.00056\tvalidation_0-auc:0.99981\tvalidation_1-error:0.00006\tvalidation_1-logloss:0.00051\tvalidation_1-auc:0.99978\n",
      "[72]\tvalidation_0-error:0.00007\tvalidation_0-logloss:0.00054\tvalidation_0-auc:0.99981\tvalidation_1-error:0.00006\tvalidation_1-logloss:0.00049\tvalidation_1-auc:0.99978\n",
      "[73]\tvalidation_0-error:0.00007\tvalidation_0-logloss:0.00052\tvalidation_0-auc:0.99982\tvalidation_1-error:0.00006\tvalidation_1-logloss:0.00047\tvalidation_1-auc:0.99978\n",
      "[74]\tvalidation_0-error:0.00007\tvalidation_0-logloss:0.00050\tvalidation_0-auc:0.99982\tvalidation_1-error:0.00006\tvalidation_1-logloss:0.00045\tvalidation_1-auc:0.99978\n",
      "[75]\tvalidation_0-error:0.00007\tvalidation_0-logloss:0.00048\tvalidation_0-auc:0.99982\tvalidation_1-error:0.00006\tvalidation_1-logloss:0.00043\tvalidation_1-auc:0.99978\n",
      "[76]\tvalidation_0-error:0.00007\tvalidation_0-logloss:0.00046\tvalidation_0-auc:0.99981\tvalidation_1-error:0.00006\tvalidation_1-logloss:0.00041\tvalidation_1-auc:0.99978\n",
      "[77]\tvalidation_0-error:0.00007\tvalidation_0-logloss:0.00045\tvalidation_0-auc:0.99981\tvalidation_1-error:0.00006\tvalidation_1-logloss:0.00040\tvalidation_1-auc:0.99980\n",
      "[78]\tvalidation_0-error:0.00007\tvalidation_0-logloss:0.00044\tvalidation_0-auc:0.99981\tvalidation_1-error:0.00006\tvalidation_1-logloss:0.00039\tvalidation_1-auc:0.99980\n",
      "[79]\tvalidation_0-error:0.00007\tvalidation_0-logloss:0.00042\tvalidation_0-auc:0.99982\tvalidation_1-error:0.00006\tvalidation_1-logloss:0.00037\tvalidation_1-auc:0.99980\n",
      "[80]\tvalidation_0-error:0.00007\tvalidation_0-logloss:0.00041\tvalidation_0-auc:0.99982\tvalidation_1-error:0.00006\tvalidation_1-logloss:0.00036\tvalidation_1-auc:0.99979\n",
      "[81]\tvalidation_0-error:0.00007\tvalidation_0-logloss:0.00040\tvalidation_0-auc:0.99982\tvalidation_1-error:0.00006\tvalidation_1-logloss:0.00035\tvalidation_1-auc:0.99979\n",
      "[82]\tvalidation_0-error:0.00007\tvalidation_0-logloss:0.00039\tvalidation_0-auc:0.99982\tvalidation_1-error:0.00006\tvalidation_1-logloss:0.00034\tvalidation_1-auc:0.99979\n",
      "[83]\tvalidation_0-error:0.00007\tvalidation_0-logloss:0.00039\tvalidation_0-auc:0.99982\tvalidation_1-error:0.00006\tvalidation_1-logloss:0.00034\tvalidation_1-auc:0.99979\n",
      "[84]\tvalidation_0-error:0.00007\tvalidation_0-logloss:0.00038\tvalidation_0-auc:0.99982\tvalidation_1-error:0.00006\tvalidation_1-logloss:0.00033\tvalidation_1-auc:0.99979\n",
      "[85]\tvalidation_0-error:0.00007\tvalidation_0-logloss:0.00037\tvalidation_0-auc:0.99982\tvalidation_1-error:0.00006\tvalidation_1-logloss:0.00032\tvalidation_1-auc:0.99979\n",
      "[86]\tvalidation_0-error:0.00007\tvalidation_0-logloss:0.00037\tvalidation_0-auc:0.99981\tvalidation_1-error:0.00006\tvalidation_1-logloss:0.00032\tvalidation_1-auc:0.99979\n",
      "[87]\tvalidation_0-error:0.00007\tvalidation_0-logloss:0.00036\tvalidation_0-auc:0.99982\tvalidation_1-error:0.00006\tvalidation_1-logloss:0.00031\tvalidation_1-auc:0.99979\n",
      "[88]\tvalidation_0-error:0.00007\tvalidation_0-logloss:0.00036\tvalidation_0-auc:0.99981\tvalidation_1-error:0.00006\tvalidation_1-logloss:0.00030\tvalidation_1-auc:0.99979\n",
      "[89]\tvalidation_0-error:0.00007\tvalidation_0-logloss:0.00035\tvalidation_0-auc:0.99981\tvalidation_1-error:0.00006\tvalidation_1-logloss:0.00030\tvalidation_1-auc:0.99980\n",
      "[90]\tvalidation_0-error:0.00007\tvalidation_0-logloss:0.00035\tvalidation_0-auc:0.99981\tvalidation_1-error:0.00006\tvalidation_1-logloss:0.00030\tvalidation_1-auc:0.99980\n",
      "[91]\tvalidation_0-error:0.00007\tvalidation_0-logloss:0.00034\tvalidation_0-auc:0.99981\tvalidation_1-error:0.00006\tvalidation_1-logloss:0.00029\tvalidation_1-auc:0.99980\n",
      "[92]\tvalidation_0-error:0.00007\tvalidation_0-logloss:0.00034\tvalidation_0-auc:0.99980\tvalidation_1-error:0.00006\tvalidation_1-logloss:0.00029\tvalidation_1-auc:0.99980\n",
      "[93]\tvalidation_0-error:0.00007\tvalidation_0-logloss:0.00034\tvalidation_0-auc:0.99980\tvalidation_1-error:0.00006\tvalidation_1-logloss:0.00028\tvalidation_1-auc:0.99980\n",
      "[94]\tvalidation_0-error:0.00007\tvalidation_0-logloss:0.00033\tvalidation_0-auc:0.99981\tvalidation_1-error:0.00006\tvalidation_1-logloss:0.00028\tvalidation_1-auc:0.99980\n",
      "[95]\tvalidation_0-error:0.00007\tvalidation_0-logloss:0.00033\tvalidation_0-auc:0.99980\tvalidation_1-error:0.00006\tvalidation_1-logloss:0.00028\tvalidation_1-auc:0.99980\n",
      "[96]\tvalidation_0-error:0.00007\tvalidation_0-logloss:0.00033\tvalidation_0-auc:0.99981\tvalidation_1-error:0.00006\tvalidation_1-logloss:0.00028\tvalidation_1-auc:0.99980\n",
      "[97]\tvalidation_0-error:0.00007\tvalidation_0-logloss:0.00033\tvalidation_0-auc:0.99981\tvalidation_1-error:0.00006\tvalidation_1-logloss:0.00027\tvalidation_1-auc:0.99980\n",
      "[98]\tvalidation_0-error:0.00007\tvalidation_0-logloss:0.00032\tvalidation_0-auc:0.99981\tvalidation_1-error:0.00006\tvalidation_1-logloss:0.00027\tvalidation_1-auc:0.99980\n",
      "[99]\tvalidation_0-error:0.00007\tvalidation_0-logloss:0.00032\tvalidation_0-auc:0.99980\tvalidation_1-error:0.00006\tvalidation_1-logloss:0.00027\tvalidation_1-auc:0.99980\n"
     ]
    },
    {
     "name": "stdout",
     "output_type": "stream",
     "text": [
      "[100]\tvalidation_0-error:0.00007\tvalidation_0-logloss:0.00032\tvalidation_0-auc:0.99980\tvalidation_1-error:0.00006\tvalidation_1-logloss:0.00027\tvalidation_1-auc:0.99980\n",
      "[101]\tvalidation_0-error:0.00007\tvalidation_0-logloss:0.00032\tvalidation_0-auc:0.99980\tvalidation_1-error:0.00006\tvalidation_1-logloss:0.00026\tvalidation_1-auc:0.99980\n",
      "[102]\tvalidation_0-error:0.00007\tvalidation_0-logloss:0.00032\tvalidation_0-auc:0.99980\tvalidation_1-error:0.00006\tvalidation_1-logloss:0.00026\tvalidation_1-auc:0.99980\n",
      "[103]\tvalidation_0-error:0.00007\tvalidation_0-logloss:0.00031\tvalidation_0-auc:0.99979\tvalidation_1-error:0.00006\tvalidation_1-logloss:0.00026\tvalidation_1-auc:0.99980\n",
      "[104]\tvalidation_0-error:0.00007\tvalidation_0-logloss:0.00031\tvalidation_0-auc:0.99979\tvalidation_1-error:0.00006\tvalidation_1-logloss:0.00026\tvalidation_1-auc:0.99980\n",
      "[105]\tvalidation_0-error:0.00007\tvalidation_0-logloss:0.00031\tvalidation_0-auc:0.99978\tvalidation_1-error:0.00006\tvalidation_1-logloss:0.00026\tvalidation_1-auc:0.99980\n",
      "[106]\tvalidation_0-error:0.00007\tvalidation_0-logloss:0.00031\tvalidation_0-auc:0.99979\tvalidation_1-error:0.00006\tvalidation_1-logloss:0.00026\tvalidation_1-auc:0.99980\n",
      "[107]\tvalidation_0-error:0.00007\tvalidation_0-logloss:0.00031\tvalidation_0-auc:0.99978\tvalidation_1-error:0.00006\tvalidation_1-logloss:0.00025\tvalidation_1-auc:0.99981\n",
      "[108]\tvalidation_0-error:0.00007\tvalidation_0-logloss:0.00031\tvalidation_0-auc:0.99979\tvalidation_1-error:0.00006\tvalidation_1-logloss:0.00025\tvalidation_1-auc:0.99981\n",
      "[109]\tvalidation_0-error:0.00007\tvalidation_0-logloss:0.00031\tvalidation_0-auc:0.99978\tvalidation_1-error:0.00006\tvalidation_1-logloss:0.00025\tvalidation_1-auc:0.99981\n",
      "[110]\tvalidation_0-error:0.00007\tvalidation_0-logloss:0.00030\tvalidation_0-auc:0.99978\tvalidation_1-error:0.00006\tvalidation_1-logloss:0.00025\tvalidation_1-auc:0.99981\n",
      "[111]\tvalidation_0-error:0.00007\tvalidation_0-logloss:0.00030\tvalidation_0-auc:0.99978\tvalidation_1-error:0.00006\tvalidation_1-logloss:0.00025\tvalidation_1-auc:0.99981\n",
      "[112]\tvalidation_0-error:0.00007\tvalidation_0-logloss:0.00030\tvalidation_0-auc:0.99978\tvalidation_1-error:0.00006\tvalidation_1-logloss:0.00025\tvalidation_1-auc:0.99981\n",
      "[113]\tvalidation_0-error:0.00007\tvalidation_0-logloss:0.00030\tvalidation_0-auc:0.99978\tvalidation_1-error:0.00006\tvalidation_1-logloss:0.00025\tvalidation_1-auc:0.99981\n",
      "[114]\tvalidation_0-error:0.00007\tvalidation_0-logloss:0.00030\tvalidation_0-auc:0.99978\tvalidation_1-error:0.00006\tvalidation_1-logloss:0.00025\tvalidation_1-auc:0.99981\n",
      "[115]\tvalidation_0-error:0.00007\tvalidation_0-logloss:0.00030\tvalidation_0-auc:0.99978\tvalidation_1-error:0.00006\tvalidation_1-logloss:0.00025\tvalidation_1-auc:0.99981\n",
      "[116]\tvalidation_0-error:0.00007\tvalidation_0-logloss:0.00030\tvalidation_0-auc:0.99978\tvalidation_1-error:0.00006\tvalidation_1-logloss:0.00025\tvalidation_1-auc:0.99981\n",
      "[117]\tvalidation_0-error:0.00007\tvalidation_0-logloss:0.00030\tvalidation_0-auc:0.99978\tvalidation_1-error:0.00006\tvalidation_1-logloss:0.00025\tvalidation_1-auc:0.99981\n",
      "[118]\tvalidation_0-error:0.00007\tvalidation_0-logloss:0.00030\tvalidation_0-auc:0.99978\tvalidation_1-error:0.00006\tvalidation_1-logloss:0.00025\tvalidation_1-auc:0.99981\n",
      "[119]\tvalidation_0-error:0.00007\tvalidation_0-logloss:0.00030\tvalidation_0-auc:0.99978\tvalidation_1-error:0.00006\tvalidation_1-logloss:0.00025\tvalidation_1-auc:0.99981\n",
      "[120]\tvalidation_0-error:0.00007\tvalidation_0-logloss:0.00030\tvalidation_0-auc:0.99978\tvalidation_1-error:0.00006\tvalidation_1-logloss:0.00025\tvalidation_1-auc:0.99981\n",
      "[121]\tvalidation_0-error:0.00007\tvalidation_0-logloss:0.00030\tvalidation_0-auc:0.99978\tvalidation_1-error:0.00006\tvalidation_1-logloss:0.00025\tvalidation_1-auc:0.99981\n",
      "[122]\tvalidation_0-error:0.00007\tvalidation_0-logloss:0.00030\tvalidation_0-auc:0.99978\tvalidation_1-error:0.00006\tvalidation_1-logloss:0.00025\tvalidation_1-auc:0.99981\n",
      "[123]\tvalidation_0-error:0.00007\tvalidation_0-logloss:0.00030\tvalidation_0-auc:0.99978\tvalidation_1-error:0.00006\tvalidation_1-logloss:0.00025\tvalidation_1-auc:0.99981\n",
      "[124]\tvalidation_0-error:0.00007\tvalidation_0-logloss:0.00030\tvalidation_0-auc:0.99978\tvalidation_1-error:0.00006\tvalidation_1-logloss:0.00025\tvalidation_1-auc:0.99981\n",
      "[125]\tvalidation_0-error:0.00007\tvalidation_0-logloss:0.00030\tvalidation_0-auc:0.99978\tvalidation_1-error:0.00006\tvalidation_1-logloss:0.00025\tvalidation_1-auc:0.99981\n",
      "[126]\tvalidation_0-error:0.00007\tvalidation_0-logloss:0.00030\tvalidation_0-auc:0.99978\tvalidation_1-error:0.00006\tvalidation_1-logloss:0.00024\tvalidation_1-auc:0.99981\n",
      "[127]\tvalidation_0-error:0.00007\tvalidation_0-logloss:0.00030\tvalidation_0-auc:0.99978\tvalidation_1-error:0.00006\tvalidation_1-logloss:0.00024\tvalidation_1-auc:0.99981\n",
      "[128]\tvalidation_0-error:0.00007\tvalidation_0-logloss:0.00030\tvalidation_0-auc:0.99978\tvalidation_1-error:0.00006\tvalidation_1-logloss:0.00024\tvalidation_1-auc:0.99981\n",
      "[129]\tvalidation_0-error:0.00007\tvalidation_0-logloss:0.00030\tvalidation_0-auc:0.99978\tvalidation_1-error:0.00006\tvalidation_1-logloss:0.00024\tvalidation_1-auc:0.99981\n",
      "[130]\tvalidation_0-error:0.00007\tvalidation_0-logloss:0.00030\tvalidation_0-auc:0.99978\tvalidation_1-error:0.00006\tvalidation_1-logloss:0.00024\tvalidation_1-auc:0.99981\n",
      "[131]\tvalidation_0-error:0.00007\tvalidation_0-logloss:0.00030\tvalidation_0-auc:0.99978\tvalidation_1-error:0.00006\tvalidation_1-logloss:0.00024\tvalidation_1-auc:0.99981\n",
      "[132]\tvalidation_0-error:0.00007\tvalidation_0-logloss:0.00030\tvalidation_0-auc:0.99978\tvalidation_1-error:0.00006\tvalidation_1-logloss:0.00024\tvalidation_1-auc:0.99981\n",
      "[133]\tvalidation_0-error:0.00007\tvalidation_0-logloss:0.00030\tvalidation_0-auc:0.99978\tvalidation_1-error:0.00006\tvalidation_1-logloss:0.00024\tvalidation_1-auc:0.99981\n",
      "[134]\tvalidation_0-error:0.00007\tvalidation_0-logloss:0.00030\tvalidation_0-auc:0.99978\tvalidation_1-error:0.00006\tvalidation_1-logloss:0.00024\tvalidation_1-auc:0.99981\n",
      "[135]\tvalidation_0-error:0.00007\tvalidation_0-logloss:0.00030\tvalidation_0-auc:0.99978\tvalidation_1-error:0.00006\tvalidation_1-logloss:0.00024\tvalidation_1-auc:0.99981\n",
      "[136]\tvalidation_0-error:0.00007\tvalidation_0-logloss:0.00030\tvalidation_0-auc:0.99978\tvalidation_1-error:0.00006\tvalidation_1-logloss:0.00024\tvalidation_1-auc:0.99981\n",
      "[137]\tvalidation_0-error:0.00007\tvalidation_0-logloss:0.00030\tvalidation_0-auc:0.99978\tvalidation_1-error:0.00006\tvalidation_1-logloss:0.00024\tvalidation_1-auc:0.99981\n",
      "[138]\tvalidation_0-error:0.00007\tvalidation_0-logloss:0.00030\tvalidation_0-auc:0.99978\tvalidation_1-error:0.00006\tvalidation_1-logloss:0.00024\tvalidation_1-auc:0.99981\n",
      "[139]\tvalidation_0-error:0.00007\tvalidation_0-logloss:0.00030\tvalidation_0-auc:0.99978\tvalidation_1-error:0.00006\tvalidation_1-logloss:0.00024\tvalidation_1-auc:0.99981\n",
      "[140]\tvalidation_0-error:0.00007\tvalidation_0-logloss:0.00030\tvalidation_0-auc:0.99978\tvalidation_1-error:0.00006\tvalidation_1-logloss:0.00024\tvalidation_1-auc:0.99981\n",
      "[141]\tvalidation_0-error:0.00007\tvalidation_0-logloss:0.00030\tvalidation_0-auc:0.99978\tvalidation_1-error:0.00006\tvalidation_1-logloss:0.00024\tvalidation_1-auc:0.99981\n",
      "[142]\tvalidation_0-error:0.00007\tvalidation_0-logloss:0.00030\tvalidation_0-auc:0.99978\tvalidation_1-error:0.00006\tvalidation_1-logloss:0.00024\tvalidation_1-auc:0.99981\n",
      "[143]\tvalidation_0-error:0.00007\tvalidation_0-logloss:0.00030\tvalidation_0-auc:0.99978\tvalidation_1-error:0.00006\tvalidation_1-logloss:0.00024\tvalidation_1-auc:0.99981\n",
      "[144]\tvalidation_0-error:0.00007\tvalidation_0-logloss:0.00030\tvalidation_0-auc:0.99978\tvalidation_1-error:0.00006\tvalidation_1-logloss:0.00024\tvalidation_1-auc:0.99981\n",
      "[145]\tvalidation_0-error:0.00007\tvalidation_0-logloss:0.00030\tvalidation_0-auc:0.99978\tvalidation_1-error:0.00006\tvalidation_1-logloss:0.00024\tvalidation_1-auc:0.99981\n",
      "[146]\tvalidation_0-error:0.00007\tvalidation_0-logloss:0.00030\tvalidation_0-auc:0.99978\tvalidation_1-error:0.00006\tvalidation_1-logloss:0.00024\tvalidation_1-auc:0.99981\n",
      "[147]\tvalidation_0-error:0.00007\tvalidation_0-logloss:0.00030\tvalidation_0-auc:0.99978\tvalidation_1-error:0.00006\tvalidation_1-logloss:0.00024\tvalidation_1-auc:0.99981\n",
      "[148]\tvalidation_0-error:0.00007\tvalidation_0-logloss:0.00030\tvalidation_0-auc:0.99978\tvalidation_1-error:0.00006\tvalidation_1-logloss:0.00024\tvalidation_1-auc:0.99981\n"
     ]
    },
    {
     "name": "stdout",
     "output_type": "stream",
     "text": [
      "[149]\tvalidation_0-error:0.00007\tvalidation_0-logloss:0.00030\tvalidation_0-auc:0.99978\tvalidation_1-error:0.00006\tvalidation_1-logloss:0.00024\tvalidation_1-auc:0.99981\n",
      "[150]\tvalidation_0-error:0.00007\tvalidation_0-logloss:0.00030\tvalidation_0-auc:0.99978\tvalidation_1-error:0.00006\tvalidation_1-logloss:0.00024\tvalidation_1-auc:0.99981\n",
      "[151]\tvalidation_0-error:0.00007\tvalidation_0-logloss:0.00030\tvalidation_0-auc:0.99978\tvalidation_1-error:0.00006\tvalidation_1-logloss:0.00024\tvalidation_1-auc:0.99981\n",
      "[152]\tvalidation_0-error:0.00007\tvalidation_0-logloss:0.00030\tvalidation_0-auc:0.99978\tvalidation_1-error:0.00006\tvalidation_1-logloss:0.00024\tvalidation_1-auc:0.99981\n",
      "[153]\tvalidation_0-error:0.00007\tvalidation_0-logloss:0.00030\tvalidation_0-auc:0.99978\tvalidation_1-error:0.00006\tvalidation_1-logloss:0.00024\tvalidation_1-auc:0.99981\n",
      "[154]\tvalidation_0-error:0.00007\tvalidation_0-logloss:0.00030\tvalidation_0-auc:0.99978\tvalidation_1-error:0.00006\tvalidation_1-logloss:0.00024\tvalidation_1-auc:0.99981\n",
      "[155]\tvalidation_0-error:0.00007\tvalidation_0-logloss:0.00030\tvalidation_0-auc:0.99978\tvalidation_1-error:0.00006\tvalidation_1-logloss:0.00024\tvalidation_1-auc:0.99981\n",
      "[156]\tvalidation_0-error:0.00007\tvalidation_0-logloss:0.00030\tvalidation_0-auc:0.99978\tvalidation_1-error:0.00006\tvalidation_1-logloss:0.00024\tvalidation_1-auc:0.99981\n",
      "[157]\tvalidation_0-error:0.00007\tvalidation_0-logloss:0.00030\tvalidation_0-auc:0.99978\tvalidation_1-error:0.00006\tvalidation_1-logloss:0.00024\tvalidation_1-auc:0.99981\n",
      "[158]\tvalidation_0-error:0.00007\tvalidation_0-logloss:0.00030\tvalidation_0-auc:0.99978\tvalidation_1-error:0.00006\tvalidation_1-logloss:0.00024\tvalidation_1-auc:0.99981\n",
      "[159]\tvalidation_0-error:0.00007\tvalidation_0-logloss:0.00030\tvalidation_0-auc:0.99978\tvalidation_1-error:0.00006\tvalidation_1-logloss:0.00024\tvalidation_1-auc:0.99981\n",
      "[160]\tvalidation_0-error:0.00007\tvalidation_0-logloss:0.00030\tvalidation_0-auc:0.99978\tvalidation_1-error:0.00006\tvalidation_1-logloss:0.00024\tvalidation_1-auc:0.99981\n",
      "[161]\tvalidation_0-error:0.00007\tvalidation_0-logloss:0.00030\tvalidation_0-auc:0.99978\tvalidation_1-error:0.00006\tvalidation_1-logloss:0.00024\tvalidation_1-auc:0.99981\n",
      "[162]\tvalidation_0-error:0.00007\tvalidation_0-logloss:0.00030\tvalidation_0-auc:0.99978\tvalidation_1-error:0.00006\tvalidation_1-logloss:0.00024\tvalidation_1-auc:0.99981\n",
      "[163]\tvalidation_0-error:0.00007\tvalidation_0-logloss:0.00030\tvalidation_0-auc:0.99978\tvalidation_1-error:0.00006\tvalidation_1-logloss:0.00024\tvalidation_1-auc:0.99981\n"
     ]
    },
    {
     "data": {
      "text/plain": [
       "XGBClassifier(base_score=None, booster=None, callbacks=None,\n",
       "              colsample_bylevel=None, colsample_bynode=None,\n",
       "              colsample_bytree=0.7643458710377254, early_stopping_rounds=None,\n",
       "              enable_categorical=False, eval_metric=None, feature_types=None,\n",
       "              gamma=5.789784370295127, gpu_id=None, grow_policy=None,\n",
       "              importance_type=None, interaction_constraints=None,\n",
       "              learning_rate=0.10637763908757622, max_bin=None,\n",
       "              max_cat_threshold=None, max_cat_to_onehot=None,\n",
       "              max_delta_step=None, max_depth=5, max_leaves=None,\n",
       "              min_child_weight=None, missing=nan, monotone_constraints=None,\n",
       "              n_estimators=316, n_jobs=None, num_parallel_tree=None,\n",
       "              predictor=None, random_state=None, ...)"
      ]
     },
     "execution_count": 66,
     "metadata": {},
     "output_type": "execute_result"
    }
   ],
   "source": [
    "# with early stopping\n",
    "model1.fit(X_train, y_train, early_stopping_rounds = 50, \n",
    "          eval_set = eval_set,\n",
    "          eval_metric = ['error', 'logloss', 'auc'],\n",
    "          verbose = True)\n"
   ]
  },
  {
   "cell_type": "code",
   "execution_count": 67,
   "metadata": {},
   "outputs": [
    {
     "name": "stdout",
     "output_type": "stream",
     "text": [
      "[[1861877      32]\n",
      " [     88     411]]\n",
      "0.8726114649681529 0.927765237020316 0.8236472945891784\n"
     ]
    }
   ],
   "source": [
    "# trained 2 hrs\n",
    "y_pred = model1.predict(X_test)\n",
    "from sklearn.metrics import classification_report\n",
    "from sklearn import metrics\n",
    "print(confusion_matrix(y_test,y_pred))\n",
    "\n",
    "f1_score = metrics.f1_score(y_true = y_test, y_pred = y_pred)\n",
    "precision_score = metrics.precision_score(y_true = y_test, y_pred = y_pred)\n",
    "recall_score = metrics.recall_score(y_true = y_test, y_pred = y_pred)\n",
    "\n",
    "print(f1_score, precision_score, recall_score)"
   ]
  },
  {
   "cell_type": "code",
   "execution_count": 38,
   "metadata": {},
   "outputs": [
    {
     "name": "stdout",
     "output_type": "stream",
     "text": [
      "[[1861889      20]\n",
      " [    125     374]]\n",
      "0.8376259798432251 0.949238578680203 0.749498997995992\n"
     ]
    }
   ],
   "source": [
    "# trained 30 minutes\n",
    "y_pred = model1.predict(X_test)\n",
    "from sklearn.metrics import classification_report\n",
    "from sklearn import metrics\n",
    "print(confusion_matrix(y_test,y_pred))\n",
    "\n",
    "f1_score = metrics.f1_score(y_true = y_test, y_pred = y_pred)\n",
    "precision_score = metrics.precision_score(y_true = y_test, y_pred = y_pred)\n",
    "recall_score = metrics.recall_score(y_true = y_test, y_pred = y_pred)\n",
    "\n",
    "print(f1_score, precision_score, recall_score)"
   ]
  },
  {
   "cell_type": "code",
   "execution_count": 68,
   "metadata": {},
   "outputs": [
    {
     "name": "stderr",
     "output_type": "stream",
     "text": [
      "/Users/ting/opt/anaconda3/lib/python3.9/site-packages/xgboost/sklearn.py:835: UserWarning: `eval_metric` in `fit` method is deprecated for better compatibility with scikit-learn, use `eval_metric` in constructor or`set_params` instead.\n",
      "  warnings.warn(\n",
      "/Users/ting/opt/anaconda3/lib/python3.9/site-packages/xgboost/sklearn.py:835: UserWarning: `early_stopping_rounds` in `fit` method is deprecated for better compatibility with scikit-learn, use `early_stopping_rounds` in constructor or`set_params` instead.\n",
      "  warnings.warn(\n"
     ]
    },
    {
     "name": "stdout",
     "output_type": "stream",
     "text": [
      "[0]\tvalidation_0-error:0.00007\tvalidation_0-logloss:0.59244\tvalidation_0-auc:0.92689\tvalidation_1-error:0.00006\tvalidation_1-logloss:0.59244\tvalidation_1-auc:0.94133\n",
      "[1]\tvalidation_0-error:0.00007\tvalidation_0-logloss:0.51101\tvalidation_0-auc:0.96000\tvalidation_1-error:0.00006\tvalidation_1-logloss:0.51100\tvalidation_1-auc:0.96890\n",
      "[2]\tvalidation_0-error:0.00007\tvalidation_0-logloss:0.44381\tvalidation_0-auc:0.98712\tvalidation_1-error:0.00006\tvalidation_1-logloss:0.44380\tvalidation_1-auc:0.98269\n",
      "[3]\tvalidation_0-error:0.00006\tvalidation_0-logloss:0.38751\tvalidation_0-auc:0.98714\tvalidation_1-error:0.00006\tvalidation_1-logloss:0.38750\tvalidation_1-auc:0.98270\n",
      "[4]\tvalidation_0-error:0.00006\tvalidation_0-logloss:0.33981\tvalidation_0-auc:0.98714\tvalidation_1-error:0.00005\tvalidation_1-logloss:0.33980\tvalidation_1-auc:0.98270\n",
      "[5]\tvalidation_0-error:0.00006\tvalidation_0-logloss:0.29903\tvalidation_0-auc:0.98714\tvalidation_1-error:0.00005\tvalidation_1-logloss:0.29902\tvalidation_1-auc:0.98270\n",
      "[6]\tvalidation_0-error:0.00006\tvalidation_0-logloss:0.26390\tvalidation_0-auc:0.98714\tvalidation_1-error:0.00006\tvalidation_1-logloss:0.26388\tvalidation_1-auc:0.98270\n",
      "[7]\tvalidation_0-error:0.00006\tvalidation_0-logloss:0.23346\tvalidation_0-auc:0.98714\tvalidation_1-error:0.00006\tvalidation_1-logloss:0.23345\tvalidation_1-auc:0.98270\n",
      "[8]\tvalidation_0-error:0.00007\tvalidation_0-logloss:0.20696\tvalidation_0-auc:0.98714\tvalidation_1-error:0.00006\tvalidation_1-logloss:0.20694\tvalidation_1-auc:0.98270\n",
      "[9]\tvalidation_0-error:0.00006\tvalidation_0-logloss:0.18379\tvalidation_0-auc:0.98714\tvalidation_1-error:0.00005\tvalidation_1-logloss:0.18377\tvalidation_1-auc:0.98270\n",
      "[10]\tvalidation_0-error:0.00006\tvalidation_0-logloss:0.16345\tvalidation_0-auc:0.98714\tvalidation_1-error:0.00005\tvalidation_1-logloss:0.16344\tvalidation_1-auc:0.98270\n",
      "[11]\tvalidation_0-error:0.00006\tvalidation_0-logloss:0.14556\tvalidation_0-auc:0.98714\tvalidation_1-error:0.00005\tvalidation_1-logloss:0.14554\tvalidation_1-auc:0.98270\n",
      "[12]\tvalidation_0-error:0.00006\tvalidation_0-logloss:0.12977\tvalidation_0-auc:0.98714\tvalidation_1-error:0.00005\tvalidation_1-logloss:0.12975\tvalidation_1-auc:0.98270\n",
      "[13]\tvalidation_0-error:0.00006\tvalidation_0-logloss:0.11581\tvalidation_0-auc:0.98714\tvalidation_1-error:0.00005\tvalidation_1-logloss:0.11579\tvalidation_1-auc:0.98270\n",
      "[14]\tvalidation_0-error:0.00006\tvalidation_0-logloss:0.10344\tvalidation_0-auc:0.98715\tvalidation_1-error:0.00005\tvalidation_1-logloss:0.10342\tvalidation_1-auc:0.98270\n",
      "[15]\tvalidation_0-error:0.00006\tvalidation_0-logloss:0.09247\tvalidation_0-auc:0.98715\tvalidation_1-error:0.00005\tvalidation_1-logloss:0.09245\tvalidation_1-auc:0.98270\n",
      "[16]\tvalidation_0-error:0.00006\tvalidation_0-logloss:0.08271\tvalidation_0-auc:0.99908\tvalidation_1-error:0.00005\tvalidation_1-logloss:0.08269\tvalidation_1-auc:0.99637\n",
      "[17]\tvalidation_0-error:0.00006\tvalidation_0-logloss:0.07403\tvalidation_0-auc:0.99908\tvalidation_1-error:0.00005\tvalidation_1-logloss:0.07401\tvalidation_1-auc:0.99637\n",
      "[18]\tvalidation_0-error:0.00006\tvalidation_0-logloss:0.06630\tvalidation_0-auc:0.99910\tvalidation_1-error:0.00005\tvalidation_1-logloss:0.06628\tvalidation_1-auc:0.99637\n",
      "[19]\tvalidation_0-error:0.00006\tvalidation_0-logloss:0.05940\tvalidation_0-auc:0.99910\tvalidation_1-error:0.00005\tvalidation_1-logloss:0.05938\tvalidation_1-auc:0.99637\n",
      "[20]\tvalidation_0-error:0.00006\tvalidation_0-logloss:0.05325\tvalidation_0-auc:0.99910\tvalidation_1-error:0.00005\tvalidation_1-logloss:0.05322\tvalidation_1-auc:0.99637\n",
      "[21]\tvalidation_0-error:0.00006\tvalidation_0-logloss:0.04775\tvalidation_0-auc:0.99910\tvalidation_1-error:0.00005\tvalidation_1-logloss:0.04772\tvalidation_1-auc:0.99637\n",
      "[22]\tvalidation_0-error:0.00005\tvalidation_0-logloss:0.04283\tvalidation_0-auc:0.99910\tvalidation_1-error:0.00005\tvalidation_1-logloss:0.04281\tvalidation_1-auc:0.99637\n",
      "[23]\tvalidation_0-error:0.00005\tvalidation_0-logloss:0.03843\tvalidation_0-auc:0.99910\tvalidation_1-error:0.00005\tvalidation_1-logloss:0.03841\tvalidation_1-auc:0.99637\n",
      "[24]\tvalidation_0-error:0.00006\tvalidation_0-logloss:0.03450\tvalidation_0-auc:0.99911\tvalidation_1-error:0.00005\tvalidation_1-logloss:0.03448\tvalidation_1-auc:0.99637\n",
      "[25]\tvalidation_0-error:0.00005\tvalidation_0-logloss:0.03097\tvalidation_0-auc:0.99911\tvalidation_1-error:0.00005\tvalidation_1-logloss:0.03096\tvalidation_1-auc:0.99637\n",
      "[26]\tvalidation_0-error:0.00005\tvalidation_0-logloss:0.02782\tvalidation_0-auc:0.99911\tvalidation_1-error:0.00005\tvalidation_1-logloss:0.02780\tvalidation_1-auc:0.99978\n",
      "[27]\tvalidation_0-error:0.00005\tvalidation_0-logloss:0.02499\tvalidation_0-auc:0.99913\tvalidation_1-error:0.00005\tvalidation_1-logloss:0.02497\tvalidation_1-auc:0.99981\n",
      "[28]\tvalidation_0-error:0.00005\tvalidation_0-logloss:0.02245\tvalidation_0-auc:0.99913\tvalidation_1-error:0.00005\tvalidation_1-logloss:0.02244\tvalidation_1-auc:0.99981\n",
      "[29]\tvalidation_0-error:0.00005\tvalidation_0-logloss:0.02018\tvalidation_0-auc:0.99914\tvalidation_1-error:0.00005\tvalidation_1-logloss:0.02016\tvalidation_1-auc:0.99982\n",
      "[30]\tvalidation_0-error:0.00005\tvalidation_0-logloss:0.01814\tvalidation_0-auc:0.99915\tvalidation_1-error:0.00005\tvalidation_1-logloss:0.01813\tvalidation_1-auc:0.99983\n",
      "[31]\tvalidation_0-error:0.00005\tvalidation_0-logloss:0.01631\tvalidation_0-auc:0.99915\tvalidation_1-error:0.00005\tvalidation_1-logloss:0.01630\tvalidation_1-auc:0.99983\n",
      "[32]\tvalidation_0-error:0.00005\tvalidation_0-logloss:0.01467\tvalidation_0-auc:0.99915\tvalidation_1-error:0.00005\tvalidation_1-logloss:0.01466\tvalidation_1-auc:0.99983\n",
      "[33]\tvalidation_0-error:0.00005\tvalidation_0-logloss:0.01320\tvalidation_0-auc:0.99915\tvalidation_1-error:0.00005\tvalidation_1-logloss:0.01318\tvalidation_1-auc:0.99983\n",
      "[34]\tvalidation_0-error:0.00005\tvalidation_0-logloss:0.01187\tvalidation_0-auc:0.99915\tvalidation_1-error:0.00005\tvalidation_1-logloss:0.01186\tvalidation_1-auc:0.99985\n",
      "[35]\tvalidation_0-error:0.00005\tvalidation_0-logloss:0.01069\tvalidation_0-auc:0.99915\tvalidation_1-error:0.00005\tvalidation_1-logloss:0.01067\tvalidation_1-auc:0.99983\n",
      "[36]\tvalidation_0-error:0.00005\tvalidation_0-logloss:0.00962\tvalidation_0-auc:0.99915\tvalidation_1-error:0.00005\tvalidation_1-logloss:0.00961\tvalidation_1-auc:0.99983\n",
      "[37]\tvalidation_0-error:0.00005\tvalidation_0-logloss:0.00866\tvalidation_0-auc:0.99915\tvalidation_1-error:0.00005\tvalidation_1-logloss:0.00865\tvalidation_1-auc:0.99983\n",
      "[38]\tvalidation_0-error:0.00005\tvalidation_0-logloss:0.00780\tvalidation_0-auc:0.99915\tvalidation_1-error:0.00005\tvalidation_1-logloss:0.00779\tvalidation_1-auc:0.99983\n",
      "[39]\tvalidation_0-error:0.00005\tvalidation_0-logloss:0.00703\tvalidation_0-auc:0.99915\tvalidation_1-error:0.00005\tvalidation_1-logloss:0.00702\tvalidation_1-auc:0.99983\n",
      "[40]\tvalidation_0-error:0.00005\tvalidation_0-logloss:0.00634\tvalidation_0-auc:0.99915\tvalidation_1-error:0.00005\tvalidation_1-logloss:0.00632\tvalidation_1-auc:0.99983\n",
      "[41]\tvalidation_0-error:0.00005\tvalidation_0-logloss:0.00571\tvalidation_0-auc:0.99915\tvalidation_1-error:0.00005\tvalidation_1-logloss:0.00570\tvalidation_1-auc:0.99983\n",
      "[42]\tvalidation_0-error:0.00005\tvalidation_0-logloss:0.00515\tvalidation_0-auc:0.99915\tvalidation_1-error:0.00005\tvalidation_1-logloss:0.00514\tvalidation_1-auc:0.99983\n",
      "[43]\tvalidation_0-error:0.00005\tvalidation_0-logloss:0.00465\tvalidation_0-auc:0.99915\tvalidation_1-error:0.00005\tvalidation_1-logloss:0.00464\tvalidation_1-auc:0.99983\n",
      "[44]\tvalidation_0-error:0.00005\tvalidation_0-logloss:0.00420\tvalidation_0-auc:0.99915\tvalidation_1-error:0.00005\tvalidation_1-logloss:0.00419\tvalidation_1-auc:0.99984\n",
      "[45]\tvalidation_0-error:0.00005\tvalidation_0-logloss:0.00379\tvalidation_0-auc:0.99915\tvalidation_1-error:0.00005\tvalidation_1-logloss:0.00378\tvalidation_1-auc:0.99983\n",
      "[46]\tvalidation_0-error:0.00005\tvalidation_0-logloss:0.00343\tvalidation_0-auc:0.99915\tvalidation_1-error:0.00005\tvalidation_1-logloss:0.00342\tvalidation_1-auc:0.99984\n",
      "[47]\tvalidation_0-error:0.00005\tvalidation_0-logloss:0.00310\tvalidation_0-auc:0.99916\tvalidation_1-error:0.00005\tvalidation_1-logloss:0.00309\tvalidation_1-auc:0.99984\n",
      "[48]\tvalidation_0-error:0.00005\tvalidation_0-logloss:0.00280\tvalidation_0-auc:0.99916\tvalidation_1-error:0.00005\tvalidation_1-logloss:0.00279\tvalidation_1-auc:0.99983\n",
      "[49]\tvalidation_0-error:0.00005\tvalidation_0-logloss:0.00254\tvalidation_0-auc:0.99916\tvalidation_1-error:0.00005\tvalidation_1-logloss:0.00253\tvalidation_1-auc:0.99983\n"
     ]
    },
    {
     "name": "stdout",
     "output_type": "stream",
     "text": [
      "[50]\tvalidation_0-error:0.00005\tvalidation_0-logloss:0.00230\tvalidation_0-auc:0.99917\tvalidation_1-error:0.00005\tvalidation_1-logloss:0.00229\tvalidation_1-auc:0.99985\n",
      "[51]\tvalidation_0-error:0.00005\tvalidation_0-logloss:0.00209\tvalidation_0-auc:0.99917\tvalidation_1-error:0.00005\tvalidation_1-logloss:0.00208\tvalidation_1-auc:0.99985\n",
      "[52]\tvalidation_0-error:0.00005\tvalidation_0-logloss:0.00189\tvalidation_0-auc:0.99917\tvalidation_1-error:0.00005\tvalidation_1-logloss:0.00188\tvalidation_1-auc:0.99985\n",
      "[53]\tvalidation_0-error:0.00005\tvalidation_0-logloss:0.00172\tvalidation_0-auc:0.99917\tvalidation_1-error:0.00005\tvalidation_1-logloss:0.00171\tvalidation_1-auc:0.99985\n",
      "[54]\tvalidation_0-error:0.00005\tvalidation_0-logloss:0.00157\tvalidation_0-auc:0.99917\tvalidation_1-error:0.00005\tvalidation_1-logloss:0.00156\tvalidation_1-auc:0.99985\n",
      "[55]\tvalidation_0-error:0.00005\tvalidation_0-logloss:0.00143\tvalidation_0-auc:0.99917\tvalidation_1-error:0.00005\tvalidation_1-logloss:0.00142\tvalidation_1-auc:0.99985\n",
      "[56]\tvalidation_0-error:0.00005\tvalidation_0-logloss:0.00130\tvalidation_0-auc:0.99917\tvalidation_1-error:0.00005\tvalidation_1-logloss:0.00129\tvalidation_1-auc:0.99985\n",
      "[57]\tvalidation_0-error:0.00005\tvalidation_0-logloss:0.00119\tvalidation_0-auc:0.99917\tvalidation_1-error:0.00005\tvalidation_1-logloss:0.00118\tvalidation_1-auc:0.99985\n",
      "[58]\tvalidation_0-error:0.00005\tvalidation_0-logloss:0.00109\tvalidation_0-auc:0.99917\tvalidation_1-error:0.00005\tvalidation_1-logloss:0.00108\tvalidation_1-auc:0.99985\n",
      "[59]\tvalidation_0-error:0.00005\tvalidation_0-logloss:0.00099\tvalidation_0-auc:0.99917\tvalidation_1-error:0.00005\tvalidation_1-logloss:0.00099\tvalidation_1-auc:0.99985\n",
      "[60]\tvalidation_0-error:0.00005\tvalidation_0-logloss:0.00091\tvalidation_0-auc:0.99991\tvalidation_1-error:0.00005\tvalidation_1-logloss:0.00090\tvalidation_1-auc:0.99984\n",
      "[61]\tvalidation_0-error:0.00005\tvalidation_0-logloss:0.00084\tvalidation_0-auc:0.99992\tvalidation_1-error:0.00005\tvalidation_1-logloss:0.00083\tvalidation_1-auc:0.99984\n",
      "[62]\tvalidation_0-error:0.00005\tvalidation_0-logloss:0.00077\tvalidation_0-auc:0.99991\tvalidation_1-error:0.00005\tvalidation_1-logloss:0.00076\tvalidation_1-auc:0.99983\n",
      "[63]\tvalidation_0-error:0.00005\tvalidation_0-logloss:0.00071\tvalidation_0-auc:0.99991\tvalidation_1-error:0.00005\tvalidation_1-logloss:0.00071\tvalidation_1-auc:0.99983\n",
      "[64]\tvalidation_0-error:0.00005\tvalidation_0-logloss:0.00066\tvalidation_0-auc:0.99991\tvalidation_1-error:0.00005\tvalidation_1-logloss:0.00065\tvalidation_1-auc:0.99983\n",
      "[65]\tvalidation_0-error:0.00005\tvalidation_0-logloss:0.00061\tvalidation_0-auc:0.99991\tvalidation_1-error:0.00005\tvalidation_1-logloss:0.00060\tvalidation_1-auc:0.99983\n",
      "[66]\tvalidation_0-error:0.00005\tvalidation_0-logloss:0.00057\tvalidation_0-auc:0.99992\tvalidation_1-error:0.00005\tvalidation_1-logloss:0.00056\tvalidation_1-auc:0.99985\n",
      "[67]\tvalidation_0-error:0.00005\tvalidation_0-logloss:0.00053\tvalidation_0-auc:0.99992\tvalidation_1-error:0.00005\tvalidation_1-logloss:0.00052\tvalidation_1-auc:0.99985\n",
      "[68]\tvalidation_0-error:0.00005\tvalidation_0-logloss:0.00049\tvalidation_0-auc:0.99992\tvalidation_1-error:0.00005\tvalidation_1-logloss:0.00049\tvalidation_1-auc:0.99986\n",
      "[69]\tvalidation_0-error:0.00005\tvalidation_0-logloss:0.00046\tvalidation_0-auc:0.99992\tvalidation_1-error:0.00005\tvalidation_1-logloss:0.00046\tvalidation_1-auc:0.99985\n",
      "[70]\tvalidation_0-error:0.00005\tvalidation_0-logloss:0.00043\tvalidation_0-auc:0.99993\tvalidation_1-error:0.00005\tvalidation_1-logloss:0.00043\tvalidation_1-auc:0.99986\n",
      "[71]\tvalidation_0-error:0.00005\tvalidation_0-logloss:0.00041\tvalidation_0-auc:0.99993\tvalidation_1-error:0.00005\tvalidation_1-logloss:0.00040\tvalidation_1-auc:0.99986\n",
      "[72]\tvalidation_0-error:0.00005\tvalidation_0-logloss:0.00038\tvalidation_0-auc:0.99992\tvalidation_1-error:0.00005\tvalidation_1-logloss:0.00038\tvalidation_1-auc:0.99986\n",
      "[73]\tvalidation_0-error:0.00005\tvalidation_0-logloss:0.00036\tvalidation_0-auc:0.99992\tvalidation_1-error:0.00005\tvalidation_1-logloss:0.00036\tvalidation_1-auc:0.99985\n",
      "[74]\tvalidation_0-error:0.00005\tvalidation_0-logloss:0.00034\tvalidation_0-auc:0.99992\tvalidation_1-error:0.00005\tvalidation_1-logloss:0.00034\tvalidation_1-auc:0.99985\n",
      "[75]\tvalidation_0-error:0.00005\tvalidation_0-logloss:0.00033\tvalidation_0-auc:0.99992\tvalidation_1-error:0.00005\tvalidation_1-logloss:0.00033\tvalidation_1-auc:0.99985\n",
      "[76]\tvalidation_0-error:0.00005\tvalidation_0-logloss:0.00031\tvalidation_0-auc:0.99992\tvalidation_1-error:0.00005\tvalidation_1-logloss:0.00031\tvalidation_1-auc:0.99985\n",
      "[77]\tvalidation_0-error:0.00005\tvalidation_0-logloss:0.00030\tvalidation_0-auc:0.99992\tvalidation_1-error:0.00005\tvalidation_1-logloss:0.00030\tvalidation_1-auc:0.99985\n",
      "[78]\tvalidation_0-error:0.00005\tvalidation_0-logloss:0.00028\tvalidation_0-auc:0.99992\tvalidation_1-error:0.00005\tvalidation_1-logloss:0.00028\tvalidation_1-auc:0.99985\n",
      "[79]\tvalidation_0-error:0.00005\tvalidation_0-logloss:0.00027\tvalidation_0-auc:0.99992\tvalidation_1-error:0.00005\tvalidation_1-logloss:0.00027\tvalidation_1-auc:0.99986\n",
      "[80]\tvalidation_0-error:0.00005\tvalidation_0-logloss:0.00026\tvalidation_0-auc:0.99993\tvalidation_1-error:0.00005\tvalidation_1-logloss:0.00026\tvalidation_1-auc:0.99987\n",
      "[81]\tvalidation_0-error:0.00005\tvalidation_0-logloss:0.00025\tvalidation_0-auc:0.99993\tvalidation_1-error:0.00005\tvalidation_1-logloss:0.00025\tvalidation_1-auc:0.99987\n",
      "[82]\tvalidation_0-error:0.00005\tvalidation_0-logloss:0.00025\tvalidation_0-auc:0.99993\tvalidation_1-error:0.00005\tvalidation_1-logloss:0.00025\tvalidation_1-auc:0.99987\n",
      "[83]\tvalidation_0-error:0.00005\tvalidation_0-logloss:0.00024\tvalidation_0-auc:0.99993\tvalidation_1-error:0.00005\tvalidation_1-logloss:0.00024\tvalidation_1-auc:0.99987\n",
      "[84]\tvalidation_0-error:0.00005\tvalidation_0-logloss:0.00023\tvalidation_0-auc:0.99993\tvalidation_1-error:0.00005\tvalidation_1-logloss:0.00023\tvalidation_1-auc:0.99987\n",
      "[85]\tvalidation_0-error:0.00005\tvalidation_0-logloss:0.00023\tvalidation_0-auc:0.99993\tvalidation_1-error:0.00005\tvalidation_1-logloss:0.00023\tvalidation_1-auc:0.99987\n",
      "[86]\tvalidation_0-error:0.00005\tvalidation_0-logloss:0.00022\tvalidation_0-auc:0.99993\tvalidation_1-error:0.00005\tvalidation_1-logloss:0.00022\tvalidation_1-auc:0.99987\n",
      "[87]\tvalidation_0-error:0.00005\tvalidation_0-logloss:0.00022\tvalidation_0-auc:0.99993\tvalidation_1-error:0.00005\tvalidation_1-logloss:0.00022\tvalidation_1-auc:0.99987\n",
      "[88]\tvalidation_0-error:0.00005\tvalidation_0-logloss:0.00021\tvalidation_0-auc:0.99993\tvalidation_1-error:0.00005\tvalidation_1-logloss:0.00021\tvalidation_1-auc:0.99987\n",
      "[89]\tvalidation_0-error:0.00005\tvalidation_0-logloss:0.00021\tvalidation_0-auc:0.99993\tvalidation_1-error:0.00005\tvalidation_1-logloss:0.00021\tvalidation_1-auc:0.99987\n",
      "[90]\tvalidation_0-error:0.00005\tvalidation_0-logloss:0.00021\tvalidation_0-auc:0.99993\tvalidation_1-error:0.00005\tvalidation_1-logloss:0.00021\tvalidation_1-auc:0.99987\n",
      "[91]\tvalidation_0-error:0.00005\tvalidation_0-logloss:0.00020\tvalidation_0-auc:0.99993\tvalidation_1-error:0.00005\tvalidation_1-logloss:0.00020\tvalidation_1-auc:0.99987\n",
      "[92]\tvalidation_0-error:0.00005\tvalidation_0-logloss:0.00020\tvalidation_0-auc:0.99993\tvalidation_1-error:0.00005\tvalidation_1-logloss:0.00020\tvalidation_1-auc:0.99987\n",
      "[93]\tvalidation_0-error:0.00005\tvalidation_0-logloss:0.00020\tvalidation_0-auc:0.99993\tvalidation_1-error:0.00005\tvalidation_1-logloss:0.00020\tvalidation_1-auc:0.99988\n",
      "[94]\tvalidation_0-error:0.00005\tvalidation_0-logloss:0.00019\tvalidation_0-auc:0.99993\tvalidation_1-error:0.00005\tvalidation_1-logloss:0.00020\tvalidation_1-auc:0.99988\n",
      "[95]\tvalidation_0-error:0.00005\tvalidation_0-logloss:0.00019\tvalidation_0-auc:0.99993\tvalidation_1-error:0.00005\tvalidation_1-logloss:0.00019\tvalidation_1-auc:0.99988\n",
      "[96]\tvalidation_0-error:0.00005\tvalidation_0-logloss:0.00019\tvalidation_0-auc:0.99993\tvalidation_1-error:0.00005\tvalidation_1-logloss:0.00019\tvalidation_1-auc:0.99988\n",
      "[97]\tvalidation_0-error:0.00005\tvalidation_0-logloss:0.00019\tvalidation_0-auc:0.99993\tvalidation_1-error:0.00005\tvalidation_1-logloss:0.00019\tvalidation_1-auc:0.99988\n",
      "[98]\tvalidation_0-error:0.00005\tvalidation_0-logloss:0.00019\tvalidation_0-auc:0.99993\tvalidation_1-error:0.00005\tvalidation_1-logloss:0.00019\tvalidation_1-auc:0.99988\n",
      "[99]\tvalidation_0-error:0.00005\tvalidation_0-logloss:0.00019\tvalidation_0-auc:0.99993\tvalidation_1-error:0.00005\tvalidation_1-logloss:0.00019\tvalidation_1-auc:0.99988\n"
     ]
    },
    {
     "data": {
      "text/plain": [
       "XGBClassifier(base_score=None, booster=None, callbacks=None,\n",
       "              colsample_bylevel=None, colsample_bynode=None,\n",
       "              colsample_bytree=0.7643458710377254, early_stopping_rounds=None,\n",
       "              enable_categorical=False, eval_metric=None, feature_types=None,\n",
       "              gamma=5.789784370295127, gpu_id=None, grow_policy=None,\n",
       "              importance_type=None, interaction_constraints=None,\n",
       "              learning_rate=0.10637763908757622, max_bin=None,\n",
       "              max_cat_threshold=None, max_cat_to_onehot=None,\n",
       "              max_delta_step=None, max_depth=None, max_leaves=None,\n",
       "              min_child_weight=None, missing=nan, monotone_constraints=None,\n",
       "              n_estimators=100, n_jobs=None, num_parallel_tree=None,\n",
       "              predictor=None, random_state=None, ...)"
      ]
     },
     "execution_count": 68,
     "metadata": {},
     "output_type": "execute_result"
    }
   ],
   "source": [
    "# trying out model2 with only candidates checked\n",
    "# try on dataset real1 40% \n",
    "model2 = XGBClassifier(colsample_bytree =  0.7643458710377254,\n",
    "                      gamma = 5.789784370295127,\n",
    "                      learning_rate = 0.10637763908757622)\n",
    "model2.fit(X_train, y_train, early_stopping_rounds = 50, \n",
    "          eval_set = eval_set,\n",
    "          eval_metric = ['error', 'logloss', 'auc'],\n",
    "          verbose = True)"
   ]
  },
  {
   "cell_type": "code",
   "execution_count": 69,
   "metadata": {},
   "outputs": [
    {
     "name": "stdout",
     "output_type": "stream",
     "text": [
      "[[1861871      38]\n",
      " [     61     438]]\n",
      "0.8984615384615384 0.9201680672268907 0.8777555110220441\n"
     ]
    }
   ],
   "source": [
    "y_pred = model2.predict(X_test)\n",
    "from sklearn.metrics import classification_report\n",
    "from sklearn import metrics\n",
    "print(confusion_matrix(y_test,y_pred))\n",
    "\n",
    "f1_score = metrics.f1_score(y_true = y_test, y_pred = y_pred)\n",
    "precision_score = metrics.precision_score(y_true = y_test, y_pred = y_pred)\n",
    "recall_score = metrics.recall_score(y_true = y_test, y_pred = y_pred)\n",
    "\n",
    "print(f1_score, precision_score, recall_score)"
   ]
  },
  {
   "cell_type": "code",
   "execution_count": null,
   "metadata": {},
   "outputs": [],
   "source": []
  },
  {
   "cell_type": "code",
   "execution_count": null,
   "metadata": {},
   "outputs": [],
   "source": []
  },
  {
   "cell_type": "code",
   "execution_count": 39,
   "metadata": {},
   "outputs": [
    {
     "data": {
      "image/png": "[encoded data removed]",
      "text/plain": [
       "<Figure size 432x288 with 1 Axes>"
      ]
     },
     "metadata": {
      "needs_background": "light"
     },
     "output_type": "display_data"
    },
    {
     "data": {
      "image/png": "[encoded data removed]",
      "text/plain": [
       "<Figure size 432x288 with 1 Axes>"
      ]
     },
     "metadata": {
      "needs_background": "light"
     },
     "output_type": "display_data"
    }
   ],
   "source": [
    "# retrieve model performance \n",
    "results = model1.evals_result()\n",
    "epochs = len(results['validation_0']['error'])\n",
    "x_axis = range(0, epochs)\n",
    "from matplotlib import pyplot\n",
    "# plot log loss\n",
    "fig, ax = pyplot.subplots()\n",
    "ax.plot(x_axis, results['validation_0']['logloss'], label='Train')\n",
    "ax.plot(x_axis, results['validation_1']['logloss'], label='Val')\n",
    "ax.legend()\n",
    "pyplot.ylabel('Log Loss')\n",
    "pyplot.title('XGBoost Log Loss')\n",
    "pyplot.show()\n",
    "# plot classification error\n",
    "fig, ax = pyplot.subplots()\n",
    "ax.plot(x_axis, results['validation_0']['error'], label='Train')\n",
    "ax.plot(x_axis, results['validation_1']['error'], label='Val')\n",
    "ax.legend()\n",
    "pyplot.ylabel('Classification Error')\n",
    "pyplot.title('XGBoost Classification Error')\n",
    "pyplot.show()"
   ]
  },
  {
   "cell_type": "code",
   "execution_count": 40,
   "metadata": {},
   "outputs": [
    {
     "data": {
      "image/png": "[encoded data removed]",
      "text/plain": [
       "<Figure size 432x288 with 1 Axes>"
      ]
     },
     "metadata": {
      "needs_background": "light"
     },
     "output_type": "display_data"
    },
    {
     "data": {
      "image/png": "[encoded data removed]",
      "text/plain": [
       "<Figure size 432x288 with 1 Axes>"
      ]
     },
     "metadata": {
      "needs_background": "light"
     },
     "output_type": "display_data"
    }
   ],
   "source": [
    "# retrieve model performance \n",
    "results = model_d.evals_result()\n",
    "epochs = len(results['validation_0']['error'])\n",
    "x_axis = range(0, epochs)\n",
    "from matplotlib import pyplot\n",
    "# plot log loss\n",
    "fig, ax = pyplot.subplots()\n",
    "ax.plot(x_axis, results['validation_0']['logloss'], label='Train')\n",
    "ax.plot(x_axis, results['validation_1']['logloss'], label='Val')\n",
    "ax.legend()\n",
    "pyplot.ylabel('Log Loss')\n",
    "pyplot.title('XGBoost Log Loss')\n",
    "pyplot.show()\n",
    "# plot classification error\n",
    "fig, ax = pyplot.subplots()\n",
    "ax.plot(x_axis, results['validation_0']['error'], label='Train')\n",
    "ax.plot(x_axis, results['validation_1']['error'], label='Val')\n",
    "ax.legend()\n",
    "pyplot.ylabel('Classification Error')\n",
    "pyplot.title('XGBoost Classification Error')\n",
    "pyplot.show()"
   ]
  },
  {
   "cell_type": "code",
   "execution_count": 41,
   "metadata": {},
   "outputs": [
    {
     "data": {
      "image/png": "[encoded data removed]",
      "text/plain": [
       "<Figure size 792x360 with 2 Axes>"
      ]
     },
     "metadata": {
      "needs_background": "light"
     },
     "output_type": "display_data"
    }
   ],
   "source": [
    "# model evaluation \n",
    "from sklearn.metrics import DetCurveDisplay, RocCurveDisplay\n",
    "fig, [ax_roc, ax_det] = plt.subplots(1, 2, figsize=(11, 5))\n",
    "RocCurveDisplay.from_estimator(model1, X_test, y_test, ax=ax_roc, name='opt')\n",
    "DetCurveDisplay.from_estimator(model1, X_test, y_test, ax=ax_det, name='opt')\n",
    "\n",
    "RocCurveDisplay.from_estimator(model_d, X_test, y_test, ax=ax_roc, name=\"default\")\n",
    "DetCurveDisplay.from_estimator(model_d, X_test, y_test, ax=ax_det, name=\"default\")\n",
    "\n",
    "ax_roc.set_title(\"Receiver Operating Characteristic (ROC) curves\")\n",
    "ax_det.set_title(\"Detection Error Tradeoff (DET) curves\")\n",
    "\n",
    "ax_roc.grid(linestyle=\"--\")\n",
    "ax_det.grid(linestyle=\"--\")\n",
    "\n",
    "plt.legend()\n",
    "plt.show()"
   ]
  },
  {
   "cell_type": "markdown",
   "metadata": {},
   "source": [
    "### test on real2"
   ]
  },
  {
   "cell_type": "code",
   "execution_count": 42,
   "metadata": {},
   "outputs": [],
   "source": [
    "# test on real2Part1\n",
    "real2_varscan_sub = allel.vcf_to_dataframe(\"real2_part1/real2_varscan_chr1to5.vcf.gz\", fields = final_target_features['varscan'])\n",
    "real2_freebayes_sub = allel.vcf_to_dataframe(\"real2_part1/real2_freebayes_chr1to5.vcf.gz\", fields = final_target_features['freebayes'])\n",
    "real2_mutect2_sub = allel.vcf_to_dataframe(\"real2_part1/real2_mutect_chr1to5.vcf.gz\", fields =final_target_features['mutect2'])\n",
    "real2_vardict_sub = allel.vcf_to_dataframe(\"real2_part1/real2_vardict_chr1to5.vcf.gz\", fields = final_target_features['vardict'])"
   ]
  },
  {
   "cell_type": "code",
   "execution_count": 43,
   "metadata": {},
   "outputs": [],
   "source": [
    "# subsetting for snp = True \n",
    "varscan_sub2 = real2_varscan_sub[real2_varscan_sub.is_snp == True]\n",
    "freebayes_sub2 = real2_freebayes_sub[real2_freebayes_sub.is_snp == True]\n",
    "mutect2_sub2 = real2_mutect2_sub[real2_mutect2_sub.is_snp == True]\n",
    "vardict_sub2 = real2_vardict_sub[real2_vardict_sub.is_snp == True]"
   ]
  },
  {
   "cell_type": "code",
   "execution_count": 44,
   "metadata": {},
   "outputs": [
    {
     "data": {
      "text/plain": [
       "[      SOMATIC_vs        ID_vs    SPV_vs  FILTER_PASS_vs CHROM        POS  \\\n",
       " 4          False  rs145599635  0.572130           False     1      10234   \n",
       " 5          False  rs148908337  0.431760           False     1      10248   \n",
       " 6          False  rs199706086  0.055549           False     1      10250   \n",
       " 8          False  rs145427775  0.627830           False     1      10291   \n",
       " 9          False  rs112750067  0.963350           False     1      10327   \n",
       " ...          ...          ...       ...             ...   ...        ...   \n",
       " 2911       False   rs11491460  0.111190           False     5  180902947   \n",
       " 2913       False            .  0.514320           False     5  180904061   \n",
       " 2915       False  rs375809536  0.462720           False     5  180904931   \n",
       " 2916       False            .  0.185930           False     5  180905050   \n",
       " 2917       False            .  0.165450           False     5  180905165   \n",
       " \n",
       "       is_snp_vs  \n",
       " 4          True  \n",
       " 5          True  \n",
       " 6          True  \n",
       " 8          True  \n",
       " 9          True  \n",
       " ...         ...  \n",
       " 2911       True  \n",
       " 2913       True  \n",
       " 2915       True  \n",
       " 2916       True  \n",
       " 2917       True  \n",
       " \n",
       " [1509846 rows x 7 columns],\n",
       "        SOMATIC_fb      QUAL_fb        ID_fb  QR_fb  DPB_fb CHROM        POS  \\\n",
       " 3           False   120.500000            .     -1     NaN     1      10623   \n",
       " 5            True    29.200001            .   1034    61.0     1      10700   \n",
       " 6           False    44.900002            .     63     8.0     1      11002   \n",
       " 7           False    29.200001  rs575272151     81     6.0     1      11008   \n",
       " 8           False    24.900000            .     77     7.0     1      11012   \n",
       " ...           ...          ...          ...    ...     ...   ...        ...   \n",
       " 58565       False  2588.000000    rs7448375  18819   794.0     5  180900261   \n",
       " 58566       False   120.800003  rs377239182  20753   695.0     5  180900478   \n",
       " 58567       False   944.799988    rs9703057  26186   850.0     5  180900544   \n",
       " 58568       False   576.500000    rs6601182  19226   674.0     5  180900823   \n",
       " 58569       False    68.400002   rs11510503   1247    42.0     5  180902027   \n",
       " \n",
       "        is_snp_fb  \n",
       " 3           True  \n",
       " 5           True  \n",
       " 6           True  \n",
       " 7           True  \n",
       " 8           True  \n",
       " ...          ...  \n",
       " 58565       True  \n",
       " 58566       True  \n",
       " 58567       True  \n",
       " 58568       True  \n",
       " 58569       True  \n",
       " \n",
       " [1464142 rows x 8 columns],\n",
       "        FILTER_PASS_m2        ID_m2 ECNT_m2      MQ_m2  FILTER_t_lod_fstar_m2  \\\n",
       " 0               False   rs78890234       2  37.000000                   True   \n",
       " 1               False  rs540538026       2  35.830002                  False   \n",
       " 2               False    rs1045833       2  35.680000                  False   \n",
       " 3               False   rs28503599       2  34.810001                  False   \n",
       " 4                True            .       1  32.240002                  False   \n",
       " ...               ...          ...     ...        ...                    ...   \n",
       " 55738           False  rs184323646       2  44.849998                   True   \n",
       " 55739           False            .       1  36.490002                   True   \n",
       " 55741            True  rs796913591       1  41.500000                  False   \n",
       " 55742            True   rs11744237       1  47.450001                  False   \n",
       " 55743            True   rs11491460       1  41.000000                  False   \n",
       " \n",
       "       HCNT_m2  DP_m2 CHROM        POS  is_snp_m2  \n",
       " 0           3    408     1      13079       True  \n",
       " 1           2    307     1      13110       True  \n",
       " 2           4    315     1      14542       True  \n",
       " 3           4    293     1      14574       True  \n",
       " 4           4    445     1      14815       True  \n",
       " ...       ...    ...   ...        ...        ...  \n",
       " 55738       2    147     5  180728294       True  \n",
       " 55739       2    225     5  180733023       True  \n",
       " 55741       1    334     5  180890210       True  \n",
       " 55742      12   1110     5  180900689       True  \n",
       " 55743       1    390     5  180902947       True  \n",
       " \n",
       " [49411 rows x 10 columns],\n",
       "        FILTER_PASS_vd      STATUS_vd        ID_vd   SSF_vd  VD_vd  SOMATIC_vd  \\\n",
       " 2               False       Germline  rs199706086  0.51747     24       False   \n",
       " 3                True  StrongSomatic  rs145427775  0.00000     55        True   \n",
       " 7               False       Germline            .  0.38950     10       False   \n",
       " 9               False  StrongSomatic            .  0.15385      4        True   \n",
       " 10              False       Germline   rs62635284  0.19042     26       False   \n",
       " ...               ...            ...          ...      ...    ...         ...   \n",
       " 58796           False      LikelyLOH  rs796699002  0.03934      4       False   \n",
       " 58797           False      LikelyLOH            .  0.03635      4       False   \n",
       " 58798           False      LikelyLOH            .  0.06107      5       False   \n",
       " 58801           False  LikelySomatic            .  0.06222      3        True   \n",
       " 58802           False  LikelySomatic            .  0.04836      3        True   \n",
       " \n",
       "       CHROM        POS  is_snp_vd  \n",
       " 2         1      10250       True  \n",
       " 3         1      10291       True  \n",
       " 7         1      10623       True  \n",
       " 9         1      10649       True  \n",
       " 10        1      12783       True  \n",
       " ...     ...        ...        ...  \n",
       " 58796     5  180903892       True  \n",
       " 58797     5  180903894       True  \n",
       " 58798     5  180903896       True  \n",
       " 58801     5  180905089       True  \n",
       " 58802     5  180905116       True  \n",
       " \n",
       " [1463217 rows x 9 columns]]"
      ]
     },
     "execution_count": 44,
     "metadata": {},
     "output_type": "execute_result"
    }
   ],
   "source": [
    "lst_dfs = [varscan_sub2,freebayes_sub2,mutect2_sub2,vardict_sub2]\n",
    "suffix = ['vs','fb','m2','vd']\n",
    "keep_same = {'CHROM', 'POS'}\n",
    "i =0 \n",
    "for df in lst_dfs:\n",
    "    df.columns = ['{}{}'.format(c, '' if c in keep_same else '_'+suffix[i]) for c in df.columns]\n",
    "    i += 1\n",
    "lst_dfs"
   ]
  },
  {
   "cell_type": "code",
   "execution_count": 45,
   "metadata": {},
   "outputs": [],
   "source": [
    "merged_df2 = reduce(lambda left, right: pd.merge(left, right,on =['CHROM', 'POS'],\n",
    "                                            how = 'outer', suffixes = ('', '')),lst_dfs)\n",
    "merged_df2 = merged_df2.drop(['is_snp_vd','is_snp_fb','is_snp_m2','is_snp_vs'], axis=1)"
   ]
  },
  {
   "cell_type": "code",
   "execution_count": 46,
   "metadata": {},
   "outputs": [
    {
     "name": "stdout",
     "output_type": "stream",
     "text": [
      "[True]\n"
     ]
    }
   ],
   "source": [
    "##  function to get y labels\n",
    "truth_labels = pd.read_csv(\"real2_part1/real2_truth_chr1to5.bed\", sep = \"\\t\", names = ['Chromo', 'start', 'end'])\n",
    "print(list(set(truth_labels.start == truth_labels.end) )) # the start and end position are the same \n",
    "truth_labels = truth_labels[['Chromo', 'start']]\n",
    "truth_labels['Chromo'] = truth_labels['Chromo'].astype(str)\n",
    "truth_labels['truth'] = 1\n",
    "sub_truth= truth_labels.rename(columns = {'Chromo':'CHROM', 'start':'POS'})"
   ]
  },
  {
   "cell_type": "code",
   "execution_count": 47,
   "metadata": {},
   "outputs": [],
   "source": [
    "# combine dataset \n",
    "combined2 = merged_df2.merge(sub_truth, on=['CHROM','POS'], how = 'left' )\n",
    "combined2['truth'].fillna(0, inplace = True)"
   ]
  },
  {
   "cell_type": "code",
   "execution_count": 51,
   "metadata": {},
   "outputs": [],
   "source": [
    "X = combined2[combined2.columns[~combined2.columns.isin(['truth','POS','CHROM'])]]\n",
    "\n",
    "y = combined2['truth'] "
   ]
  },
  {
   "cell_type": "code",
   "execution_count": 53,
   "metadata": {},
   "outputs": [],
   "source": [
    "# ordinal encoding for REF and ALT\n",
    "from sklearn.preprocessing import OrdinalEncoder\n",
    "enc = OrdinalEncoder()\n",
    "enc.fit(X)\n",
    "new_X2 = enc.transform(X)\n",
    "newn_X2 = pd.DataFrame(new_X2, columns = X.columns)"
   ]
  },
  {
   "cell_type": "code",
   "execution_count": 73,
   "metadata": {},
   "outputs": [
    {
     "name": "stdout",
     "output_type": "stream",
     "text": [
      "[[1654743       1]\n",
      " [    162     300]]\n",
      "0.7863695937090434 0.9966777408637874 0.6493506493506493\n"
     ]
    }
   ],
   "source": [
    "# model 2 (only with the checked candidates)\n",
    "y_pred_2 = model2.predict(newn_X2)\n",
    "from sklearn.metrics import classification_report, confusion_matrix\n",
    "from sklearn import metrics\n",
    "print(confusion_matrix(y,y_pred_2))\n",
    "\n",
    "f1_score = metrics.f1_score(y_true = y, y_pred = y_pred_2)\n",
    "precision_score = metrics.precision_score(y_true = y, y_pred = y_pred_2)\n",
    "recall_score = metrics.recall_score(y_true = y, y_pred = y_pred_2)\n",
    "\n",
    "print(f1_score, precision_score, recall_score)"
   ]
  },
  {
   "cell_type": "code",
   "execution_count": 61,
   "metadata": {},
   "outputs": [
    {
     "name": "stdout",
     "output_type": "stream",
     "text": [
      "[[1654741       3]\n",
      " [    143     319]]\n",
      "0.8137755102040817 0.9906832298136646 0.6904761904761905\n"
     ]
    }
   ],
   "source": [
    "# default model \n",
    "y_pred_2 = model_d.predict(newn_X2)\n",
    "print(confusion_matrix(y,y_pred_2))\n",
    "\n",
    "f1_score = metrics.f1_score(y_true = y, y_pred = y_pred_2)\n",
    "precision_score = metrics.precision_score(y_true = y, y_pred = y_pred_2)\n",
    "recall_score = metrics.recall_score(y_true = y, y_pred = y_pred_2)\n",
    "\n",
    "print(f1_score, precision_score, recall_score)"
   ]
  },
  {
   "cell_type": "code",
   "execution_count": 56,
   "metadata": {},
   "outputs": [
    {
     "name": "stdout",
     "output_type": "stream",
     "text": [
      "[[1654744       0]\n",
      " [    462       0]]\n"
     ]
    },
    {
     "name": "stderr",
     "output_type": "stream",
     "text": [
      "/Users/ting/opt/anaconda3/lib/python3.9/site-packages/sklearn/metrics/_classification.py:1318: UndefinedMetricWarning: Precision is ill-defined and being set to 0.0 due to no predicted samples. Use `zero_division` parameter to control this behavior.\n",
      "  _warn_prf(average, modifier, msg_start, len(result))\n"
     ]
    },
    {
     "name": "stdout",
     "output_type": "stream",
     "text": [
      "0.0 0.0 0.0\n"
     ]
    }
   ],
   "source": [
    "# opt model (30 mins training)\n",
    "y_pred_2 = model1.predict(newn_X2)\n",
    "# predicted all zeros for some reason wtf\n",
    "print(confusion_matrix(y,y_pred_2))\n",
    "\n",
    "f1_score = metrics.f1_score(y_true = y, y_pred = y_pred_2)\n",
    "precision_score = metrics.precision_score(y_true = y, y_pred = y_pred_2)\n",
    "recall_score = metrics.recall_score(y_true = y, y_pred = y_pred_2)\n",
    "\n",
    "print(f1_score, precision_score, recall_score)"
   ]
  },
  {
   "cell_type": "code",
   "execution_count": null,
   "metadata": {},
   "outputs": [],
   "source": []
  },
  {
   "cell_type": "code",
   "execution_count": null,
   "metadata": {},
   "outputs": [],
   "source": [
    "# trying early stopping when after hyperparameter tuning "
   ]
  },
  {
   "cell_type": "code",
   "execution_count": null,
   "metadata": {},
   "outputs": [],
   "source": [
    "# trying with early stopping \n",
    "# Wrapping everything up into the Bayesian optimizer\n",
    "from time import time\n",
    "from sklearn.model_selection import train_test_split\n",
    "\n",
    "# Further split training dataset into Train and Validation \n",
    "X_train, X_val, y_train, y_val = train_test_split(X_train, y_train, test_size = 0.20, random_state = 0)\n",
    "\n",
    "\n",
    "fit_params = {\n",
    "    'early_stopping_rounds':10, \n",
    "    'eval_metric':'accuracy', #change?\n",
    "    'eval_set':[(X_val, y_val)]\n",
    "}\n",
    "\n",
    "baye_opt = BayesSearchCV(\n",
    "    estimator = clf,\n",
    "    search_spaces = search_spaces,\n",
    "    scoring = 'roc_auc',\n",
    "    cv = cv_strategy,\n",
    "    n_iter=120,                                       # max number of trials\n",
    "    n_points=1,                                       # number of hyperparameter sets evaluated at the same time\n",
    "    n_jobs=-1,                                         # number of jobs\n",
    "    #iid=False,                                        # if not iid it optimizes on the cv score\n",
    "    # return_train_score=False,\n",
    "    refit=False,\n",
    "    optimizer_kwargs={'base_estimator': 'GP'},  # optmizer parameters: we use Gaussian Process (GP)\n",
    "    fit_params = fit_params,\n",
    "    random_state=0) \n",
    "\n"
   ]
  },
  {
   "cell_type": "code",
   "execution_count": null,
   "metadata": {},
   "outputs": [],
   "source": [
    "model = XGBClassifier(colsample_bytree =  0.629185830986374,\n",
    "                      gamma = 97.89036584265726,\n",
    "                      learning_rate = 0.9093539899332748,\n",
    "                      max_depth = 13,\n",
    "                      n_estimators = 336,\n",
    "                      reg_alpha = 16.27824954246273,\n",
    "                      reg_lambda = 77,\n",
    "                      subsample = 0.6208182237087633)"
   ]
  },
  {
   "cell_type": "code",
   "execution_count": null,
   "metadata": {},
   "outputs": [],
   "source": [
    "X_train, X_val, y_train, y_val = train_test_split(X_train, y_train, test_size = 0.20, random_state = 0)"
   ]
  },
  {
   "cell_type": "code",
   "execution_count": null,
   "metadata": {},
   "outputs": [],
   "source": [
    "# Evaluate XGBoost model with Learning Curves \n",
    "eval_set = [(X_train, y_train), (X_val, y_val)]\n",
    "\n",
    "model.fit(X_train, y_train, early_stopping_rounds = 20,\n",
    "          eval_set= eval_set, # [(X_val, y_val)],\n",
    "          eval_metric = ['error', 'log']\n",
    "          \n",
    "         verbose = True)"
   ]
  },
  {
   "cell_type": "code",
   "execution_count": null,
   "metadata": {},
   "outputs": [],
   "source": [
    "# retrieve performance metrics\n",
    "results = model.evals_result()\n",
    "epochs = len(results['validation_0']['auc'])\n",
    "x_axis = range(0, epochs)"
   ]
  },
  {
   "cell_type": "code",
   "execution_count": null,
   "metadata": {},
   "outputs": [],
   "source": [
    "# plot log loss\n",
    "from matplotlib import pyplot\n",
    "fig.ax = pyplot.subplots()\n",
    "ax.plot(x_axis, results['validation_0']['error'], label='Train')\n",
    "ax.plot(x_axis, results['validation_1']['error'], label='Test')\n",
    "ax.legend()\n",
    "pyplot.ylabel('Classification Error')\n",
    "pyplot.title('XGBoost Classification Error')\n",
    "pyplot.show()"
   ]
  },
  {
   "cell_type": "code",
   "execution_count": null,
   "metadata": {},
   "outputs": [],
   "source": []
  },
  {
   "cell_type": "code",
   "execution_count": null,
   "metadata": {},
   "outputs": [],
   "source": [
    "model.fit(X_train, y_train)\n",
    "y_pred = model.predict(X_test)\n",
    "from sklearn.metrics import classification_report\n",
    "from sklearn import metrics\n",
    "print(confusion_matrix(y_test,y_pred))\n",
    "\n",
    "f1_score = metrics.f1_score(y_true = y_test, y_pred = y_pred)\n",
    "precision_score = metrics.precision_score(y_true = y_test, y_pred = y_pred)\n",
    "recall_score = metrics.recall_score(y_true = y_test, y_pred = y_pred)\n",
    "\n",
    "f1_score"
   ]
  },
  {
   "cell_type": "code",
   "execution_count": null,
   "metadata": {},
   "outputs": [],
   "source": []
  },
  {
   "cell_type": "code",
   "execution_count": null,
   "metadata": {},
   "outputs": [],
   "source": [
    "XGBoost_classifier took 2710.30 seconds,  candidates checked: 1, best CV score: 0.999 ± 0.000\n",
    "Best parameters:\n",
    "OrderedDict([('colsample_bytree', 0.7654820824760737),\n",
    "             ('gamma', 67.60795088801528),\n",
    "             ('learning_rate', 0.6264826551031426),\n",
    "             ('max_depth', 14),\n",
    "             ('n_estimators', 873),\n",
    "             ('reg_alpha', 98.05562626781331),\n",
    "             ('reg_lambda', 13),\n",
    "             ('subsample', 0.10147326463495382)])\n"
   ]
  },
  {
   "cell_type": "code",
   "execution_count": 25,
   "metadata": {},
   "outputs": [
    {
     "name": "stdout",
     "output_type": "stream",
     "text": [
      "XGBoost_classifier took 27373.99 seconds,  candidates checked: 2, best CV score: 0.999 ± 0.002\n",
      "Best parameters:\n",
      "OrderedDict([('colsample_bytree', 0.629185830986374),\n",
      "             ('gamma', 97.89036584265726),\n",
      "             ('learning_rate', 0.9093539899332748),\n",
      "             ('max_depth', 13),\n",
      "             ('n_estimators', 336),\n",
      "             ('reg_alpha', 16.27824954246273),\n",
      "             ('reg_lambda', 77),\n",
      "             ('subsample', 0.6208182237087633)])\n",
      "\n"
     ]
    }
   ],
   "source": [
    "# Running the optimizer # using the first search space\n",
    "\n",
    "overdone_control = DeltaYStopper(delta=0.0001)                    # We stop if the gain of the optimization becomes too small\n",
    "time_limit_control = DeadlineStopper(total_time=60*60*4)          # We impose a time limit (1 hours)\n",
    "\n",
    "best_param4s = report_perf(baye_opt, X_train, y_train,'XGBoost_classifier', \n",
    "                          callbacks=[overdone_control, time_limit_control])"
   ]
  },
  {
   "cell_type": "code",
   "execution_count": null,
   "metadata": {},
   "outputs": [],
   "source": [
    "XGBoost_classifier took 27373.99 seconds,  candidates checked: 2, best CV score: 0.999 ± 0.002\n",
    "Best parameters:\n",
    "OrderedDict([('colsample_bytree', 0.629185830986374),\n",
    "             ('gamma', 97.89036584265726),\n",
    "             ('learning_rate', 0.9093539899332748),\n",
    "             ('max_depth', 13),\n",
    "             ('n_estimators', 336),\n",
    "             ('reg_alpha', 16.27824954246273),\n",
    "             ('reg_lambda', 77),\n",
    "             ('subsample', 0.6208182237087633)])"
   ]
  },
  {
   "cell_type": "code",
   "execution_count": null,
   "metadata": {},
   "outputs": [],
   "source": [
    "OrderedDict([('colsample_bytree', 0.629185830986374),\n",
    "             ('gamma', 97.89036584265726),\n",
    "             ('learning_rate', 0.9093539899332748),\n",
    "             ('max_depth', 13),\n",
    "             ('n_estimators', 336),\n",
    "             ('reg_alpha', 16.27824954246273),\n",
    "             ('reg_lambda', 77),\n",
    "             ('subsample', 0.6208182237087633)])"
   ]
  },
  {
   "cell_type": "code",
   "execution_count": 30,
   "metadata": {},
   "outputs": [],
   "source": [
    "model = XGBClassifier(colsample_bytree =  0.629185830986374,\n",
    "                      gamma = 97.89036584265726,\n",
    "                      learning_rate = 0.9093539899332748,\n",
    "                      max_depth = 13,\n",
    "                      n_estimators = 336,\n",
    "                      reg_alpha = 16.27824954246273,\n",
    "                      reg_lambda = 77,\n",
    "                      subsample = 0.6208182237087633, \n",
    "                      eval_metric = 'auc')"
   ]
  },
  {
   "cell_type": "code",
   "execution_count": null,
   "metadata": {},
   "outputs": [],
   "source": [
    "# Transferring the best parameters to our basic regressor\n",
    "# reg = XGBRegressor(random_state=0, booster='gbtree', objective='reg:squarederror', tree_method='gpu_hist', **best_params)\n",
    "#clf = XGBClassifier(random_state=0, \n",
    "#                    booster='gbtree', \n",
    "#                    eval_metric = 'auc',\n",
    " #                   objective='binary:logistic', \n",
    "  #                  tree_method='approx', verbosity = 0)#"
   ]
  },
  {
   "cell_type": "code",
   "execution_count": null,
   "metadata": {},
   "outputs": [],
   "source": [
    "model.fit(X_train, y_train)"
   ]
  },
  {
   "cell_type": "code",
   "execution_count": 28,
   "metadata": {},
   "outputs": [
    {
     "name": "stdout",
     "output_type": "stream",
     "text": [
      "[[1396415      23]\n",
      " [     89     279]]\n"
     ]
    },
    {
     "data": {
      "text/plain": [
       "0.8328358208955225"
      ]
     },
     "execution_count": 28,
     "metadata": {},
     "output_type": "execute_result"
    }
   ],
   "source": [
    "model.fit(X_train, y_train)\n",
    "y_pred = model.predict(X_test)\n",
    "from sklearn.metrics import classification_report\n",
    "from sklearn import metrics\n",
    "print(confusion_matrix(y_test,y_pred))\n",
    "\n",
    "f1_score = metrics.f1_score(y_true = y_test, y_pred = y_pred)\n",
    "precision_score = metrics.precision_score(y_true = y_test, y_pred = y_pred)\n",
    "recall_score = metrics.recall_score(y_true = y_test, y_pred = y_pred)\n",
    "\n",
    "f1_score"
   ]
  },
  {
   "cell_type": "code",
   "execution_count": 26,
   "metadata": {},
   "outputs": [],
   "source": [
    "unoptimised_model = XGBClassifier()"
   ]
  },
  {
   "cell_type": "code",
   "execution_count": 27,
   "metadata": {},
   "outputs": [
    {
     "data": {
      "text/plain": [
       "XGBClassifier(base_score=None, booster=None, callbacks=None,\n",
       "              colsample_bylevel=None, colsample_bynode=None,\n",
       "              colsample_bytree=None, early_stopping_rounds=None,\n",
       "              enable_categorical=False, eval_metric=None, feature_types=None,\n",
       "              gamma=None, gpu_id=None, grow_policy=None, importance_type=None,\n",
       "              interaction_constraints=None, learning_rate=None, max_bin=None,\n",
       "              max_cat_threshold=None, max_cat_to_onehot=None,\n",
       "              max_delta_step=None, max_depth=None, max_leaves=None,\n",
       "              min_child_weight=None, missing=nan, monotone_constraints=None,\n",
       "              n_estimators=100, n_jobs=None, num_parallel_tree=None,\n",
       "              predictor=None, random_state=None, ...)"
      ]
     },
     "execution_count": 27,
     "metadata": {},
     "output_type": "execute_result"
    }
   ],
   "source": [
    "unoptimised_model.fit(X_train, y_train, n_jobs = -1)"
   ]
  },
  {
   "cell_type": "code",
   "execution_count": 29,
   "metadata": {},
   "outputs": [
    {
     "name": "stdout",
     "output_type": "stream",
     "text": [
      "[[1396401      37]\n",
      " [     46     322]]\n"
     ]
    },
    {
     "data": {
      "text/plain": [
       "0.8858321870701513"
      ]
     },
     "execution_count": 29,
     "metadata": {},
     "output_type": "execute_result"
    }
   ],
   "source": [
    "y_pred_u = unoptimised_model.predict(X_test)\n",
    "from sklearn.metrics import classification_report\n",
    "from sklearn import metrics\n",
    "print(confusion_matrix(y_test,y_pred_u))\n",
    "\n",
    "f1_score_u = metrics.f1_score(y_true = y_test, y_pred = y_pred_u)\n",
    "precision_score_u = metrics.precision_score(y_true = y_test, y_pred = y_pred_u)\n",
    "recall_score_u = metrics.recall_score(y_true = y_test, y_pred = y_pred_u)\n",
    "\n",
    "f1_score_u\n"
   ]
  },
  {
   "cell_type": "code",
   "execution_count": 24,
   "metadata": {},
   "outputs": [
    {
     "name": "stdout",
     "output_type": "stream",
     "text": [
      "[[1396415      23]\n",
      " [     89     279]]\n",
      "              precision    recall  f1-score   support\n",
      "\n",
      "         0.0       1.00      1.00      1.00   1396438\n",
      "         1.0       0.92      0.76      0.83       368\n",
      "\n",
      "    accuracy                           1.00   1396806\n",
      "   macro avg       0.96      0.88      0.92   1396806\n",
      "weighted avg       1.00      1.00      1.00   1396806\n",
      "\n"
     ]
    }
   ],
   "source": [
    "y_pred = model.predict(X_test)\n",
    "# evaluate model performance # for syn1 dataset \n",
    "from sklearn.metrics import classification_report,confusion_matrix\n",
    "print(confusion_matrix(y_test,y_pred))\n",
    "print(classification_report(y_test,y_pred))"
   ]
  },
  {
   "cell_type": "code",
   "execution_count": null,
   "metadata": {},
   "outputs": [],
   "source": []
  },
  {
   "cell_type": "code",
   "execution_count": null,
   "metadata": {},
   "outputs": [],
   "source": [
    " search_spaces = {\n",
    "        'learning_rate': (0.01, 1.0, 'log-uniform'),\n",
    "        'min_child_weight': (0, 10),\n",
    "        'max_depth': (0, 50),\n",
    "        'max_delta_step': (0, 20),\n",
    "        'subsample': (0.01, 1.0, 'uniform'),\n",
    "        'colsample_bytree': (0.01, 1.0, 'uniform'),\n",
    "        'colsample_bylevel': (0.01, 1.0, 'uniform'),\n",
    "        'reg_lambda': (1e-9, 1000, 'log-uniform'),\n",
    "        'reg_alpha': (1e-9, 1.0, 'log-uniform'),\n",
    "        'gamma': (1e-9, 0.5, 'log-uniform'),\n",
    "        'min_child_weight': (0, 5),\n",
    "        'n_estimators': (50, 100)}"
   ]
  },
  {
   "cell_type": "code",
   "execution_count": null,
   "metadata": {},
   "outputs": [],
   "source": []
  },
  {
   "cell_type": "code",
   "execution_count": null,
   "metadata": {},
   "outputs": [],
   "source": []
  },
  {
   "cell_type": "code",
   "execution_count": 21,
   "metadata": {},
   "outputs": [],
   "source": [
    "# Setting the search space\n",
    "search_spaces = {'learning_rate': Real(0.01, 1.0, 'uniform'),\n",
    "                 'max_depth': Integer(2, 12),\n",
    "                 'subsample': Real(0.1, 1.0, 'uniform'),\n",
    "                 'colsample_bytree': Real(0.1, 1.0, 'uniform'), # subsample ratio of columns by tree\n",
    "                 'reg_lambda': Real(1e-9, 100., 'uniform'), # L2 regularization\n",
    "                 'reg_alpha': Real(1e-9, 100., 'uniform'), # L1 regularization\n",
    "                 'n_estimators': Integer(50, 5000)\n",
    "   }"
   ]
  },
  {
   "cell_type": "code",
   "execution_count": null,
   "metadata": {},
   "outputs": [],
   "source": []
  },
  {
   "cell_type": "code",
   "execution_count": null,
   "metadata": {},
   "outputs": [],
   "source": []
  },
  {
   "cell_type": "code",
   "execution_count": null,
   "metadata": {},
   "outputs": [],
   "source": []
  },
  {
   "cell_type": "code",
   "execution_count": null,
   "metadata": {},
   "outputs": [],
   "source": [
    "# Running the optimizer # using the first search space\n",
    "\n",
    "overdone_control = DeltaYStopper(delta=0.0001)                    # We stop if the gain of the optimization becomes too small\n",
    "time_limit_control = DeadlineStopper(total_time=60*60*4)          # We impose a time limit (1 hours)\n",
    "\n",
    "best_param4s = report_perf(baye_opt, X_train, y_train,'XGBoost_classifier', \n",
    "                          callbacks=[overdone_control, time_limit_control])"
   ]
  },
  {
   "cell_type": "code",
   "execution_count": null,
   "metadata": {},
   "outputs": [],
   "source": []
  },
  {
   "cell_type": "code",
   "execution_count": null,
   "metadata": {},
   "outputs": [],
   "source": []
  },
  {
   "cell_type": "code",
   "execution_count": null,
   "metadata": {},
   "outputs": [],
   "source": []
  },
  {
   "cell_type": "code",
   "execution_count": null,
   "metadata": {},
   "outputs": [],
   "source": []
  },
  {
   "cell_type": "code",
   "execution_count": null,
   "metadata": {},
   "outputs": [],
   "source": []
  },
  {
   "cell_type": "code",
   "execution_count": null,
   "metadata": {},
   "outputs": [],
   "source": []
  },
  {
   "cell_type": "code",
   "execution_count": null,
   "metadata": {},
   "outputs": [],
   "source": []
  },
  {
   "cell_type": "code",
   "execution_count": null,
   "metadata": {},
   "outputs": [],
   "source": [
    "The value of AUC using default hyperparameter values is 0.68, which is not bad\n",
    "The tuned model AUC is 0.7416419 which is much higher than the model with default paraeters. Yeah, we have improved the model by tuning the parameters."
   ]
  },
  {
   "cell_type": "code",
   "execution_count": null,
   "metadata": {},
   "outputs": [],
   "source": [
    "X_train, X_test, y_train, y_test = train_test_split(X, y, test_size=0.3, random_state=101, stratify=y)"
   ]
  },
  {
   "cell_type": "code",
   "execution_count": null,
   "metadata": {},
   "outputs": [],
   "source": [
    "We can now get the folds using our train set. I use a repeated k-fold to get more score results:"
   ]
  },
  {
   "cell_type": "code",
   "execution_count": null,
   "metadata": {},
   "outputs": [],
   "source": [
    "cv    = RepeatedKFold(n_splits=5, n_repeats=100, random_state=101)\n",
    "folds = [(train,test) for train, test in cv.split(X_train, y_train)]"
   ]
  },
  {
   "cell_type": "code",
   "execution_count": null,
   "metadata": {},
   "outputs": [],
   "source": [
    "metrics = ['auc', 'fpr', 'tpr', 'thresholds']\n",
    "results = {\n",
    "    'train': {m:[] for m in metrics},\n",
    "    'val'  : {m:[] for m in metrics},\n",
    "    'test' : {m:[] for m in metrics}\n",
    "}"
   ]
  },
  {
   "cell_type": "code",
   "execution_count": null,
   "metadata": {},
   "outputs": [],
   "source": [
    "dtest = xgb.DMatrix(X_test, label=y_test)\n",
    "for train, test in tqdm(folds, total=len(folds)):\n",
    "    dtrain = xgb.DMatrix(X_train.iloc[train,:], label=y_train.iloc[train])\n",
    "    dval   = xgb.DMatrix(X_train.iloc[test,:], label=y_train.iloc[test])\n",
    "    model  = xgb.train(\n",
    "        dtrain                = dtrain,\n",
    "        params                = params, \n",
    "        evals                 = [(dtrain, 'train'), (dval, 'val')],\n",
    "        num_boost_round       = 1000,\n",
    "        verbose_eval          = False,\n",
    "        early_stopping_rounds = 10,\n",
    "    )\n",
    "    sets = [dtrain, dval, dtest]\n",
    "    for i,ds in enumerate(results.keys()):\n",
    "        y_preds              = model.predict(sets[i])\n",
    "        labels               = sets[i].get_label()\n",
    "        fpr, tpr, thresholds = roc_curve(labels, y_preds)\n",
    "        results[ds]['fpr'].append(fpr)\n",
    "        results[ds]['tpr'].append(tpr)\n",
    "        results[ds]['thresholds'].append(thresholds)\n",
    "        results[ds]['auc'].append(roc_auc_score(labels, y_preds))"
   ]
  },
  {
   "cell_type": "code",
   "execution_count": null,
   "metadata": {},
   "outputs": [],
   "source": []
  },
  {
   "cell_type": "code",
   "execution_count": null,
   "metadata": {},
   "outputs": [],
   "source": []
  }
 ],
 "metadata": {
  "kernelspec": {
   "display_name": "Python 3 (ipykernel)",
   "language": "python",
   "name": "python3"
  },
  "language_info": {
   "codemirror_mode": {
    "name": "ipython",
    "version": 3
   },
   "file_extension": ".py",
   "mimetype": "text/x-python",
   "name": "python",
   "nbconvert_exporter": "python",
   "pygments_lexer": "ipython3",
   "version": "3.9.12"
  },
  "vscode": {
   "interpreter": {
    "hash": "ca047435e123f1adf8ceaa4e29276b42b8cdbe924d11fa9449688af84adf0afc"
   }
  }
 },
 "nbformat": 4,
 "nbformat_minor": 2
}

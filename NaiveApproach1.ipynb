{
 "cells": [
  {
   "cell_type": "code",
   "execution_count": 96,
   "id": "7f8fdb11",
   "metadata": {},
   "outputs": [],
   "source": [
    "import allel\n",
    "import numpy as np\n",
    "import pandas as pd\n",
    "from functools import reduce\n",
    "import matplotlib.pyplot as plt \n",
    "import seaborn as sns\n",
    "from numpy import nan\n",
    "import glob\n",
    "from sklearn import metrics"
   ]
  },
  {
   "cell_type": "code",
   "execution_count": 202,
   "id": "938f23f8",
   "metadata": {},
   "outputs": [],
   "source": [
    "def naive1(folder_path):\n",
    "    features = ['CHROM','POS','is_snp']\n",
    "    lst_df = []\n",
    "    for filename in glob.glob(folder_path + '/*vcf.gz'):\n",
    "        df = allel.vcf_to_dataframe(filename, fields = features)\n",
    "        df = df[df.is_snp == True]\n",
    "        lst_df.append(df)\n",
    "        \n",
    "    suffix = ['vs','fb','m2','vd']\n",
    "    keep_same = {'CHROM', 'POS'}\n",
    "    i =0 \n",
    "    for dfs in lst_df:\n",
    "        dfs.columns = ['{}{}'.format(c, '' if c in keep_same else '_'+suffix[i]) for c in dfs.columns]\n",
    "        i += 1\n",
    "        \n",
    "    merged_df = reduce(lambda left, right: pd.merge(left, right,on =['CHROM', 'POS'],\n",
    "                                            how = 'outer', suffixes = ('', '')),lst_df)\n",
    "    \n",
    "    df = merged_df[merged_df[['is_snp_vd','is_snp_fb','is_snp_m2','is_snp_vs']].isnull().sum(axis=1) < 3]\n",
    "    df['end']= df['POS']\n",
    "    \n",
    "    return df"
   ]
  },
  {
   "cell_type": "code",
   "execution_count": 146,
   "id": "c3e97046",
   "metadata": {},
   "outputs": [],
   "source": [
    "# for bed file input \n",
    "def getF1(pred_file, truth_file):\n",
    "    gt_pred = pd.read_csv(pred_file, sep = \"\\t\", names = ['Chromo', 'start', 'end'])\n",
    "    gt_pred['pred'] = 1\n",
    "    gt_truth = pd.read_csv(truth_file, sep = \"\\t\", names = ['Chromo', 'start', 'end'])\n",
    "    gt_truth['truth'] = 1\n",
    "    combined = gt_truth.merge(gt_pred, on=['Chromo', 'start'], how='outer')\n",
    "    combined['truth'].fillna(0, inplace=True)\n",
    "    combined['pred'].fillna(0, inplace=True)\n",
    "    f1_score = metrics.f1_score(y_true = combined['truth'], y_pred = combined['pred'])\n",
    "    score = metrics.precision_recall_fscore_support(y_true = combined['truth'], y_pred = combined['pred'])\n",
    "    print(f'F1-score:{f1_score}')\n",
    "    print(f'Overall:{score}')"
   ]
  },
  {
   "cell_type": "code",
   "execution_count": 217,
   "id": "1f6c023e",
   "metadata": {},
   "outputs": [],
   "source": [
    "def getF1(pred_df, truth_file):\n",
    "    pred_df['pred'] = 1\n",
    "    gt_truth = pd.read_csv(truth_file, sep = \"\\t\", names = ['Chromo', 'start', 'end'])\n",
    "    gt_truth['truth'] = 1\n",
    "    gt_truth['Chromo'] = gt_truth['Chromo'].astype(str)\n",
    "    combined = gt_truth.merge(pred_df, on=['Chromo', 'start'], how='outer')\n",
    "    combined['truth'].fillna(0, inplace=True)\n",
    "    combined['pred'].fillna(0, inplace=True)\n",
    "    f1_score = metrics.f1_score(y_true = combined['truth'], y_pred = combined['pred'])\n",
    "    precision_score = metrics.precision_score(y_true = combined['truth'], y_pred = combined['pred'])\n",
    "    recall_score = metrics.recall_score(y_true = combined['truth'], y_pred = combined['pred'])\n",
    "\n",
    "\n",
    "    print(f'F1-score: {f1_score}')\n",
    "    print(f'Precision: {precision_score}')\n",
    "    print(f'Recall: {recall_score}')"
   ]
  },
  {
   "cell_type": "code",
   "execution_count": 218,
   "id": "10a45615",
   "metadata": {},
   "outputs": [
    {
     "name": "stdout",
     "output_type": "stream",
     "text": [
      "real1\n",
      "F1-score: 0.0006200159752311822\n",
      "Precision: 0.00031010967487475003\n",
      "Recall: 0.9454131918119788\n",
      "syn1\n",
      "F1-score: 0.001740502966811346\n",
      "Precision: 0.0008710127117900053\n",
      "Recall: 0.9957591178965225\n",
      "syn2\n",
      "F1-score: 0.0020651890382280746\n",
      "Precision: 0.0010336690735966135\n",
      "Recall: 0.9933056325023084\n"
     ]
    },
    {
     "ename": "TypeError",
     "evalue": "reduce() of empty sequence with no initial value",
     "output_type": "error",
     "traceback": [
      "\u001b[0;31m---------------------------------------------------------------------------\u001b[0m",
      "\u001b[0;31mTypeError\u001b[0m                                 Traceback (most recent call last)",
      "Input \u001b[0;32mIn [218]\u001b[0m, in \u001b[0;36m<cell line: 3>\u001b[0;34m()\u001b[0m\n\u001b[1;32m      2\u001b[0m dataset_lst \u001b[38;5;241m=\u001b[39m [\u001b[38;5;124m'\u001b[39m\u001b[38;5;124mreal1\u001b[39m\u001b[38;5;124m'\u001b[39m, \u001b[38;5;124m'\u001b[39m\u001b[38;5;124msyn1\u001b[39m\u001b[38;5;124m'\u001b[39m, \u001b[38;5;124m'\u001b[39m\u001b[38;5;124msyn2\u001b[39m\u001b[38;5;124m'\u001b[39m, \u001b[38;5;124m'\u001b[39m\u001b[38;5;124msyn3\u001b[39m\u001b[38;5;124m'\u001b[39m, \u001b[38;5;124m'\u001b[39m\u001b[38;5;124msyn4\u001b[39m\u001b[38;5;124m'\u001b[39m, \u001b[38;5;124m'\u001b[39m\u001b[38;5;124msyn5\u001b[39m\u001b[38;5;124m'\u001b[39m]\n\u001b[1;32m      3\u001b[0m \u001b[38;5;28;01mfor\u001b[39;00m dataset \u001b[38;5;129;01min\u001b[39;00m dataset_lst:\n\u001b[0;32m----> 4\u001b[0m     df \u001b[38;5;241m=\u001b[39m \u001b[43mnaive1\u001b[49m\u001b[43m(\u001b[49m\u001b[43mdataset\u001b[49m\u001b[43m)\u001b[49m\n\u001b[1;32m      5\u001b[0m     df \u001b[38;5;241m=\u001b[39m df[[\u001b[38;5;124m'\u001b[39m\u001b[38;5;124mCHROM\u001b[39m\u001b[38;5;124m'\u001b[39m,\u001b[38;5;124m'\u001b[39m\u001b[38;5;124mPOS\u001b[39m\u001b[38;5;124m'\u001b[39m]]\n\u001b[1;32m      6\u001b[0m     df\u001b[38;5;241m.\u001b[39mrename(columns \u001b[38;5;241m=\u001b[39m {\u001b[38;5;124m'\u001b[39m\u001b[38;5;124mCHROM\u001b[39m\u001b[38;5;124m'\u001b[39m:\u001b[38;5;124m'\u001b[39m\u001b[38;5;124mChromo\u001b[39m\u001b[38;5;124m'\u001b[39m, \u001b[38;5;124m'\u001b[39m\u001b[38;5;124mPOS\u001b[39m\u001b[38;5;124m'\u001b[39m:\u001b[38;5;124m'\u001b[39m\u001b[38;5;124mstart\u001b[39m\u001b[38;5;124m'\u001b[39m}, inplace \u001b[38;5;241m=\u001b[39m \u001b[38;5;28;01mTrue\u001b[39;00m)\n",
      "Input \u001b[0;32mIn [202]\u001b[0m, in \u001b[0;36mnaive1\u001b[0;34m(folder_path)\u001b[0m\n\u001b[1;32m     13\u001b[0m     dfs\u001b[38;5;241m.\u001b[39mcolumns \u001b[38;5;241m=\u001b[39m [\u001b[38;5;124m'\u001b[39m\u001b[38;5;132;01m{}\u001b[39;00m\u001b[38;5;132;01m{}\u001b[39;00m\u001b[38;5;124m'\u001b[39m\u001b[38;5;241m.\u001b[39mformat(c, \u001b[38;5;124m'\u001b[39m\u001b[38;5;124m'\u001b[39m \u001b[38;5;28;01mif\u001b[39;00m c \u001b[38;5;129;01min\u001b[39;00m keep_same \u001b[38;5;28;01melse\u001b[39;00m \u001b[38;5;124m'\u001b[39m\u001b[38;5;124m_\u001b[39m\u001b[38;5;124m'\u001b[39m\u001b[38;5;241m+\u001b[39msuffix[i]) \u001b[38;5;28;01mfor\u001b[39;00m c \u001b[38;5;129;01min\u001b[39;00m dfs\u001b[38;5;241m.\u001b[39mcolumns]\n\u001b[1;32m     14\u001b[0m     i \u001b[38;5;241m+\u001b[39m\u001b[38;5;241m=\u001b[39m \u001b[38;5;241m1\u001b[39m\n\u001b[0;32m---> 16\u001b[0m merged_df \u001b[38;5;241m=\u001b[39m \u001b[43mreduce\u001b[49m\u001b[43m(\u001b[49m\u001b[38;5;28;43;01mlambda\u001b[39;49;00m\u001b[43m \u001b[49m\u001b[43mleft\u001b[49m\u001b[43m,\u001b[49m\u001b[43m \u001b[49m\u001b[43mright\u001b[49m\u001b[43m:\u001b[49m\u001b[43m \u001b[49m\u001b[43mpd\u001b[49m\u001b[38;5;241;43m.\u001b[39;49m\u001b[43mmerge\u001b[49m\u001b[43m(\u001b[49m\u001b[43mleft\u001b[49m\u001b[43m,\u001b[49m\u001b[43m \u001b[49m\u001b[43mright\u001b[49m\u001b[43m,\u001b[49m\u001b[43mon\u001b[49m\u001b[43m \u001b[49m\u001b[38;5;241;43m=\u001b[39;49m\u001b[43m[\u001b[49m\u001b[38;5;124;43m'\u001b[39;49m\u001b[38;5;124;43mCHROM\u001b[39;49m\u001b[38;5;124;43m'\u001b[39;49m\u001b[43m,\u001b[49m\u001b[43m \u001b[49m\u001b[38;5;124;43m'\u001b[39;49m\u001b[38;5;124;43mPOS\u001b[39;49m\u001b[38;5;124;43m'\u001b[39;49m\u001b[43m]\u001b[49m\u001b[43m,\u001b[49m\n\u001b[1;32m     17\u001b[0m \u001b[43m                                        \u001b[49m\u001b[43mhow\u001b[49m\u001b[43m \u001b[49m\u001b[38;5;241;43m=\u001b[39;49m\u001b[43m \u001b[49m\u001b[38;5;124;43m'\u001b[39;49m\u001b[38;5;124;43mouter\u001b[39;49m\u001b[38;5;124;43m'\u001b[39;49m\u001b[43m,\u001b[49m\u001b[43m \u001b[49m\u001b[43msuffixes\u001b[49m\u001b[43m \u001b[49m\u001b[38;5;241;43m=\u001b[39;49m\u001b[43m \u001b[49m\u001b[43m(\u001b[49m\u001b[38;5;124;43m'\u001b[39;49m\u001b[38;5;124;43m'\u001b[39;49m\u001b[43m,\u001b[49m\u001b[43m \u001b[49m\u001b[38;5;124;43m'\u001b[39;49m\u001b[38;5;124;43m'\u001b[39;49m\u001b[43m)\u001b[49m\u001b[43m)\u001b[49m\u001b[43m,\u001b[49m\u001b[43mlst_df\u001b[49m\u001b[43m)\u001b[49m\n\u001b[1;32m     19\u001b[0m df \u001b[38;5;241m=\u001b[39m merged_df[merged_df[[\u001b[38;5;124m'\u001b[39m\u001b[38;5;124mis_snp_vd\u001b[39m\u001b[38;5;124m'\u001b[39m,\u001b[38;5;124m'\u001b[39m\u001b[38;5;124mis_snp_fb\u001b[39m\u001b[38;5;124m'\u001b[39m,\u001b[38;5;124m'\u001b[39m\u001b[38;5;124mis_snp_m2\u001b[39m\u001b[38;5;124m'\u001b[39m,\u001b[38;5;124m'\u001b[39m\u001b[38;5;124mis_snp_vs\u001b[39m\u001b[38;5;124m'\u001b[39m]]\u001b[38;5;241m.\u001b[39misnull()\u001b[38;5;241m.\u001b[39msum(axis\u001b[38;5;241m=\u001b[39m\u001b[38;5;241m1\u001b[39m) \u001b[38;5;241m<\u001b[39m \u001b[38;5;241m3\u001b[39m]\n\u001b[1;32m     20\u001b[0m df[\u001b[38;5;124m'\u001b[39m\u001b[38;5;124mend\u001b[39m\u001b[38;5;124m'\u001b[39m]\u001b[38;5;241m=\u001b[39m df[\u001b[38;5;124m'\u001b[39m\u001b[38;5;124mPOS\u001b[39m\u001b[38;5;124m'\u001b[39m]\n",
      "\u001b[0;31mTypeError\u001b[0m: reduce() of empty sequence with no initial value"
     ]
    }
   ],
   "source": [
    "# I have not downloaded syn3 \n",
    "pd.options.mode.chained_assignment = None\n",
    "dataset_lst = ['real1', 'syn1', 'syn2', 'syn3', 'syn4', 'syn5', 'real2_part1']\n",
    "for dataset in dataset_lst:\n",
    "    df = naive1(dataset)\n",
    "    df = df[['CHROM','POS']]\n",
    "    df.rename(columns = {'CHROM':'Chromo', 'POS':'start'}, inplace = True)\n",
    "    print(dataset)\n",
    "    if dataset == 'real2_part1':\n",
    "        getF1(df, f'{dataset}/{dataset}_truth_chr1to5.bed')\n",
    "    else:\n",
    "        getF1(df, f'{dataset}/{dataset}_truth.bed')\n",
    "    "
   ]
  }
 ],
 "metadata": {
  "kernelspec": {
   "display_name": "Python 3 (ipykernel)",
   "language": "python",
   "name": "python3"
  },
  "language_info": {
   "codemirror_mode": {
    "name": "ipython",
    "version": 3
   },
   "file_extension": ".py",
   "mimetype": "text/x-python",
   "name": "python",
   "nbconvert_exporter": "python",
   "pygments_lexer": "ipython3",
   "version": "3.9.12"
  }
 },
 "nbformat": 4,
 "nbformat_minor": 5
}
